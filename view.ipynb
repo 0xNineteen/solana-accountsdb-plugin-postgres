{
 "cells": [
  {
   "cell_type": "code",
   "execution_count": 46,
   "metadata": {},
   "outputs": [
    {
     "data": {
      "text/plain": [
       "91"
      ]
     },
     "execution_count": 46,
     "metadata": {},
     "output_type": "execute_result"
    }
   ],
   "source": [
    "import pandas as pd \n",
    "from pathlib import Path\n",
    "pd.options.plotting.backend = \"plotly\"\n",
    "\n",
    "# experiment = Path('ifstake/trial_spread_1000')\n",
    "experiment = Path('if_stake/trial_no_oracle_guards')\n",
    "# experiment = Path('add_open_remove_close/trial_spread_1000')\n",
    "def experiment_path(file_name):\n",
    "    return '../experiments/results/'/experiment/f'{file_name}.csv'\n",
    "\n",
    "market = pd.read_csv(experiment_path('perp_market_0'))\n",
    "len(market)"
   ]
  },
  {
   "cell_type": "code",
   "execution_count": 47,
   "metadata": {},
   "outputs": [
    {
     "name": "stdout",
     "output_type": "stream",
     "text": [
      "resolve_perp_bankruptcy compute \n",
      "\tmean: 79,048 max: 88,378\n"
     ]
    }
   ],
   "source": [
    "ix_logs = pd.read_csv(experiment_path('ix_logs'))\n",
    "ix_names = ix_logs['ix_name'].unique()\n",
    "for ix in ix_names:\n",
    "    df = ix_logs[ix_logs['ix_name'] == ix]['compute']\n",
    "    v = df.mean()\n",
    "    v2 = df.max()\n",
    "    if v != -1: \n",
    "        print(ix, f'compute \\n\\tmean: {v:,.0f} max: {v2:,.0f}')"
   ]
  },
  {
   "cell_type": "code",
   "execution_count": 49,
   "metadata": {},
   "outputs": [
    {
     "data": {
      "application/vnd.plotly.v1+json": {
       "config": {
        "plotlyServerURL": "https://plot.ly"
       },
       "data": [
        {
         "hovertemplate": "variable=spot_market.insurance_fund.total_shares<br>index=%{x}<br>value=%{y}<extra></extra>",
         "legendgroup": "spot_market.insurance_fund.total_shares",
         "line": {
          "color": "#636efa",
          "dash": "solid"
         },
         "marker": {
          "symbol": "circle"
         },
         "mode": "lines",
         "name": "spot_market.insurance_fund.total_shares",
         "orientation": "v",
         "showlegend": true,
         "type": "scatter",
         "x": [
          0,
          1,
          2,
          3,
          4,
          5,
          6,
          7,
          8,
          9,
          10,
          11,
          12,
          13,
          14,
          15,
          16,
          17,
          18,
          19,
          20,
          21,
          22,
          23,
          24,
          25,
          26,
          27,
          28,
          29,
          30,
          31,
          32,
          33,
          34,
          35,
          36,
          37,
          38,
          39,
          40,
          41,
          42,
          43,
          44,
          45,
          46,
          47,
          48,
          49,
          50,
          51,
          52,
          53,
          54,
          55,
          56,
          57,
          58,
          59,
          60,
          61,
          62,
          63,
          64,
          65,
          66,
          67,
          68,
          69,
          70,
          71,
          72,
          73
         ],
         "xaxis": "x",
         "y": [
          0,
          0,
          0,
          0,
          0,
          0,
          0,
          0,
          0,
          0,
          0,
          0,
          0,
          100000000,
          200000000,
          300000000,
          400000000,
          500000000,
          600000000,
          700000000,
          800000000,
          900000000,
          1000000000,
          1000000000,
          1000000000,
          1000000000,
          1000000000,
          1000000000,
          1000000000,
          1000000000,
          1000000000,
          1000000000,
          1000000000,
          1000000000,
          1000000000,
          1000000000,
          1000000000,
          1000000000,
          1000000000,
          1000000000,
          1000000000,
          1000000000,
          1000000000,
          1000000000,
          1000000000,
          1000000000,
          1000000000,
          1000000000,
          1000000000,
          1000000000,
          1000000000,
          1000000000,
          1000000000,
          1000000000,
          1000000000,
          1000000000,
          1000000000,
          1000000010,
          2000000010,
          3000000010,
          4000000010,
          5000000010,
          5000000010,
          6000000010,
          7000000010,
          8000000010,
          8000000010,
          9000000010,
          10000000010,
          10000000010,
          10000000010,
          10000000010,
          10000000010,
          10000000010
         ],
         "yaxis": "y"
        }
       ],
       "layout": {
        "legend": {
         "title": {
          "text": "variable"
         },
         "tracegroupgap": 0
        },
        "margin": {
         "t": 60
        },
        "template": {
         "data": {
          "bar": [
           {
            "error_x": {
             "color": "#2a3f5f"
            },
            "error_y": {
             "color": "#2a3f5f"
            },
            "marker": {
             "line": {
              "color": "#E5ECF6",
              "width": 0.5
             },
             "pattern": {
              "fillmode": "overlay",
              "size": 10,
              "solidity": 0.2
             }
            },
            "type": "bar"
           }
          ],
          "barpolar": [
           {
            "marker": {
             "line": {
              "color": "#E5ECF6",
              "width": 0.5
             },
             "pattern": {
              "fillmode": "overlay",
              "size": 10,
              "solidity": 0.2
             }
            },
            "type": "barpolar"
           }
          ],
          "carpet": [
           {
            "aaxis": {
             "endlinecolor": "#2a3f5f",
             "gridcolor": "white",
             "linecolor": "white",
             "minorgridcolor": "white",
             "startlinecolor": "#2a3f5f"
            },
            "baxis": {
             "endlinecolor": "#2a3f5f",
             "gridcolor": "white",
             "linecolor": "white",
             "minorgridcolor": "white",
             "startlinecolor": "#2a3f5f"
            },
            "type": "carpet"
           }
          ],
          "choropleth": [
           {
            "colorbar": {
             "outlinewidth": 0,
             "ticks": ""
            },
            "type": "choropleth"
           }
          ],
          "contour": [
           {
            "colorbar": {
             "outlinewidth": 0,
             "ticks": ""
            },
            "colorscale": [
             [
              0,
              "#0d0887"
             ],
             [
              0.1111111111111111,
              "#46039f"
             ],
             [
              0.2222222222222222,
              "#7201a8"
             ],
             [
              0.3333333333333333,
              "#9c179e"
             ],
             [
              0.4444444444444444,
              "#bd3786"
             ],
             [
              0.5555555555555556,
              "#d8576b"
             ],
             [
              0.6666666666666666,
              "#ed7953"
             ],
             [
              0.7777777777777778,
              "#fb9f3a"
             ],
             [
              0.8888888888888888,
              "#fdca26"
             ],
             [
              1,
              "#f0f921"
             ]
            ],
            "type": "contour"
           }
          ],
          "contourcarpet": [
           {
            "colorbar": {
             "outlinewidth": 0,
             "ticks": ""
            },
            "type": "contourcarpet"
           }
          ],
          "heatmap": [
           {
            "colorbar": {
             "outlinewidth": 0,
             "ticks": ""
            },
            "colorscale": [
             [
              0,
              "#0d0887"
             ],
             [
              0.1111111111111111,
              "#46039f"
             ],
             [
              0.2222222222222222,
              "#7201a8"
             ],
             [
              0.3333333333333333,
              "#9c179e"
             ],
             [
              0.4444444444444444,
              "#bd3786"
             ],
             [
              0.5555555555555556,
              "#d8576b"
             ],
             [
              0.6666666666666666,
              "#ed7953"
             ],
             [
              0.7777777777777778,
              "#fb9f3a"
             ],
             [
              0.8888888888888888,
              "#fdca26"
             ],
             [
              1,
              "#f0f921"
             ]
            ],
            "type": "heatmap"
           }
          ],
          "heatmapgl": [
           {
            "colorbar": {
             "outlinewidth": 0,
             "ticks": ""
            },
            "colorscale": [
             [
              0,
              "#0d0887"
             ],
             [
              0.1111111111111111,
              "#46039f"
             ],
             [
              0.2222222222222222,
              "#7201a8"
             ],
             [
              0.3333333333333333,
              "#9c179e"
             ],
             [
              0.4444444444444444,
              "#bd3786"
             ],
             [
              0.5555555555555556,
              "#d8576b"
             ],
             [
              0.6666666666666666,
              "#ed7953"
             ],
             [
              0.7777777777777778,
              "#fb9f3a"
             ],
             [
              0.8888888888888888,
              "#fdca26"
             ],
             [
              1,
              "#f0f921"
             ]
            ],
            "type": "heatmapgl"
           }
          ],
          "histogram": [
           {
            "marker": {
             "pattern": {
              "fillmode": "overlay",
              "size": 10,
              "solidity": 0.2
             }
            },
            "type": "histogram"
           }
          ],
          "histogram2d": [
           {
            "colorbar": {
             "outlinewidth": 0,
             "ticks": ""
            },
            "colorscale": [
             [
              0,
              "#0d0887"
             ],
             [
              0.1111111111111111,
              "#46039f"
             ],
             [
              0.2222222222222222,
              "#7201a8"
             ],
             [
              0.3333333333333333,
              "#9c179e"
             ],
             [
              0.4444444444444444,
              "#bd3786"
             ],
             [
              0.5555555555555556,
              "#d8576b"
             ],
             [
              0.6666666666666666,
              "#ed7953"
             ],
             [
              0.7777777777777778,
              "#fb9f3a"
             ],
             [
              0.8888888888888888,
              "#fdca26"
             ],
             [
              1,
              "#f0f921"
             ]
            ],
            "type": "histogram2d"
           }
          ],
          "histogram2dcontour": [
           {
            "colorbar": {
             "outlinewidth": 0,
             "ticks": ""
            },
            "colorscale": [
             [
              0,
              "#0d0887"
             ],
             [
              0.1111111111111111,
              "#46039f"
             ],
             [
              0.2222222222222222,
              "#7201a8"
             ],
             [
              0.3333333333333333,
              "#9c179e"
             ],
             [
              0.4444444444444444,
              "#bd3786"
             ],
             [
              0.5555555555555556,
              "#d8576b"
             ],
             [
              0.6666666666666666,
              "#ed7953"
             ],
             [
              0.7777777777777778,
              "#fb9f3a"
             ],
             [
              0.8888888888888888,
              "#fdca26"
             ],
             [
              1,
              "#f0f921"
             ]
            ],
            "type": "histogram2dcontour"
           }
          ],
          "mesh3d": [
           {
            "colorbar": {
             "outlinewidth": 0,
             "ticks": ""
            },
            "type": "mesh3d"
           }
          ],
          "parcoords": [
           {
            "line": {
             "colorbar": {
              "outlinewidth": 0,
              "ticks": ""
             }
            },
            "type": "parcoords"
           }
          ],
          "pie": [
           {
            "automargin": true,
            "type": "pie"
           }
          ],
          "scatter": [
           {
            "fillpattern": {
             "fillmode": "overlay",
             "size": 10,
             "solidity": 0.2
            },
            "type": "scatter"
           }
          ],
          "scatter3d": [
           {
            "line": {
             "colorbar": {
              "outlinewidth": 0,
              "ticks": ""
             }
            },
            "marker": {
             "colorbar": {
              "outlinewidth": 0,
              "ticks": ""
             }
            },
            "type": "scatter3d"
           }
          ],
          "scattercarpet": [
           {
            "marker": {
             "colorbar": {
              "outlinewidth": 0,
              "ticks": ""
             }
            },
            "type": "scattercarpet"
           }
          ],
          "scattergeo": [
           {
            "marker": {
             "colorbar": {
              "outlinewidth": 0,
              "ticks": ""
             }
            },
            "type": "scattergeo"
           }
          ],
          "scattergl": [
           {
            "marker": {
             "colorbar": {
              "outlinewidth": 0,
              "ticks": ""
             }
            },
            "type": "scattergl"
           }
          ],
          "scattermapbox": [
           {
            "marker": {
             "colorbar": {
              "outlinewidth": 0,
              "ticks": ""
             }
            },
            "type": "scattermapbox"
           }
          ],
          "scatterpolar": [
           {
            "marker": {
             "colorbar": {
              "outlinewidth": 0,
              "ticks": ""
             }
            },
            "type": "scatterpolar"
           }
          ],
          "scatterpolargl": [
           {
            "marker": {
             "colorbar": {
              "outlinewidth": 0,
              "ticks": ""
             }
            },
            "type": "scatterpolargl"
           }
          ],
          "scatterternary": [
           {
            "marker": {
             "colorbar": {
              "outlinewidth": 0,
              "ticks": ""
             }
            },
            "type": "scatterternary"
           }
          ],
          "surface": [
           {
            "colorbar": {
             "outlinewidth": 0,
             "ticks": ""
            },
            "colorscale": [
             [
              0,
              "#0d0887"
             ],
             [
              0.1111111111111111,
              "#46039f"
             ],
             [
              0.2222222222222222,
              "#7201a8"
             ],
             [
              0.3333333333333333,
              "#9c179e"
             ],
             [
              0.4444444444444444,
              "#bd3786"
             ],
             [
              0.5555555555555556,
              "#d8576b"
             ],
             [
              0.6666666666666666,
              "#ed7953"
             ],
             [
              0.7777777777777778,
              "#fb9f3a"
             ],
             [
              0.8888888888888888,
              "#fdca26"
             ],
             [
              1,
              "#f0f921"
             ]
            ],
            "type": "surface"
           }
          ],
          "table": [
           {
            "cells": {
             "fill": {
              "color": "#EBF0F8"
             },
             "line": {
              "color": "white"
             }
            },
            "header": {
             "fill": {
              "color": "#C8D4E3"
             },
             "line": {
              "color": "white"
             }
            },
            "type": "table"
           }
          ]
         },
         "layout": {
          "annotationdefaults": {
           "arrowcolor": "#2a3f5f",
           "arrowhead": 0,
           "arrowwidth": 1
          },
          "autotypenumbers": "strict",
          "coloraxis": {
           "colorbar": {
            "outlinewidth": 0,
            "ticks": ""
           }
          },
          "colorscale": {
           "diverging": [
            [
             0,
             "#8e0152"
            ],
            [
             0.1,
             "#c51b7d"
            ],
            [
             0.2,
             "#de77ae"
            ],
            [
             0.3,
             "#f1b6da"
            ],
            [
             0.4,
             "#fde0ef"
            ],
            [
             0.5,
             "#f7f7f7"
            ],
            [
             0.6,
             "#e6f5d0"
            ],
            [
             0.7,
             "#b8e186"
            ],
            [
             0.8,
             "#7fbc41"
            ],
            [
             0.9,
             "#4d9221"
            ],
            [
             1,
             "#276419"
            ]
           ],
           "sequential": [
            [
             0,
             "#0d0887"
            ],
            [
             0.1111111111111111,
             "#46039f"
            ],
            [
             0.2222222222222222,
             "#7201a8"
            ],
            [
             0.3333333333333333,
             "#9c179e"
            ],
            [
             0.4444444444444444,
             "#bd3786"
            ],
            [
             0.5555555555555556,
             "#d8576b"
            ],
            [
             0.6666666666666666,
             "#ed7953"
            ],
            [
             0.7777777777777778,
             "#fb9f3a"
            ],
            [
             0.8888888888888888,
             "#fdca26"
            ],
            [
             1,
             "#f0f921"
            ]
           ],
           "sequentialminus": [
            [
             0,
             "#0d0887"
            ],
            [
             0.1111111111111111,
             "#46039f"
            ],
            [
             0.2222222222222222,
             "#7201a8"
            ],
            [
             0.3333333333333333,
             "#9c179e"
            ],
            [
             0.4444444444444444,
             "#bd3786"
            ],
            [
             0.5555555555555556,
             "#d8576b"
            ],
            [
             0.6666666666666666,
             "#ed7953"
            ],
            [
             0.7777777777777778,
             "#fb9f3a"
            ],
            [
             0.8888888888888888,
             "#fdca26"
            ],
            [
             1,
             "#f0f921"
            ]
           ]
          },
          "colorway": [
           "#636efa",
           "#EF553B",
           "#00cc96",
           "#ab63fa",
           "#FFA15A",
           "#19d3f3",
           "#FF6692",
           "#B6E880",
           "#FF97FF",
           "#FECB52"
          ],
          "font": {
           "color": "#2a3f5f"
          },
          "geo": {
           "bgcolor": "white",
           "lakecolor": "white",
           "landcolor": "#E5ECF6",
           "showlakes": true,
           "showland": true,
           "subunitcolor": "white"
          },
          "hoverlabel": {
           "align": "left"
          },
          "hovermode": "closest",
          "mapbox": {
           "style": "light"
          },
          "paper_bgcolor": "white",
          "plot_bgcolor": "#E5ECF6",
          "polar": {
           "angularaxis": {
            "gridcolor": "white",
            "linecolor": "white",
            "ticks": ""
           },
           "bgcolor": "#E5ECF6",
           "radialaxis": {
            "gridcolor": "white",
            "linecolor": "white",
            "ticks": ""
           }
          },
          "scene": {
           "xaxis": {
            "backgroundcolor": "#E5ECF6",
            "gridcolor": "white",
            "gridwidth": 2,
            "linecolor": "white",
            "showbackground": true,
            "ticks": "",
            "zerolinecolor": "white"
           },
           "yaxis": {
            "backgroundcolor": "#E5ECF6",
            "gridcolor": "white",
            "gridwidth": 2,
            "linecolor": "white",
            "showbackground": true,
            "ticks": "",
            "zerolinecolor": "white"
           },
           "zaxis": {
            "backgroundcolor": "#E5ECF6",
            "gridcolor": "white",
            "gridwidth": 2,
            "linecolor": "white",
            "showbackground": true,
            "ticks": "",
            "zerolinecolor": "white"
           }
          },
          "shapedefaults": {
           "line": {
            "color": "#2a3f5f"
           }
          },
          "ternary": {
           "aaxis": {
            "gridcolor": "white",
            "linecolor": "white",
            "ticks": ""
           },
           "baxis": {
            "gridcolor": "white",
            "linecolor": "white",
            "ticks": ""
           },
           "bgcolor": "#E5ECF6",
           "caxis": {
            "gridcolor": "white",
            "linecolor": "white",
            "ticks": ""
           }
          },
          "title": {
           "x": 0.05
          },
          "xaxis": {
           "automargin": true,
           "gridcolor": "white",
           "linecolor": "white",
           "ticks": "",
           "title": {
            "standoff": 15
           },
           "zerolinecolor": "white",
           "zerolinewidth": 2
          },
          "yaxis": {
           "automargin": true,
           "gridcolor": "white",
           "linecolor": "white",
           "ticks": "",
           "title": {
            "standoff": 15
           },
           "zerolinecolor": "white",
           "zerolinewidth": 2
          }
         }
        },
        "xaxis": {
         "anchor": "y",
         "domain": [
          0,
          1
         ],
         "title": {
          "text": "index"
         }
        },
        "yaxis": {
         "anchor": "x",
         "domain": [
          0,
          1
         ],
         "title": {
          "text": "value"
         }
        }
       }
      }
     },
     "metadata": {},
     "output_type": "display_data"
    }
   ],
   "source": [
    "df = pd.read_csv(experiment_path('spot_market_0'))\n",
    "df['spot_market.insurance_fund.total_shares'].plot()"
   ]
  },
  {
   "cell_type": "code",
   "execution_count": 34,
   "metadata": {},
   "outputs": [
    {
     "data": {
      "application/vnd.plotly.v1+json": {
       "config": {
        "plotlyServerURL": "https://plot.ly"
       },
       "data": [
        {
         "hovertemplate": "variable=amount<br>index=%{x}<br>value=%{y}<extra></extra>",
         "legendgroup": "amount",
         "line": {
          "color": "#636efa",
          "dash": "solid"
         },
         "marker": {
          "symbol": "circle"
         },
         "mode": "lines",
         "name": "amount",
         "orientation": "v",
         "showlegend": true,
         "type": "scatter",
         "x": [
          0,
          1,
          2,
          3,
          4,
          5,
          6,
          7,
          8,
          9,
          10,
          11,
          12,
          13,
          14,
          15,
          16,
          17,
          18,
          19,
          20,
          21,
          22,
          23,
          24,
          25,
          26,
          27,
          28,
          29,
          30,
          31,
          32,
          33,
          34,
          35,
          36,
          37,
          38,
          39,
          40,
          41
         ],
         "xaxis": "x",
         "y": [
          0,
          100000000,
          200000000,
          300000000,
          400000000,
          500000000,
          600000000,
          700000000,
          800000000,
          900000000,
          1000000000,
          100001000000000,
          100001000000000,
          100001000000000,
          100001000000000,
          100001000000000,
          100001000000000,
          100001000000000,
          100001000000000,
          100001000000000,
          100001000000000,
          100001000000000,
          100001217749092,
          100001235500702,
          100001453299497,
          100001670987621,
          100001806479313,
          100001999999999,
          100001999999999,
          100001999999999,
          100001999999999,
          100001999999999,
          100001999999999,
          100001999999999,
          100001999999999,
          100001999999999,
          100001999999999,
          100001999999999,
          100001999999999,
          100001999999999,
          100001999999999,
          100002967108243
         ],
         "yaxis": "y"
        }
       ],
       "layout": {
        "legend": {
         "title": {
          "text": "variable"
         },
         "tracegroupgap": 0
        },
        "margin": {
         "t": 60
        },
        "template": {
         "data": {
          "bar": [
           {
            "error_x": {
             "color": "#2a3f5f"
            },
            "error_y": {
             "color": "#2a3f5f"
            },
            "marker": {
             "line": {
              "color": "#E5ECF6",
              "width": 0.5
             },
             "pattern": {
              "fillmode": "overlay",
              "size": 10,
              "solidity": 0.2
             }
            },
            "type": "bar"
           }
          ],
          "barpolar": [
           {
            "marker": {
             "line": {
              "color": "#E5ECF6",
              "width": 0.5
             },
             "pattern": {
              "fillmode": "overlay",
              "size": 10,
              "solidity": 0.2
             }
            },
            "type": "barpolar"
           }
          ],
          "carpet": [
           {
            "aaxis": {
             "endlinecolor": "#2a3f5f",
             "gridcolor": "white",
             "linecolor": "white",
             "minorgridcolor": "white",
             "startlinecolor": "#2a3f5f"
            },
            "baxis": {
             "endlinecolor": "#2a3f5f",
             "gridcolor": "white",
             "linecolor": "white",
             "minorgridcolor": "white",
             "startlinecolor": "#2a3f5f"
            },
            "type": "carpet"
           }
          ],
          "choropleth": [
           {
            "colorbar": {
             "outlinewidth": 0,
             "ticks": ""
            },
            "type": "choropleth"
           }
          ],
          "contour": [
           {
            "colorbar": {
             "outlinewidth": 0,
             "ticks": ""
            },
            "colorscale": [
             [
              0,
              "#0d0887"
             ],
             [
              0.1111111111111111,
              "#46039f"
             ],
             [
              0.2222222222222222,
              "#7201a8"
             ],
             [
              0.3333333333333333,
              "#9c179e"
             ],
             [
              0.4444444444444444,
              "#bd3786"
             ],
             [
              0.5555555555555556,
              "#d8576b"
             ],
             [
              0.6666666666666666,
              "#ed7953"
             ],
             [
              0.7777777777777778,
              "#fb9f3a"
             ],
             [
              0.8888888888888888,
              "#fdca26"
             ],
             [
              1,
              "#f0f921"
             ]
            ],
            "type": "contour"
           }
          ],
          "contourcarpet": [
           {
            "colorbar": {
             "outlinewidth": 0,
             "ticks": ""
            },
            "type": "contourcarpet"
           }
          ],
          "heatmap": [
           {
            "colorbar": {
             "outlinewidth": 0,
             "ticks": ""
            },
            "colorscale": [
             [
              0,
              "#0d0887"
             ],
             [
              0.1111111111111111,
              "#46039f"
             ],
             [
              0.2222222222222222,
              "#7201a8"
             ],
             [
              0.3333333333333333,
              "#9c179e"
             ],
             [
              0.4444444444444444,
              "#bd3786"
             ],
             [
              0.5555555555555556,
              "#d8576b"
             ],
             [
              0.6666666666666666,
              "#ed7953"
             ],
             [
              0.7777777777777778,
              "#fb9f3a"
             ],
             [
              0.8888888888888888,
              "#fdca26"
             ],
             [
              1,
              "#f0f921"
             ]
            ],
            "type": "heatmap"
           }
          ],
          "heatmapgl": [
           {
            "colorbar": {
             "outlinewidth": 0,
             "ticks": ""
            },
            "colorscale": [
             [
              0,
              "#0d0887"
             ],
             [
              0.1111111111111111,
              "#46039f"
             ],
             [
              0.2222222222222222,
              "#7201a8"
             ],
             [
              0.3333333333333333,
              "#9c179e"
             ],
             [
              0.4444444444444444,
              "#bd3786"
             ],
             [
              0.5555555555555556,
              "#d8576b"
             ],
             [
              0.6666666666666666,
              "#ed7953"
             ],
             [
              0.7777777777777778,
              "#fb9f3a"
             ],
             [
              0.8888888888888888,
              "#fdca26"
             ],
             [
              1,
              "#f0f921"
             ]
            ],
            "type": "heatmapgl"
           }
          ],
          "histogram": [
           {
            "marker": {
             "pattern": {
              "fillmode": "overlay",
              "size": 10,
              "solidity": 0.2
             }
            },
            "type": "histogram"
           }
          ],
          "histogram2d": [
           {
            "colorbar": {
             "outlinewidth": 0,
             "ticks": ""
            },
            "colorscale": [
             [
              0,
              "#0d0887"
             ],
             [
              0.1111111111111111,
              "#46039f"
             ],
             [
              0.2222222222222222,
              "#7201a8"
             ],
             [
              0.3333333333333333,
              "#9c179e"
             ],
             [
              0.4444444444444444,
              "#bd3786"
             ],
             [
              0.5555555555555556,
              "#d8576b"
             ],
             [
              0.6666666666666666,
              "#ed7953"
             ],
             [
              0.7777777777777778,
              "#fb9f3a"
             ],
             [
              0.8888888888888888,
              "#fdca26"
             ],
             [
              1,
              "#f0f921"
             ]
            ],
            "type": "histogram2d"
           }
          ],
          "histogram2dcontour": [
           {
            "colorbar": {
             "outlinewidth": 0,
             "ticks": ""
            },
            "colorscale": [
             [
              0,
              "#0d0887"
             ],
             [
              0.1111111111111111,
              "#46039f"
             ],
             [
              0.2222222222222222,
              "#7201a8"
             ],
             [
              0.3333333333333333,
              "#9c179e"
             ],
             [
              0.4444444444444444,
              "#bd3786"
             ],
             [
              0.5555555555555556,
              "#d8576b"
             ],
             [
              0.6666666666666666,
              "#ed7953"
             ],
             [
              0.7777777777777778,
              "#fb9f3a"
             ],
             [
              0.8888888888888888,
              "#fdca26"
             ],
             [
              1,
              "#f0f921"
             ]
            ],
            "type": "histogram2dcontour"
           }
          ],
          "mesh3d": [
           {
            "colorbar": {
             "outlinewidth": 0,
             "ticks": ""
            },
            "type": "mesh3d"
           }
          ],
          "parcoords": [
           {
            "line": {
             "colorbar": {
              "outlinewidth": 0,
              "ticks": ""
             }
            },
            "type": "parcoords"
           }
          ],
          "pie": [
           {
            "automargin": true,
            "type": "pie"
           }
          ],
          "scatter": [
           {
            "fillpattern": {
             "fillmode": "overlay",
             "size": 10,
             "solidity": 0.2
            },
            "type": "scatter"
           }
          ],
          "scatter3d": [
           {
            "line": {
             "colorbar": {
              "outlinewidth": 0,
              "ticks": ""
             }
            },
            "marker": {
             "colorbar": {
              "outlinewidth": 0,
              "ticks": ""
             }
            },
            "type": "scatter3d"
           }
          ],
          "scattercarpet": [
           {
            "marker": {
             "colorbar": {
              "outlinewidth": 0,
              "ticks": ""
             }
            },
            "type": "scattercarpet"
           }
          ],
          "scattergeo": [
           {
            "marker": {
             "colorbar": {
              "outlinewidth": 0,
              "ticks": ""
             }
            },
            "type": "scattergeo"
           }
          ],
          "scattergl": [
           {
            "marker": {
             "colorbar": {
              "outlinewidth": 0,
              "ticks": ""
             }
            },
            "type": "scattergl"
           }
          ],
          "scattermapbox": [
           {
            "marker": {
             "colorbar": {
              "outlinewidth": 0,
              "ticks": ""
             }
            },
            "type": "scattermapbox"
           }
          ],
          "scatterpolar": [
           {
            "marker": {
             "colorbar": {
              "outlinewidth": 0,
              "ticks": ""
             }
            },
            "type": "scatterpolar"
           }
          ],
          "scatterpolargl": [
           {
            "marker": {
             "colorbar": {
              "outlinewidth": 0,
              "ticks": ""
             }
            },
            "type": "scatterpolargl"
           }
          ],
          "scatterternary": [
           {
            "marker": {
             "colorbar": {
              "outlinewidth": 0,
              "ticks": ""
             }
            },
            "type": "scatterternary"
           }
          ],
          "surface": [
           {
            "colorbar": {
             "outlinewidth": 0,
             "ticks": ""
            },
            "colorscale": [
             [
              0,
              "#0d0887"
             ],
             [
              0.1111111111111111,
              "#46039f"
             ],
             [
              0.2222222222222222,
              "#7201a8"
             ],
             [
              0.3333333333333333,
              "#9c179e"
             ],
             [
              0.4444444444444444,
              "#bd3786"
             ],
             [
              0.5555555555555556,
              "#d8576b"
             ],
             [
              0.6666666666666666,
              "#ed7953"
             ],
             [
              0.7777777777777778,
              "#fb9f3a"
             ],
             [
              0.8888888888888888,
              "#fdca26"
             ],
             [
              1,
              "#f0f921"
             ]
            ],
            "type": "surface"
           }
          ],
          "table": [
           {
            "cells": {
             "fill": {
              "color": "#EBF0F8"
             },
             "line": {
              "color": "white"
             }
            },
            "header": {
             "fill": {
              "color": "#C8D4E3"
             },
             "line": {
              "color": "white"
             }
            },
            "type": "table"
           }
          ]
         },
         "layout": {
          "annotationdefaults": {
           "arrowcolor": "#2a3f5f",
           "arrowhead": 0,
           "arrowwidth": 1
          },
          "autotypenumbers": "strict",
          "coloraxis": {
           "colorbar": {
            "outlinewidth": 0,
            "ticks": ""
           }
          },
          "colorscale": {
           "diverging": [
            [
             0,
             "#8e0152"
            ],
            [
             0.1,
             "#c51b7d"
            ],
            [
             0.2,
             "#de77ae"
            ],
            [
             0.3,
             "#f1b6da"
            ],
            [
             0.4,
             "#fde0ef"
            ],
            [
             0.5,
             "#f7f7f7"
            ],
            [
             0.6,
             "#e6f5d0"
            ],
            [
             0.7,
             "#b8e186"
            ],
            [
             0.8,
             "#7fbc41"
            ],
            [
             0.9,
             "#4d9221"
            ],
            [
             1,
             "#276419"
            ]
           ],
           "sequential": [
            [
             0,
             "#0d0887"
            ],
            [
             0.1111111111111111,
             "#46039f"
            ],
            [
             0.2222222222222222,
             "#7201a8"
            ],
            [
             0.3333333333333333,
             "#9c179e"
            ],
            [
             0.4444444444444444,
             "#bd3786"
            ],
            [
             0.5555555555555556,
             "#d8576b"
            ],
            [
             0.6666666666666666,
             "#ed7953"
            ],
            [
             0.7777777777777778,
             "#fb9f3a"
            ],
            [
             0.8888888888888888,
             "#fdca26"
            ],
            [
             1,
             "#f0f921"
            ]
           ],
           "sequentialminus": [
            [
             0,
             "#0d0887"
            ],
            [
             0.1111111111111111,
             "#46039f"
            ],
            [
             0.2222222222222222,
             "#7201a8"
            ],
            [
             0.3333333333333333,
             "#9c179e"
            ],
            [
             0.4444444444444444,
             "#bd3786"
            ],
            [
             0.5555555555555556,
             "#d8576b"
            ],
            [
             0.6666666666666666,
             "#ed7953"
            ],
            [
             0.7777777777777778,
             "#fb9f3a"
            ],
            [
             0.8888888888888888,
             "#fdca26"
            ],
            [
             1,
             "#f0f921"
            ]
           ]
          },
          "colorway": [
           "#636efa",
           "#EF553B",
           "#00cc96",
           "#ab63fa",
           "#FFA15A",
           "#19d3f3",
           "#FF6692",
           "#B6E880",
           "#FF97FF",
           "#FECB52"
          ],
          "font": {
           "color": "#2a3f5f"
          },
          "geo": {
           "bgcolor": "white",
           "lakecolor": "white",
           "landcolor": "#E5ECF6",
           "showlakes": true,
           "showland": true,
           "subunitcolor": "white"
          },
          "hoverlabel": {
           "align": "left"
          },
          "hovermode": "closest",
          "mapbox": {
           "style": "light"
          },
          "paper_bgcolor": "white",
          "plot_bgcolor": "#E5ECF6",
          "polar": {
           "angularaxis": {
            "gridcolor": "white",
            "linecolor": "white",
            "ticks": ""
           },
           "bgcolor": "#E5ECF6",
           "radialaxis": {
            "gridcolor": "white",
            "linecolor": "white",
            "ticks": ""
           }
          },
          "scene": {
           "xaxis": {
            "backgroundcolor": "#E5ECF6",
            "gridcolor": "white",
            "gridwidth": 2,
            "linecolor": "white",
            "showbackground": true,
            "ticks": "",
            "zerolinecolor": "white"
           },
           "yaxis": {
            "backgroundcolor": "#E5ECF6",
            "gridcolor": "white",
            "gridwidth": 2,
            "linecolor": "white",
            "showbackground": true,
            "ticks": "",
            "zerolinecolor": "white"
           },
           "zaxis": {
            "backgroundcolor": "#E5ECF6",
            "gridcolor": "white",
            "gridwidth": 2,
            "linecolor": "white",
            "showbackground": true,
            "ticks": "",
            "zerolinecolor": "white"
           }
          },
          "shapedefaults": {
           "line": {
            "color": "#2a3f5f"
           }
          },
          "ternary": {
           "aaxis": {
            "gridcolor": "white",
            "linecolor": "white",
            "ticks": ""
           },
           "baxis": {
            "gridcolor": "white",
            "linecolor": "white",
            "ticks": ""
           },
           "bgcolor": "#E5ECF6",
           "caxis": {
            "gridcolor": "white",
            "linecolor": "white",
            "ticks": ""
           }
          },
          "title": {
           "x": 0.05
          },
          "xaxis": {
           "automargin": true,
           "gridcolor": "white",
           "linecolor": "white",
           "ticks": "",
           "title": {
            "standoff": 15
           },
           "zerolinecolor": "white",
           "zerolinewidth": 2
          },
          "yaxis": {
           "automargin": true,
           "gridcolor": "white",
           "linecolor": "white",
           "ticks": "",
           "title": {
            "standoff": 15
           },
           "zerolinecolor": "white",
           "zerolinewidth": 2
          }
         }
        },
        "xaxis": {
         "anchor": "y",
         "domain": [
          0,
          1
         ],
         "title": {
          "text": "index"
         }
        },
        "yaxis": {
         "anchor": "x",
         "domain": [
          0,
          1
         ],
         "title": {
          "text": "value"
         }
        }
       }
      }
     },
     "metadata": {},
     "output_type": "display_data"
    }
   ],
   "source": [
    "vault = pd.read_csv(experiment_path('spot_vault_0'))\n",
    "vault['amount'].plot()"
   ]
  },
  {
   "cell_type": "code",
   "execution_count": 35,
   "metadata": {},
   "outputs": [
    {
     "name": "stdout",
     "output_type": "stream",
     "text": [
      "y values: [         0  100000000  200000000  300000000  400000000  500000000\n",
      "  600000000  700000000  800000000  900000000 1000000000  782250908\n",
      "  764499298  546700503  329012379  193520687          1          1\n",
      "          1          1  100000001  200000001  300000001  400000001\n",
      "  500000001  600000001  700000001  800000001  900000001 1000000001\n",
      "   32891757]\n"
     ]
    },
    {
     "data": {
      "image/png": "[encoded data removed]",
      "text/plain": [
       "<Figure size 432x288 with 1 Axes>"
      ]
     },
     "metadata": {
      "needs_background": "light"
     },
     "output_type": "display_data"
    }
   ],
   "source": [
    "import matplotlib.pyplot as plt \n",
    "vault = pd.read_csv(experiment_path('insurance_vault_0'))\n",
    "y = vault['amount'].values\n",
    "x = vault['slot'].values \n",
    "print('y values:', y)\n",
    "plt.plot(y)\n",
    "plt.xticks(range(len(y)), x, rotation=45);"
   ]
  },
  {
   "cell_type": "code",
   "execution_count": 27,
   "metadata": {},
   "outputs": [
    {
     "name": "stdout",
     "output_type": "stream",
     "text": [
      "['init_if_stake' 'add_if_stake' 'open_position' 'liquidate_perp'\n",
      " 'oracle_price' 'liquidate_perp_pnl_for_deposit' 'resolve_perp_bankruptcy'\n",
      " 'close_position' 'settle_pnl']\n"
     ]
    }
   ],
   "source": [
    "ix_logs = pd.read_csv(experiment_path('ix_logs'))\n",
    "# ix_logs = ix_logs[~ix_logs['error'].isnull()]\n",
    "print(ix_logs['ix_name'].unique())"
   ]
  },
  {
   "cell_type": "code",
   "execution_count": 7,
   "metadata": {},
   "outputs": [
    {
     "name": "stdout",
     "output_type": "stream",
     "text": [
      "array(['market.pubkey', 'market.name',\n",
      "       'market.unrealized_pnl_max_imbalance', 'market.expiry_ts',\n",
      "       'market.expiry_price', 'market.next_fill_record_id',\n",
      "       'market.next_funding_rate_record_id',\n",
      "       'market.next_curve_record_id', 'market.imf_factor',\n",
      "       'market.unrealized_pnl_imf_factor', 'market.liquidator_fee',\n",
      "       'market.if_liquidation_fee', 'market.margin_ratio_initial',\n",
      "       'market.margin_ratio_maintenance',\n",
      "       'market.unrealized_pnl_initial_asset_weight',\n",
      "       'market.unrealized_pnl_maintenance_asset_weight',\n",
      "       'market.number_of_users_with_base', 'market.number_of_users',\n",
      "       'market.market_index', 'market.status', 'market.contract_type',\n",
      "       'market.contract_tier', 'market.padding', 'market.amm.oracle',\n",
      "       'market.amm.base_asset_amount_per_lp',\n",
      "       'market.amm.quote_asset_amount_per_lp',\n",
      "       'market.amm.base_asset_reserve', 'market.amm.quote_asset_reserve',\n",
      "       'market.amm.concentration_coef',\n",
      "       'market.amm.min_base_asset_reserve',\n",
      "       'market.amm.max_base_asset_reserve', 'market.amm.sqrt_k',\n",
      "       'market.amm.peg_multiplier',\n",
      "       'market.amm.terminal_quote_asset_reserve',\n",
      "       'market.amm.base_asset_amount_long',\n",
      "       'market.amm.base_asset_amount_short',\n",
      "       'market.amm.base_asset_amount_with_amm',\n",
      "       'market.amm.base_asset_amount_with_unsettled_lp',\n",
      "       'market.amm.max_open_interest', 'market.amm.quote_asset_amount',\n",
      "       'market.amm.quote_entry_amount_long',\n",
      "       'market.amm.quote_entry_amount_short',\n",
      "       'market.amm.quote_break_even_amount_long',\n",
      "       'market.amm.quote_break_even_amount_short',\n",
      "       'market.amm.user_lp_shares', 'market.amm.last_funding_rate',\n",
      "       'market.amm.last_funding_rate_long',\n",
      "       'market.amm.last_funding_rate_short',\n",
      "       'market.amm.last24h_avg_funding_rate', 'market.amm.total_fee',\n",
      "       'market.amm.total_mm_fee', 'market.amm.total_exchange_fee',\n",
      "       'market.amm.total_fee_minus_distributions',\n",
      "       'market.amm.total_fee_withdrawn',\n",
      "       'market.amm.total_liquidation_fee',\n",
      "       'market.amm.cumulative_funding_rate_long',\n",
      "       'market.amm.cumulative_funding_rate_short',\n",
      "       'market.amm.cumulative_social_loss',\n",
      "       'market.amm.ask_base_asset_reserve',\n",
      "       'market.amm.ask_quote_asset_reserve',\n",
      "       'market.amm.bid_base_asset_reserve',\n",
      "       'market.amm.bid_quote_asset_reserve',\n",
      "       'market.amm.last_oracle_normalised_price',\n",
      "       'market.amm.last_oracle_reserve_price_spread_pct',\n",
      "       'market.amm.last_bid_price_twap', 'market.amm.last_ask_price_twap',\n",
      "       'market.amm.last_mark_price_twap',\n",
      "       'market.amm.last_mark_price_twap5min',\n",
      "       'market.amm.last_update_slot', 'market.amm.last_oracle_conf_pct',\n",
      "       'market.amm.net_revenue_since_last_funding',\n",
      "       'market.amm.last_funding_rate_ts', 'market.amm.funding_period',\n",
      "       'market.amm.order_step_size', 'market.amm.order_tick_size',\n",
      "       'market.amm.min_order_size', 'market.amm.max_position_size',\n",
      "       'market.amm.volume24h', 'market.amm.long_intensity_volume',\n",
      "       'market.amm.short_intensity_volume', 'market.amm.last_trade_ts',\n",
      "       'market.amm.mark_std', 'market.amm.last_mark_price_twap_ts',\n",
      "       'market.amm.base_spread', 'market.amm.max_spread',\n",
      "       'market.amm.long_spread', 'market.amm.short_spread',\n",
      "       'market.amm.long_intensity_count',\n",
      "       'market.amm.short_intensity_count',\n",
      "       'market.amm.max_fill_reserve_fraction',\n",
      "       'market.amm.max_slippage_ratio',\n",
      "       'market.amm.curve_update_intensity',\n",
      "       'market.amm.amm_jit_intensity', 'market.amm.oracle_source',\n",
      "       'market.amm.last_oracle_valid',\n",
      "       'market.amm.historical_oracle_data.last_oracle_price',\n",
      "       'market.amm.historical_oracle_data.last_oracle_conf',\n",
      "       'market.amm.historical_oracle_data.last_oracle_delay',\n",
      "       'market.amm.historical_oracle_data.last_oracle_price_twap',\n",
      "       'market.amm.historical_oracle_data.last_oracle_price_twap5min',\n",
      "       'market.amm.historical_oracle_data.last_oracle_price_twap_ts',\n",
      "       'market.amm.fee_pool.scaled_balance',\n",
      "       'market.amm.fee_pool.market_index', 'market.amm.fee_pool.padding',\n",
      "       'market.insurance_claim.revenue_withdraw_since_last_settle',\n",
      "       'market.insurance_claim.max_revenue_withdraw_per_period',\n",
      "       'market.insurance_claim.quote_max_insurance',\n",
      "       'market.insurance_claim.quote_settled_insurance',\n",
      "       'market.insurance_claim.last_revenue_withdraw_ts',\n",
      "       'market.pnl_pool.scaled_balance', 'market.pnl_pool.market_index',\n",
      "       'market.pnl_pool.padding', 'slot', 'write_version', 'updated_on'],\n",
      "      dtype=object)\n"
     ]
    }
   ],
   "source": [
    "import pprint \n",
    "pprint.pprint(market.columns.values)"
   ]
  },
  {
   "cell_type": "code",
   "execution_count": 16,
   "metadata": {},
   "outputs": [
    {
     "data": {
      "application/vnd.plotly.v1+json": {
       "config": {
        "plotlyServerURL": "https://plot.ly"
       },
       "data": [
        {
         "hovertemplate": "variable=market.amm.historical_oracle_data.last_oracle_price<br>index=%{x}<br>value=%{y}<extra></extra>",
         "legendgroup": "market.amm.historical_oracle_data.last_oracle_price",
         "line": {
          "color": "#636efa",
          "dash": "solid"
         },
         "marker": {
          "symbol": "circle"
         },
         "mode": "lines",
         "name": "market.amm.historical_oracle_data.last_oracle_price",
         "showlegend": true,
         "type": "scattergl",
         "x": [
          0,
          1,
          2,
          3,
          4,
          5,
          6,
          7,
          8,
          9,
          10,
          11,
          12,
          13,
          14,
          15,
          16,
          17,
          18,
          19,
          20,
          21,
          22,
          23,
          24,
          25,
          26,
          27,
          28,
          29,
          30,
          31,
          32,
          33,
          34,
          35,
          36,
          37,
          38,
          39,
          40,
          41,
          42,
          43,
          44,
          45,
          46,
          47,
          48,
          49,
          50,
          51,
          52,
          53,
          54,
          55,
          56,
          57,
          58,
          59,
          60,
          61,
          62,
          63,
          64,
          65,
          66,
          67,
          68,
          69,
          70,
          71,
          72,
          73,
          74,
          75,
          76,
          77,
          78,
          79,
          80,
          81,
          82,
          83,
          84,
          85,
          86,
          87,
          88,
          89,
          90,
          91,
          92,
          93,
          94,
          95,
          96,
          97,
          98,
          99,
          100,
          101,
          102,
          103,
          104,
          105,
          106,
          107,
          108,
          109,
          110,
          111,
          112,
          113,
          114,
          115,
          116,
          117,
          118,
          119,
          120,
          121,
          122,
          123,
          124,
          125,
          126,
          127,
          128,
          129,
          130,
          131,
          132,
          133,
          134,
          135,
          136,
          137,
          138,
          139,
          140,
          141,
          142,
          143,
          144,
          145,
          146,
          147,
          148,
          149,
          150,
          151,
          152,
          153,
          154,
          155,
          156,
          157,
          158,
          159,
          160,
          161,
          162,
          163,
          164,
          165,
          166,
          167,
          168,
          169,
          170,
          171,
          172,
          173,
          174,
          175,
          176,
          177,
          178,
          179,
          180,
          181,
          182,
          183,
          184,
          185,
          186,
          187,
          188,
          189,
          190,
          191,
          192,
          193,
          194,
          195,
          196,
          197,
          198,
          199,
          200,
          201,
          202,
          203,
          204,
          205,
          206,
          207,
          208,
          209,
          210,
          211,
          212,
          213,
          214,
          215,
          216,
          217,
          218,
          219,
          220,
          221,
          222,
          223,
          224,
          225,
          226,
          227,
          228,
          229,
          230,
          231,
          232,
          233,
          234,
          235,
          236,
          237,
          238,
          239,
          240,
          241,
          242,
          243,
          244,
          245,
          246,
          247,
          248,
          249,
          250,
          251,
          252,
          253,
          254,
          255,
          256,
          257,
          258,
          259,
          260,
          261,
          262,
          263,
          264,
          265,
          266,
          267,
          268,
          269,
          270,
          271,
          272,
          273,
          274,
          275,
          276,
          277,
          278,
          279,
          280,
          281,
          282,
          283
         ],
         "xaxis": "x",
         "y": [
          0.035,
          0.035,
          0.035,
          0.035,
          0.035,
          1.496654,
          1.496654,
          3.121083,
          4.304549,
          4.304549,
          4.304549,
          17.691739,
          14.325818,
          14.325818,
          14.325818,
          5.459086,
          5.459086,
          5.459086,
          5.459086,
          5.459086,
          5.459086,
          4.882509,
          4.285271,
          4.285271,
          4.285271,
          4.285271,
          4.285271,
          4.285271,
          4.285271,
          5.600362,
          3.902032,
          3.902032,
          3.213664,
          3.213664,
          3.213664,
          3.213664,
          3.213664,
          3.357644,
          4.132765,
          1.805783,
          1.805783,
          1.468583,
          1.468583,
          1.052245,
          1.47455,
          1.303067,
          1.343564,
          1.250963,
          1.250963,
          1.250963,
          1.471166,
          0.078012,
          0.078012,
          0.121804,
          0.121804,
          0.037957,
          0.037957,
          0.037957,
          0.06011,
          0.06011,
          0.047788,
          0.047788,
          1.365033,
          1.365033,
          1.365033,
          1.365033,
          1.365033,
          1.365033,
          1.365033,
          1.304763,
          1.304763,
          1.304763,
          1.304763,
          2.464495,
          3.64915,
          3.64915,
          3.908037,
          3.527004,
          3.527004,
          3.527004,
          3.527004,
          4.923131,
          4.923131,
          4.923131,
          4.923131,
          4.923131,
          5.035966,
          5.035966,
          5.035966,
          5.035966,
          4.950173,
          4.950173,
          5.50177,
          5.50177,
          5.50177,
          4.563709,
          5.079137,
          5.079137,
          4.149523,
          3.532404,
          3.532404,
          2.951311,
          4.493136,
          4.493136,
          4.493136,
          5.352027,
          5.352027,
          5.352027,
          5.352027,
          3.624561,
          2.222712,
          1.704034,
          1.704034,
          2.018891,
          1.709738,
          2.096897,
          1.944946,
          1.81505,
          2.060264,
          2.253733,
          1.91296,
          1.91296,
          1.91296,
          1.91296,
          1.337822,
          1.641246,
          1.699784,
          2.856647,
          3.870178,
          4.150766,
          4.150766,
          4.150766,
          3.152734,
          3.264328,
          3.284184,
          3.284184,
          3.284184,
          3.284184,
          3.284184,
          3.284184,
          3.284184,
          3.284184,
          3.284184,
          4.004773,
          4.004773,
          4.004773,
          6.381694,
          6.381694,
          6.381694,
          6.381694,
          6.381694,
          6.381694,
          6.381694,
          6.381694,
          6.381694,
          6.381694,
          6.381694,
          6.381694,
          5.054187,
          5.054187,
          5.054187,
          2.346884,
          4.567503,
          4.567503,
          4.550319,
          5.567965,
          6.156735,
          7.262079,
          7.262079,
          4.479782,
          4.43624,
          4.43624,
          4.43624,
          3.759236,
          3.759236,
          3.759236,
          3.759236,
          2.540674,
          2.37005,
          2.37005,
          2.542881,
          3.03217,
          3.03217,
          3.03217,
          3.03217,
          3.03217,
          3.03217,
          3.03217,
          3.03217,
          3.03217,
          2.574647,
          2.574647,
          2.574647,
          3.577261,
          3.577261,
          3.577261,
          3.577261,
          3.577261,
          3.577261,
          3.577261,
          3.577261,
          3.577261,
          2.69211,
          2.69211,
          2.69211,
          1.678398,
          1.543989,
          1.543989,
          1.543989,
          1.543989,
          1.543989,
          1.543989,
          1.275846,
          1.275846,
          1.275846,
          3.70489,
          3.70489,
          3.70489,
          3.70489,
          2.341456,
          2.341456,
          2.341456,
          2.341456,
          1.891613,
          1.891613,
          1.891613,
          1.891613,
          1.891613,
          1.891613,
          1.891613,
          1.891613,
          1.891613,
          1.891613,
          1.891613,
          1.891613,
          1.891613,
          1.891613,
          1.891613,
          1.891613,
          1.887044,
          1.694553,
          1.694553,
          2.021387,
          2.006884,
          2.006884,
          2.006884,
          1.869616,
          1.869616,
          2.10845,
          2.324566,
          2.324566,
          1.958585,
          1.958585,
          2.642937,
          2.642937,
          2.642937,
          2.642937,
          2.642937,
          2.642937,
          4.390609,
          4.070276,
          4.070276,
          4.070276,
          2.84597,
          4.557673,
          4.557673,
          4.557673,
          4.557673,
          4.557673,
          4.557673,
          4.557673,
          4.557673,
          4.557673,
          4.557673,
          4.557673,
          4.557673,
          4.557673,
          4.557673,
          4.557673,
          4.557673,
          4.557673,
          4.557673,
          4.557673,
          4.557673
         ],
         "yaxis": "y"
        },
        {
         "hovertemplate": "variable=market.expiry_price<br>index=%{x}<br>value=%{y}<extra></extra>",
         "legendgroup": "market.expiry_price",
         "line": {
          "color": "#EF553B",
          "dash": "solid"
         },
         "marker": {
          "symbol": "circle"
         },
         "mode": "lines",
         "name": "market.expiry_price",
         "showlegend": true,
         "type": "scattergl",
         "x": [
          0,
          1,
          2,
          3,
          4,
          5,
          6,
          7,
          8,
          9,
          10,
          11,
          12,
          13,
          14,
          15,
          16,
          17,
          18,
          19,
          20,
          21,
          22,
          23,
          24,
          25,
          26,
          27,
          28,
          29,
          30,
          31,
          32,
          33,
          34,
          35,
          36,
          37,
          38,
          39,
          40,
          41,
          42,
          43,
          44,
          45,
          46,
          47,
          48,
          49,
          50,
          51,
          52,
          53,
          54,
          55,
          56,
          57,
          58,
          59,
          60,
          61,
          62,
          63,
          64,
          65,
          66,
          67,
          68,
          69,
          70,
          71,
          72,
          73,
          74,
          75,
          76,
          77,
          78,
          79,
          80,
          81,
          82,
          83,
          84,
          85,
          86,
          87,
          88,
          89,
          90,
          91,
          92,
          93,
          94,
          95,
          96,
          97,
          98,
          99,
          100,
          101,
          102,
          103,
          104,
          105,
          106,
          107,
          108,
          109,
          110,
          111,
          112,
          113,
          114,
          115,
          116,
          117,
          118,
          119,
          120,
          121,
          122,
          123,
          124,
          125,
          126,
          127,
          128,
          129,
          130,
          131,
          132,
          133,
          134,
          135,
          136,
          137,
          138,
          139,
          140,
          141,
          142,
          143,
          144,
          145,
          146,
          147,
          148,
          149,
          150,
          151,
          152,
          153,
          154,
          155,
          156,
          157,
          158,
          159,
          160,
          161,
          162,
          163,
          164,
          165,
          166,
          167,
          168,
          169,
          170,
          171,
          172,
          173,
          174,
          175,
          176,
          177,
          178,
          179,
          180,
          181,
          182,
          183,
          184,
          185,
          186,
          187,
          188,
          189,
          190,
          191,
          192,
          193,
          194,
          195,
          196,
          197,
          198,
          199,
          200,
          201,
          202,
          203,
          204,
          205,
          206,
          207,
          208,
          209,
          210,
          211,
          212,
          213,
          214,
          215,
          216,
          217,
          218,
          219,
          220,
          221,
          222,
          223,
          224,
          225,
          226,
          227,
          228,
          229,
          230,
          231,
          232,
          233,
          234,
          235,
          236,
          237,
          238,
          239,
          240,
          241,
          242,
          243,
          244,
          245,
          246,
          247,
          248,
          249,
          250,
          251,
          252,
          253,
          254,
          255,
          256,
          257,
          258,
          259,
          260,
          261,
          262,
          263,
          264,
          265,
          266,
          267,
          268,
          269,
          270,
          271,
          272,
          273,
          274,
          275,
          276,
          277,
          278,
          279,
          280,
          281,
          282,
          283
         ],
         "xaxis": "x",
         "y": [
          0,
          0,
          0,
          0,
          0,
          0,
          0,
          0,
          0,
          0,
          0,
          0,
          0,
          0,
          0,
          0,
          0,
          0,
          0,
          0,
          0,
          0,
          0,
          0,
          0,
          0,
          0,
          0,
          0,
          0,
          0,
          0,
          0,
          0,
          0,
          0,
          0,
          0,
          0,
          0,
          0,
          0,
          0,
          0,
          0,
          0,
          0,
          0,
          0,
          0,
          0,
          0,
          0,
          0,
          0,
          0,
          0,
          0,
          0,
          0,
          0,
          0,
          0,
          0,
          0,
          0,
          0,
          0,
          0,
          0,
          0,
          0,
          0,
          0,
          0,
          0,
          0,
          0,
          0,
          0,
          0,
          0,
          0,
          0,
          0,
          0,
          0,
          0,
          0,
          0,
          0,
          0,
          0,
          0,
          0,
          0,
          0,
          0,
          0,
          0,
          0,
          0,
          0,
          0,
          0,
          0,
          0,
          0,
          0,
          0,
          0,
          0,
          0,
          0,
          0,
          0,
          0,
          0,
          0,
          0,
          0,
          0,
          0,
          0,
          0,
          0,
          0,
          0,
          0,
          0,
          0,
          0,
          0,
          0,
          0,
          0,
          0,
          0,
          0,
          0,
          0,
          0,
          0,
          0,
          0,
          0,
          0,
          0,
          0,
          0,
          0,
          0,
          0,
          0,
          0,
          0,
          0,
          0,
          0,
          0,
          0,
          0,
          0,
          0,
          0,
          0,
          0,
          0,
          0,
          0,
          0,
          0,
          0,
          0,
          0,
          0,
          0,
          0,
          0,
          0,
          0,
          0,
          0,
          0,
          0,
          0,
          0,
          0,
          0,
          0,
          0,
          0,
          0,
          0,
          0,
          0,
          0,
          0,
          0,
          0,
          0,
          0,
          0,
          0,
          0,
          0,
          0,
          0,
          0,
          0,
          0,
          0,
          0,
          0,
          0,
          0,
          0,
          0,
          0,
          0,
          0,
          0,
          0,
          0,
          0,
          0,
          0,
          0,
          0,
          0,
          0,
          0,
          0,
          0,
          0,
          0,
          0,
          0,
          0,
          0,
          0,
          0,
          0,
          0,
          0,
          0,
          0,
          0,
          0,
          0,
          0,
          0,
          0,
          0,
          0,
          0,
          0,
          0,
          0,
          0,
          0,
          0,
          0,
          0,
          0,
          0,
          0,
          1.28809,
          1.28809,
          1.28809,
          1.28809,
          1.28809,
          1.28809,
          1.28809,
          1.28809,
          1.28809,
          1.28809,
          1.28809,
          1.28809,
          1.28809,
          1.28809,
          1.28809,
          1.28809,
          1.28809
         ],
         "yaxis": "y"
        },
        {
         "hovertemplate": "variable=market.amm.historical_oracle_data.last_oracle_price_twap<br>index=%{x}<br>value=%{y}<extra></extra>",
         "legendgroup": "market.amm.historical_oracle_data.last_oracle_price_twap",
         "line": {
          "color": "#00cc96",
          "dash": "solid"
         },
         "marker": {
          "symbol": "circle"
         },
         "mode": "lines",
         "name": "market.amm.historical_oracle_data.last_oracle_price_twap",
         "showlegend": true,
         "type": "scattergl",
         "x": [
          0,
          1,
          2,
          3,
          4,
          5,
          6,
          7,
          8,
          9,
          10,
          11,
          12,
          13,
          14,
          15,
          16,
          17,
          18,
          19,
          20,
          21,
          22,
          23,
          24,
          25,
          26,
          27,
          28,
          29,
          30,
          31,
          32,
          33,
          34,
          35,
          36,
          37,
          38,
          39,
          40,
          41,
          42,
          43,
          44,
          45,
          46,
          47,
          48,
          49,
          50,
          51,
          52,
          53,
          54,
          55,
          56,
          57,
          58,
          59,
          60,
          61,
          62,
          63,
          64,
          65,
          66,
          67,
          68,
          69,
          70,
          71,
          72,
          73,
          74,
          75,
          76,
          77,
          78,
          79,
          80,
          81,
          82,
          83,
          84,
          85,
          86,
          87,
          88,
          89,
          90,
          91,
          92,
          93,
          94,
          95,
          96,
          97,
          98,
          99,
          100,
          101,
          102,
          103,
          104,
          105,
          106,
          107,
          108,
          109,
          110,
          111,
          112,
          113,
          114,
          115,
          116,
          117,
          118,
          119,
          120,
          121,
          122,
          123,
          124,
          125,
          126,
          127,
          128,
          129,
          130,
          131,
          132,
          133,
          134,
          135,
          136,
          137,
          138,
          139,
          140,
          141,
          142,
          143,
          144,
          145,
          146,
          147,
          148,
          149,
          150,
          151,
          152,
          153,
          154,
          155,
          156,
          157,
          158,
          159,
          160,
          161,
          162,
          163,
          164,
          165,
          166,
          167,
          168,
          169,
          170,
          171,
          172,
          173,
          174,
          175,
          176,
          177,
          178,
          179,
          180,
          181,
          182,
          183,
          184,
          185,
          186,
          187,
          188,
          189,
          190,
          191,
          192,
          193,
          194,
          195,
          196,
          197,
          198,
          199,
          200,
          201,
          202,
          203,
          204,
          205,
          206,
          207,
          208,
          209,
          210,
          211,
          212,
          213,
          214,
          215,
          216,
          217,
          218,
          219,
          220,
          221,
          222,
          223,
          224,
          225,
          226,
          227,
          228,
          229,
          230,
          231,
          232,
          233,
          234,
          235,
          236,
          237,
          238,
          239,
          240,
          241,
          242,
          243,
          244,
          245,
          246,
          247,
          248,
          249,
          250,
          251,
          252,
          253,
          254,
          255,
          256,
          257,
          258,
          259,
          260,
          261,
          262,
          263,
          264,
          265,
          266,
          267,
          268,
          269,
          270,
          271,
          272,
          273,
          274,
          275,
          276,
          277,
          278,
          279,
          280,
          281,
          282,
          283
         ],
         "xaxis": "x",
         "y": [
          0.035,
          0.035,
          0.035,
          0.035,
          0.035,
          0.038695,
          0.038695,
          0.040415,
          0.041089,
          0.041089,
          0.041089,
          0.043372,
          0.043854,
          0.043854,
          0.043854,
          0.045804,
          0.045804,
          0.045804,
          0.045804,
          0.045804,
          0.045804,
          0.050385,
          0.050945,
          0.050945,
          0.050945,
          0.050945,
          0.050945,
          0.050945,
          0.050945,
          0.056921,
          0.057554,
          0.057554,
          0.058833,
          0.058833,
          0.058833,
          0.058833,
          0.058833,
          0.062429,
          0.063123,
          0.064176,
          0.064176,
          0.065603,
          0.065603,
          0.067061,
          0.067807,
          0.069691,
          0.070466,
          0.071641,
          0.071641,
          0.071641,
          0.07403,
          0.074163,
          0.074163,
          0.075812,
          0.075812,
          0.072864,
          0.072864,
          0.072864,
          0.071398,
          0.071398,
          0.068644,
          0.068644,
          0.070933,
          0.070933,
          0.070933,
          0.071722,
          0.071722,
          0.072121,
          0.072121,
          0.073724,
          0.073724,
          0.073724,
          0.073724,
          0.07823,
          0.079969,
          0.079969,
          0.082191,
          0.084026,
          0.084026,
          0.084026,
          0.084026,
          0.087761,
          0.087761,
          0.087761,
          0.088737,
          0.088737,
          0.090709,
          0.090709,
          0.090709,
          0.090709,
          0.095749,
          0.095749,
          0.098409,
          0.098409,
          0.098409,
          0.102237,
          0.105077,
          0.105077,
          0.107413,
          0.108607,
          0.108607,
          0.111021,
          0.112872,
          0.112872,
          0.112872,
          0.117889,
          0.117889,
          0.117889,
          0.117889,
          0.123784,
          0.125856,
          0.127255,
          0.127255,
          0.13079,
          0.132244,
          0.135183,
          0.136686,
          0.138965,
          0.142826,
          0.144413,
          0.146018,
          0.146018,
          0.146018,
          0.146018,
          0.153319,
          0.155875,
          0.159339,
          0.161995,
          0.164705,
          0.167451,
          0.167451,
          0.167451,
          0.174894,
          0.177809,
          0.179785,
          0.181783,
          0.181783,
          0.181783,
          0.181783,
          0.181783,
          0.189863,
          0.189863,
          0.189863,
          0.196192,
          0.196192,
          0.196192,
          0.206002,
          0.207147,
          0.208298,
          0.208298,
          0.208298,
          0.208298,
          0.208298,
          0.208298,
          0.208298,
          0.210613,
          0.210613,
          0.211784,
          0.215314,
          0.215314,
          0.215314,
          0.228473,
          0.23482,
          0.23482,
          0.242648,
          0.246693,
          0.252176,
          0.254978,
          0.254978,
          0.264942,
          0.272302,
          0.272302,
          0.272302,
          0.282892,
          0.282892,
          0.282892,
          0.282892,
          0.298609,
          0.300268,
          0.300268,
          0.308609,
          0.312038,
          0.312038,
          0.312038,
          0.312038,
          0.312038,
          0.312038,
          0.312038,
          0.312038,
          0.312038,
          0.364043,
          0.364043,
          0.364043,
          0.378201,
          0.378201,
          0.378201,
          0.378201,
          0.378201,
          0.378201,
          0.378201,
          0.378201,
          0.378201,
          0.437031,
          0.437031,
          0.437031,
          0.461311,
          0.469,
          0.469,
          0.469,
          0.469,
          0.469,
          0.469,
          0.513295,
          0.513295,
          0.513295,
          0.547515,
          0.547515,
          0.547515,
          0.547515,
          0.587058,
          0.587058,
          0.587058,
          0.587058,
          0.626196,
          0.626196,
          0.626196,
          0.626196,
          0.626196,
          0.626196,
          0.626196,
          0.626196,
          0.626196,
          0.626196,
          0.626196,
          0.626196,
          0.626196,
          0.626196,
          0.626196,
          0.626196,
          0.821011,
          0.830134,
          0.830134,
          0.853194,
          0.867467,
          0.867467,
          0.867467,
          0.920479,
          0.920479,
          0.946048,
          0.95656,
          0.95656,
          0.983132,
          0.983132,
          1.015904,
          1.015904,
          1.015904,
          1.015904,
          1.015904,
          1.015904,
          1.100563,
          1.112792,
          1.112792,
          1.112792,
          1.174614,
          1.239871,
          1.239871,
          1.239871,
          1.288089,
          1.288089,
          1.288089,
          1.288089,
          1.288089,
          1.288089,
          1.288089,
          1.288089,
          1.288089,
          1.288089,
          1.288089,
          1.288089,
          1.288089,
          1.288089,
          1.288089,
          1.288089,
          1.288089
         ],
         "yaxis": "y"
        },
        {
         "hovertemplate": "variable=market.amm.base_asset_amount_with_amm<br>index=%{x}<br>value=%{y}<extra></extra>",
         "legendgroup": "market.amm.base_asset_amount_with_amm",
         "line": {
          "color": "#ab63fa",
          "dash": "solid"
         },
         "marker": {
          "symbol": "circle"
         },
         "mode": "lines",
         "name": "market.amm.base_asset_amount_with_amm",
         "showlegend": true,
         "type": "scattergl",
         "x": [
          0,
          1,
          2,
          3,
          4,
          5,
          6,
          7,
          8,
          9,
          10,
          11,
          12,
          13,
          14,
          15,
          16,
          17,
          18,
          19,
          20,
          21,
          22,
          23,
          24,
          25,
          26,
          27,
          28,
          29,
          30,
          31,
          32,
          33,
          34,
          35,
          36,
          37,
          38,
          39,
          40,
          41,
          42,
          43,
          44,
          45,
          46,
          47,
          48,
          49,
          50,
          51,
          52,
          53,
          54,
          55,
          56,
          57,
          58,
          59,
          60,
          61,
          62,
          63,
          64,
          65,
          66,
          67,
          68,
          69,
          70,
          71,
          72,
          73,
          74,
          75,
          76,
          77,
          78,
          79,
          80,
          81,
          82,
          83,
          84,
          85,
          86,
          87,
          88,
          89,
          90,
          91,
          92,
          93,
          94,
          95,
          96,
          97,
          98,
          99,
          100,
          101,
          102,
          103,
          104,
          105,
          106,
          107,
          108,
          109,
          110,
          111,
          112,
          113,
          114,
          115,
          116,
          117,
          118,
          119,
          120,
          121,
          122,
          123,
          124,
          125,
          126,
          127,
          128,
          129,
          130,
          131,
          132,
          133,
          134,
          135,
          136,
          137,
          138,
          139,
          140,
          141,
          142,
          143,
          144,
          145,
          146,
          147,
          148,
          149,
          150,
          151,
          152,
          153,
          154,
          155,
          156,
          157,
          158,
          159,
          160,
          161,
          162,
          163,
          164,
          165,
          166,
          167,
          168,
          169,
          170,
          171,
          172,
          173,
          174,
          175,
          176,
          177,
          178,
          179,
          180,
          181,
          182,
          183,
          184,
          185,
          186,
          187,
          188,
          189,
          190,
          191,
          192,
          193,
          194,
          195,
          196,
          197,
          198,
          199,
          200,
          201,
          202,
          203,
          204,
          205,
          206,
          207,
          208,
          209,
          210,
          211,
          212,
          213,
          214,
          215,
          216,
          217,
          218,
          219,
          220,
          221,
          222,
          223,
          224,
          225,
          226,
          227,
          228,
          229,
          230,
          231,
          232,
          233,
          234,
          235,
          236,
          237,
          238,
          239,
          240,
          241,
          242,
          243,
          244,
          245,
          246,
          247,
          248,
          249,
          250,
          251,
          252,
          253,
          254,
          255,
          256,
          257,
          258,
          259,
          260,
          261,
          262,
          263,
          264,
          265,
          266,
          267,
          268,
          269,
          270,
          271,
          272,
          273,
          274,
          275,
          276,
          277,
          278,
          279,
          280,
          281,
          282,
          283
         ],
         "xaxis": "x",
         "y": [
          0,
          0,
          0,
          0,
          0,
          -7.6134,
          -7.6134,
          -12.033404649,
          -12.033404649,
          -12.033404649,
          -12.033404649,
          -12.033404649,
          -12.033404649,
          -12.033404649,
          -12.033404649,
          -12.033404649,
          -12.033404649,
          -12.033404649,
          -12.033404649,
          -12.033404649,
          -12.033404649,
          -12.98402371,
          -13.288131809,
          -13.288131809,
          -13.288131809,
          -13.288131809,
          -13.288131809,
          -13.288131809,
          -13.288131809,
          -14.009086409,
          -14.311068676,
          -14.311068676,
          -14.311068676,
          -14.311157939,
          -14.311157939,
          -14.311157939,
          -14.311157939,
          -14.311157939,
          -16.178110487,
          -16.011119226,
          -16.011119226,
          -16.011119226,
          -16.011119226,
          -16.011119226,
          -17.16183361,
          -17.16183361,
          -17.16183361,
          -21.250721559,
          -21.250721559,
          -21.250721559,
          -21.250721559,
          -21.250721559,
          -21.250721559,
          -21.250721559,
          -21.250721559,
          -21.250721559,
          -21.250721559,
          -21.250721559,
          -31.877028978,
          -31.877028978,
          -31.877028978,
          -31.877071766,
          -31.877071766,
          -31.877071766,
          -31.877071766,
          -25.426498704,
          -25.426498704,
          -23.333702781,
          -23.333702781,
          -23.333702781,
          -23.333702781,
          -23.333702781,
          -23.333702781,
          -23.333702781,
          -24.593890362,
          -24.593890362,
          -24.593890362,
          -25.445874954,
          -25.445874954,
          -25.445874954,
          -25.445874954,
          -25.445874954,
          -25.445874954,
          -25.445874954,
          -22.09579294,
          -22.09579294,
          -22.09579294,
          -22.09579294,
          -22.09579294,
          -22.09579294,
          -22.09579294,
          -22.095739767,
          -22.095739767,
          -22.095739767,
          -22.095739767,
          -22.095739767,
          -22.095739767,
          -22.095739767,
          -22.095739767,
          -22.095739767,
          -22.095739767,
          -22.095739767,
          -22.095739767,
          -22.095739767,
          -22.095739767,
          -22.095739767,
          -22.095687249,
          -22.095687249,
          -22.095687249,
          -22.095687249,
          -21.271023349,
          -21.271023349,
          -21.271023349,
          -23.364231568,
          -23.364231568,
          -21.102000368,
          -21.528599709,
          -24.201818656,
          -24.201818656,
          -24.201818656,
          -24.201818656,
          -24.201818656,
          -24.201863158,
          -24.201863158,
          -24.201863158,
          -27.018747484,
          -27.018747484,
          -27.018747484,
          -26.309903028,
          -26.309903028,
          -26.309903028,
          -26.309903028,
          -26.309903028,
          -27.429915576,
          -27.429915576,
          -28.682591969,
          -28.682591969,
          -28.682664627,
          -28.682664627,
          -28.682664627,
          -28.682664627,
          -28.682664627,
          -28.682664627,
          -28.682664627,
          -28.682664627,
          -28.682664627,
          -28.682664627,
          -28.682664627,
          -28.682664627,
          -28.682664627,
          -28.682664627,
          -28.682664627,
          -28.682664627,
          -28.682664627,
          -28.682664627,
          -22.705175757,
          -22.705175757,
          -20.830176221,
          -20.830176221,
          -20.830176221,
          -20.830176221,
          -20.830176221,
          -20.830176221,
          -20.830248941,
          -20.830248941,
          -20.830248941,
          -20.830248941,
          -20.830248941,
          -20.830248941,
          -20.607976572,
          -20.607976572,
          -20.607976572,
          -20.607976572,
          -20.607976572,
          -20.607976572,
          -20.607976572,
          -20.607916163,
          -20.607916163,
          -20.607916163,
          -20.607916163,
          -20.607916163,
          -20.607916163,
          -20.607916163,
          -20.607916163,
          -20.607916163,
          -20.607916163,
          -20.607916163,
          -20.607916163,
          -20.607916163,
          -20.607916163,
          -21.361939259,
          -21.361939259,
          -21.361911957,
          -21.361911957,
          -21.361911957,
          -21.361911957,
          -21.362010161,
          -21.362010161,
          -21.361993256,
          -21.361993256,
          -21.361993256,
          -21.361993256,
          -21.361993256,
          -21.361993256,
          -21.361993256,
          -21.361993256,
          -21.361993256,
          -21.361993256,
          -21.362056493,
          -21.362056493,
          -21.362056493,
          -21.362056493,
          -21.362056493,
          -21.36209683,
          -21.36209683,
          -21.36209683,
          -21.36209683,
          -21.36209683,
          -21.36209683,
          -21.36209683,
          -21.36209683,
          -21.36209683,
          -21.36209683,
          -21.36209683,
          -21.36209683,
          -21.36209683,
          -21.36209683,
          -21.36209683,
          -21.36209683,
          -21.36209683,
          -21.36209683,
          -21.36209683,
          -21.36209683,
          -21.36209683,
          -21.36209683,
          -21.36209683,
          -21.36209683,
          -21.36209683,
          -21.3621,
          -21.3621,
          -21.3621,
          -21.3621,
          -21.3621,
          -21.620410494,
          -21.620410494,
          -21.620456295,
          -21.620456295,
          -21.620456295,
          -21.620456295,
          -24.139851658,
          -24.139869892,
          -24.139869892,
          -24.139869892,
          -24.139869892,
          -24.139869892,
          -24.139869892,
          -24.139869892,
          -24.139869892,
          -24.13996066,
          -24.13996066,
          -24.13996066,
          -24.139999999,
          -24.139999999,
          -24.139999999,
          -24.139999999,
          -24.139999999,
          -24.14,
          -24.14,
          -92.2676,
          -114.755,
          -124.3113,
          -112.107,
          -112.107,
          -126.8775,
          -108.9735,
          -80.9097,
          -85.737,
          -100.423,
          -165.2263,
          -150.1863,
          -136.1886,
          -107.7959,
          -74.5151,
          0
         ],
         "yaxis": "y"
        }
       ],
       "layout": {
        "legend": {
         "title": {
          "text": "variable"
         },
         "tracegroupgap": 0
        },
        "margin": {
         "t": 60
        },
        "template": {
         "data": {
          "bar": [
           {
            "error_x": {
             "color": "#2a3f5f"
            },
            "error_y": {
             "color": "#2a3f5f"
            },
            "marker": {
             "line": {
              "color": "#E5ECF6",
              "width": 0.5
             },
             "pattern": {
              "fillmode": "overlay",
              "size": 10,
              "solidity": 0.2
             }
            },
            "type": "bar"
           }
          ],
          "barpolar": [
           {
            "marker": {
             "line": {
              "color": "#E5ECF6",
              "width": 0.5
             },
             "pattern": {
              "fillmode": "overlay",
              "size": 10,
              "solidity": 0.2
             }
            },
            "type": "barpolar"
           }
          ],
          "carpet": [
           {
            "aaxis": {
             "endlinecolor": "#2a3f5f",
             "gridcolor": "white",
             "linecolor": "white",
             "minorgridcolor": "white",
             "startlinecolor": "#2a3f5f"
            },
            "baxis": {
             "endlinecolor": "#2a3f5f",
             "gridcolor": "white",
             "linecolor": "white",
             "minorgridcolor": "white",
             "startlinecolor": "#2a3f5f"
            },
            "type": "carpet"
           }
          ],
          "choropleth": [
           {
            "colorbar": {
             "outlinewidth": 0,
             "ticks": ""
            },
            "type": "choropleth"
           }
          ],
          "contour": [
           {
            "colorbar": {
             "outlinewidth": 0,
             "ticks": ""
            },
            "colorscale": [
             [
              0,
              "#0d0887"
             ],
             [
              0.1111111111111111,
              "#46039f"
             ],
             [
              0.2222222222222222,
              "#7201a8"
             ],
             [
              0.3333333333333333,
              "#9c179e"
             ],
             [
              0.4444444444444444,
              "#bd3786"
             ],
             [
              0.5555555555555556,
              "#d8576b"
             ],
             [
              0.6666666666666666,
              "#ed7953"
             ],
             [
              0.7777777777777778,
              "#fb9f3a"
             ],
             [
              0.8888888888888888,
              "#fdca26"
             ],
             [
              1,
              "#f0f921"
             ]
            ],
            "type": "contour"
           }
          ],
          "contourcarpet": [
           {
            "colorbar": {
             "outlinewidth": 0,
             "ticks": ""
            },
            "type": "contourcarpet"
           }
          ],
          "heatmap": [
           {
            "colorbar": {
             "outlinewidth": 0,
             "ticks": ""
            },
            "colorscale": [
             [
              0,
              "#0d0887"
             ],
             [
              0.1111111111111111,
              "#46039f"
             ],
             [
              0.2222222222222222,
              "#7201a8"
             ],
             [
              0.3333333333333333,
              "#9c179e"
             ],
             [
              0.4444444444444444,
              "#bd3786"
             ],
             [
              0.5555555555555556,
              "#d8576b"
             ],
             [
              0.6666666666666666,
              "#ed7953"
             ],
             [
              0.7777777777777778,
              "#fb9f3a"
             ],
             [
              0.8888888888888888,
              "#fdca26"
             ],
             [
              1,
              "#f0f921"
             ]
            ],
            "type": "heatmap"
           }
          ],
          "heatmapgl": [
           {
            "colorbar": {
             "outlinewidth": 0,
             "ticks": ""
            },
            "colorscale": [
             [
              0,
              "#0d0887"
             ],
             [
              0.1111111111111111,
              "#46039f"
             ],
             [
              0.2222222222222222,
              "#7201a8"
             ],
             [
              0.3333333333333333,
              "#9c179e"
             ],
             [
              0.4444444444444444,
              "#bd3786"
             ],
             [
              0.5555555555555556,
              "#d8576b"
             ],
             [
              0.6666666666666666,
              "#ed7953"
             ],
             [
              0.7777777777777778,
              "#fb9f3a"
             ],
             [
              0.8888888888888888,
              "#fdca26"
             ],
             [
              1,
              "#f0f921"
             ]
            ],
            "type": "heatmapgl"
           }
          ],
          "histogram": [
           {
            "marker": {
             "pattern": {
              "fillmode": "overlay",
              "size": 10,
              "solidity": 0.2
             }
            },
            "type": "histogram"
           }
          ],
          "histogram2d": [
           {
            "colorbar": {
             "outlinewidth": 0,
             "ticks": ""
            },
            "colorscale": [
             [
              0,
              "#0d0887"
             ],
             [
              0.1111111111111111,
              "#46039f"
             ],
             [
              0.2222222222222222,
              "#7201a8"
             ],
             [
              0.3333333333333333,
              "#9c179e"
             ],
             [
              0.4444444444444444,
              "#bd3786"
             ],
             [
              0.5555555555555556,
              "#d8576b"
             ],
             [
              0.6666666666666666,
              "#ed7953"
             ],
             [
              0.7777777777777778,
              "#fb9f3a"
             ],
             [
              0.8888888888888888,
              "#fdca26"
             ],
             [
              1,
              "#f0f921"
             ]
            ],
            "type": "histogram2d"
           }
          ],
          "histogram2dcontour": [
           {
            "colorbar": {
             "outlinewidth": 0,
             "ticks": ""
            },
            "colorscale": [
             [
              0,
              "#0d0887"
             ],
             [
              0.1111111111111111,
              "#46039f"
             ],
             [
              0.2222222222222222,
              "#7201a8"
             ],
             [
              0.3333333333333333,
              "#9c179e"
             ],
             [
              0.4444444444444444,
              "#bd3786"
             ],
             [
              0.5555555555555556,
              "#d8576b"
             ],
             [
              0.6666666666666666,
              "#ed7953"
             ],
             [
              0.7777777777777778,
              "#fb9f3a"
             ],
             [
              0.8888888888888888,
              "#fdca26"
             ],
             [
              1,
              "#f0f921"
             ]
            ],
            "type": "histogram2dcontour"
           }
          ],
          "mesh3d": [
           {
            "colorbar": {
             "outlinewidth": 0,
             "ticks": ""
            },
            "type": "mesh3d"
           }
          ],
          "parcoords": [
           {
            "line": {
             "colorbar": {
              "outlinewidth": 0,
              "ticks": ""
             }
            },
            "type": "parcoords"
           }
          ],
          "pie": [
           {
            "automargin": true,
            "type": "pie"
           }
          ],
          "scatter": [
           {
            "fillpattern": {
             "fillmode": "overlay",
             "size": 10,
             "solidity": 0.2
            },
            "type": "scatter"
           }
          ],
          "scatter3d": [
           {
            "line": {
             "colorbar": {
              "outlinewidth": 0,
              "ticks": ""
             }
            },
            "marker": {
             "colorbar": {
              "outlinewidth": 0,
              "ticks": ""
             }
            },
            "type": "scatter3d"
           }
          ],
          "scattercarpet": [
           {
            "marker": {
             "colorbar": {
              "outlinewidth": 0,
              "ticks": ""
             }
            },
            "type": "scattercarpet"
           }
          ],
          "scattergeo": [
           {
            "marker": {
             "colorbar": {
              "outlinewidth": 0,
              "ticks": ""
             }
            },
            "type": "scattergeo"
           }
          ],
          "scattergl": [
           {
            "marker": {
             "colorbar": {
              "outlinewidth": 0,
              "ticks": ""
             }
            },
            "type": "scattergl"
           }
          ],
          "scattermapbox": [
           {
            "marker": {
             "colorbar": {
              "outlinewidth": 0,
              "ticks": ""
             }
            },
            "type": "scattermapbox"
           }
          ],
          "scatterpolar": [
           {
            "marker": {
             "colorbar": {
              "outlinewidth": 0,
              "ticks": ""
             }
            },
            "type": "scatterpolar"
           }
          ],
          "scatterpolargl": [
           {
            "marker": {
             "colorbar": {
              "outlinewidth": 0,
              "ticks": ""
             }
            },
            "type": "scatterpolargl"
           }
          ],
          "scatterternary": [
           {
            "marker": {
             "colorbar": {
              "outlinewidth": 0,
              "ticks": ""
             }
            },
            "type": "scatterternary"
           }
          ],
          "surface": [
           {
            "colorbar": {
             "outlinewidth": 0,
             "ticks": ""
            },
            "colorscale": [
             [
              0,
              "#0d0887"
             ],
             [
              0.1111111111111111,
              "#46039f"
             ],
             [
              0.2222222222222222,
              "#7201a8"
             ],
             [
              0.3333333333333333,
              "#9c179e"
             ],
             [
              0.4444444444444444,
              "#bd3786"
             ],
             [
              0.5555555555555556,
              "#d8576b"
             ],
             [
              0.6666666666666666,
              "#ed7953"
             ],
             [
              0.7777777777777778,
              "#fb9f3a"
             ],
             [
              0.8888888888888888,
              "#fdca26"
             ],
             [
              1,
              "#f0f921"
             ]
            ],
            "type": "surface"
           }
          ],
          "table": [
           {
            "cells": {
             "fill": {
              "color": "#EBF0F8"
             },
             "line": {
              "color": "white"
             }
            },
            "header": {
             "fill": {
              "color": "#C8D4E3"
             },
             "line": {
              "color": "white"
             }
            },
            "type": "table"
           }
          ]
         },
         "layout": {
          "annotationdefaults": {
           "arrowcolor": "#2a3f5f",
           "arrowhead": 0,
           "arrowwidth": 1
          },
          "autotypenumbers": "strict",
          "coloraxis": {
           "colorbar": {
            "outlinewidth": 0,
            "ticks": ""
           }
          },
          "colorscale": {
           "diverging": [
            [
             0,
             "#8e0152"
            ],
            [
             0.1,
             "#c51b7d"
            ],
            [
             0.2,
             "#de77ae"
            ],
            [
             0.3,
             "#f1b6da"
            ],
            [
             0.4,
             "#fde0ef"
            ],
            [
             0.5,
             "#f7f7f7"
            ],
            [
             0.6,
             "#e6f5d0"
            ],
            [
             0.7,
             "#b8e186"
            ],
            [
             0.8,
             "#7fbc41"
            ],
            [
             0.9,
             "#4d9221"
            ],
            [
             1,
             "#276419"
            ]
           ],
           "sequential": [
            [
             0,
             "#0d0887"
            ],
            [
             0.1111111111111111,
             "#46039f"
            ],
            [
             0.2222222222222222,
             "#7201a8"
            ],
            [
             0.3333333333333333,
             "#9c179e"
            ],
            [
             0.4444444444444444,
             "#bd3786"
            ],
            [
             0.5555555555555556,
             "#d8576b"
            ],
            [
             0.6666666666666666,
             "#ed7953"
            ],
            [
             0.7777777777777778,
             "#fb9f3a"
            ],
            [
             0.8888888888888888,
             "#fdca26"
            ],
            [
             1,
             "#f0f921"
            ]
           ],
           "sequentialminus": [
            [
             0,
             "#0d0887"
            ],
            [
             0.1111111111111111,
             "#46039f"
            ],
            [
             0.2222222222222222,
             "#7201a8"
            ],
            [
             0.3333333333333333,
             "#9c179e"
            ],
            [
             0.4444444444444444,
             "#bd3786"
            ],
            [
             0.5555555555555556,
             "#d8576b"
            ],
            [
             0.6666666666666666,
             "#ed7953"
            ],
            [
             0.7777777777777778,
             "#fb9f3a"
            ],
            [
             0.8888888888888888,
             "#fdca26"
            ],
            [
             1,
             "#f0f921"
            ]
           ]
          },
          "colorway": [
           "#636efa",
           "#EF553B",
           "#00cc96",
           "#ab63fa",
           "#FFA15A",
           "#19d3f3",
           "#FF6692",
           "#B6E880",
           "#FF97FF",
           "#FECB52"
          ],
          "font": {
           "color": "#2a3f5f"
          },
          "geo": {
           "bgcolor": "white",
           "lakecolor": "white",
           "landcolor": "#E5ECF6",
           "showlakes": true,
           "showland": true,
           "subunitcolor": "white"
          },
          "hoverlabel": {
           "align": "left"
          },
          "hovermode": "closest",
          "mapbox": {
           "style": "light"
          },
          "paper_bgcolor": "white",
          "plot_bgcolor": "#E5ECF6",
          "polar": {
           "angularaxis": {
            "gridcolor": "white",
            "linecolor": "white",
            "ticks": ""
           },
           "bgcolor": "#E5ECF6",
           "radialaxis": {
            "gridcolor": "white",
            "linecolor": "white",
            "ticks": ""
           }
          },
          "scene": {
           "xaxis": {
            "backgroundcolor": "#E5ECF6",
            "gridcolor": "white",
            "gridwidth": 2,
            "linecolor": "white",
            "showbackground": true,
            "ticks": "",
            "zerolinecolor": "white"
           },
           "yaxis": {
            "backgroundcolor": "#E5ECF6",
            "gridcolor": "white",
            "gridwidth": 2,
            "linecolor": "white",
            "showbackground": true,
            "ticks": "",
            "zerolinecolor": "white"
           },
           "zaxis": {
            "backgroundcolor": "#E5ECF6",
            "gridcolor": "white",
            "gridwidth": 2,
            "linecolor": "white",
            "showbackground": true,
            "ticks": "",
            "zerolinecolor": "white"
           }
          },
          "shapedefaults": {
           "line": {
            "color": "#2a3f5f"
           }
          },
          "ternary": {
           "aaxis": {
            "gridcolor": "white",
            "linecolor": "white",
            "ticks": ""
           },
           "baxis": {
            "gridcolor": "white",
            "linecolor": "white",
            "ticks": ""
           },
           "bgcolor": "#E5ECF6",
           "caxis": {
            "gridcolor": "white",
            "linecolor": "white",
            "ticks": ""
           }
          },
          "title": {
           "x": 0.05
          },
          "xaxis": {
           "automargin": true,
           "gridcolor": "white",
           "linecolor": "white",
           "ticks": "",
           "title": {
            "standoff": 15
           },
           "zerolinecolor": "white",
           "zerolinewidth": 2
          },
          "yaxis": {
           "automargin": true,
           "gridcolor": "white",
           "linecolor": "white",
           "ticks": "",
           "title": {
            "standoff": 15
           },
           "zerolinecolor": "white",
           "zerolinewidth": 2
          }
         }
        },
        "xaxis": {
         "anchor": "y",
         "domain": [
          0,
          1
         ],
         "title": {
          "text": "index"
         }
        },
        "yaxis": {
         "anchor": "x",
         "domain": [
          0,
          1
         ],
         "title": {
          "text": "value"
         }
        }
       }
      }
     },
     "metadata": {},
     "output_type": "display_data"
    }
   ],
   "source": [
    "market[[\n",
    "    'market.amm.historical_oracle_data.last_oracle_price',\n",
    "    'market.expiry_price',\n",
    "    'market.amm.historical_oracle_data.last_oracle_price_twap',\n",
    "    'market.amm.base_asset_amount_with_amm',\n",
    "]].plot()"
   ]
  },
  {
   "cell_type": "code",
   "execution_count": 29,
   "metadata": {},
   "outputs": [
    {
     "data": {
      "application/vnd.plotly.v1+json": {
       "config": {
        "plotlyServerURL": "https://plot.ly"
       },
       "data": [
        {
         "hovertemplate": "variable=market.amm.base_asset_reserve<br>index=%{x}<br>value=%{y}<extra></extra>",
         "legendgroup": "market.amm.base_asset_reserve",
         "line": {
          "color": "#636efa",
          "dash": "solid"
         },
         "marker": {
          "symbol": "circle"
         },
         "mode": "lines",
         "name": "market.amm.base_asset_reserve",
         "showlegend": true,
         "type": "scattergl",
         "x": [
          0,
          1,
          2,
          3,
          4,
          5,
          6,
          7,
          8,
          9,
          10,
          11,
          12,
          13,
          14,
          15,
          16,
          17,
          18,
          19,
          20,
          21,
          22,
          23,
          24,
          25,
          26,
          27,
          28,
          29,
          30,
          31,
          32,
          33,
          34,
          35,
          36,
          37,
          38,
          39,
          40,
          41,
          42,
          43,
          44,
          45,
          46,
          47,
          48,
          49,
          50,
          51,
          52,
          53,
          54,
          55,
          56,
          57,
          58,
          59,
          60,
          61,
          62,
          63,
          64,
          65,
          66,
          67,
          68,
          69,
          70,
          71,
          72,
          73,
          74,
          75,
          76,
          77,
          78,
          79,
          80,
          81,
          82,
          83,
          84,
          85,
          86,
          87,
          88,
          89,
          90,
          91,
          92,
          93,
          94,
          95,
          96,
          97,
          98,
          99,
          100,
          101,
          102,
          103,
          104,
          105,
          106,
          107,
          108,
          109,
          110,
          111,
          112,
          113,
          114,
          115,
          116,
          117,
          118,
          119,
          120,
          121,
          122,
          123,
          124,
          125,
          126,
          127,
          128,
          129,
          130,
          131,
          132,
          133,
          134,
          135,
          136,
          137,
          138,
          139,
          140,
          141,
          142,
          143,
          144,
          145,
          146,
          147,
          148,
          149,
          150,
          151,
          152,
          153,
          154,
          155,
          156,
          157,
          158,
          159,
          160,
          161,
          162,
          163,
          164,
          165,
          166,
          167,
          168,
          169,
          170,
          171,
          172,
          173,
          174,
          175,
          176,
          177,
          178,
          179,
          180,
          181,
          182,
          183,
          184,
          185,
          186,
          187,
          188,
          189,
          190,
          191,
          192,
          193,
          194,
          195,
          196,
          197,
          198,
          199,
          200,
          201,
          202,
          203,
          204,
          205,
          206,
          207,
          208,
          209,
          210,
          211,
          212,
          213,
          214,
          215,
          216,
          217,
          218,
          219,
          220,
          221,
          222,
          223,
          224,
          225,
          226,
          227,
          228,
          229,
          230,
          231,
          232,
          233,
          234,
          235,
          236,
          237,
          238,
          239,
          240,
          241,
          242,
          243,
          244,
          245,
          246,
          247,
          248,
          249,
          250,
          251,
          252,
          253,
          254,
          255,
          256,
          257,
          258,
          259,
          260,
          261,
          262,
          263,
          264,
          265,
          266,
          267,
          268,
          269,
          270,
          271,
          272,
          273,
          274,
          275,
          276,
          277,
          278,
          279,
          280,
          281,
          282,
          283
         ],
         "xaxis": "x",
         "y": [
          36.7621,
          36.7621,
          36.7621,
          36.7621,
          36.7621,
          44.3755,
          98.45728431,
          108.26408431,
          108.26408431,
          194.435792538,
          306.293627588,
          306.293627588,
          306.293627588,
          342.918163119,
          438.592372122,
          438.592372122,
          467.187744792,
          524.057939463,
          642.924882349,
          642.924882349,
          761.982297124,
          776.826997124,
          781.575897124,
          781.575897124,
          781.575897124,
          781.575897124,
          781.575897124,
          781.575897124,
          781.575897124,
          792.834197124,
          797.549897124,
          797.549897124,
          797.549897124,
          588.296216195,
          666.172095478,
          666.172095478,
          802.626913058,
          802.626913058,
          831.966513058,
          829.342213058,
          829.342213058,
          829.342213058,
          829.342213058,
          828.512870845,
          846.866970845,
          846.866970845,
          846.866970845,
          912.085470845,
          912.085470845,
          940.120906872,
          940.120906872,
          939.180785966,
          939.180785966,
          939.180785966,
          965.965545771,
          964.999580226,
          964.999580226,
          964.999580226,
          1125.196413461,
          1125.196413461,
          1125.196413461,
          903.975089853,
          903.975089853,
          903.975089853,
          903.975089853,
          760.323789853,
          760.323789853,
          713.718189853,
          713.718189853,
          713.718189853,
          713.718189853,
          713.718189853,
          713.718189853,
          713.718189853,
          741.781989853,
          741.781989853,
          741.781989853,
          760.755289853,
          760.755289853,
          857.479347703,
          857.479347703,
          857.479347703,
          857.479347703,
          857.479347703,
          773.389147703,
          773.389147703,
          773.389147703,
          773.389147703,
          773.389147703,
          773.389147703,
          773.389147703,
          632.923383186,
          632.923383186,
          632.923383186,
          632.923383186,
          632.923383186,
          632.923383186,
          632.923383186,
          632.923383186,
          632.923383186,
          632.923383186,
          632.923383186,
          632.923383186,
          632.923383186,
          632.923383186,
          632.923383186,
          608.684475243,
          608.684475243,
          608.684475243,
          608.684475243,
          592.392975243,
          592.392975243,
          592.392975243,
          633.744975243,
          633.744975243,
          589.053875243,
          597.481475243,
          650.291775243,
          650.291775243,
          650.291775243,
          650.291775243,
          704.370433999,
          618.725710327,
          618.725710327,
          618.725710327,
          671.672910327,
          671.672910327,
          671.672910327,
          658.349210327,
          658.349210327,
          658.349210327,
          807.913072806,
          807.913072806,
          833.747872806,
          833.747872806,
          862.642772806,
          862.642772806,
          594.497048976,
          594.497048976,
          650.849653129,
          650.849653129,
          751.070731759,
          751.070731759,
          751.070731759,
          751.070731759,
          757.285283267,
          757.285283267,
          757.285283267,
          757.285283267,
          757.285283267,
          757.285283267,
          757.285283267,
          757.285283267,
          757.285283267,
          757.285283267,
          636.245083267,
          636.245083267,
          598.277583267,
          598.277583267,
          598.277583267,
          726.824996912,
          726.824996912,
          726.824996912,
          668.067530191,
          668.067530191,
          668.067530191,
          668.067530191,
          668.067530191,
          668.067530191,
          663.041630191,
          663.041630191,
          708.89217361,
          775.568208722,
          775.568208722,
          775.568208722,
          835.991247303,
          748.092699006,
          748.092699006,
          748.092699006,
          748.092699006,
          748.092699006,
          748.092699006,
          814.062750201,
          814.062750201,
          826.307826733,
          858.053128223,
          858.053128223,
          858.053128223,
          858.053128223,
          858.053128223,
          880.117228223,
          880.603476269,
          607.97858379,
          607.97858379,
          607.97858379,
          607.97858379,
          533.441869781,
          533.441869781,
          279.78470917,
          369.666934163,
          452.300527295,
          452.300527295,
          452.300527295,
          491.895770302,
          522.024736954,
          521.502712218,
          521.502712218,
          521.502712218,
          453.836297524,
          453.836297524,
          453.836297524,
          453.836297524,
          453.382461227,
          304.389306242,
          304.389306242,
          304.389306242,
          304.389306242,
          304.389306242,
          304.389306242,
          304.389306242,
          381.492679943,
          381.492679943,
          415.601679515,
          415.186077836,
          415.186077836,
          338.082704184,
          303.973704805,
          191.211144463,
          151.615901305,
          151.615901305,
          197.706461369,
          298.358604956,
          298.358604956,
          298.358604956,
          404.536500596,
          475.749889719,
          429.659329844,
          429.659329844,
          306.729251928,
          306.729251928,
          306.422522677,
          306.422522677,
          306.422522677,
          308.037546145,
          308.037546145,
          200.893204717,
          200.893204717,
          340.410069583,
          340.410069583,
          371.638169583,
          219.322486532,
          219.322486532,
          219.322486532,
          219.322486532,
          219.322486532,
          228.783522576,
          330.317826973,
          320.856791102,
          209.970956404,
          209.970956404,
          209.970956404,
          131.517027575,
          131.517027575,
          131.517027575,
          131.517027575,
          131.517027575,
          29.982722985,
          31.766305197,
          31.766305197,
          31.766305197,
          31.766305197,
          31.766305197,
          31.766305197,
          31.766305197,
          31.766305197,
          31.766305197,
          31.766305197,
          31.766305197,
          31.766305197,
          31.766305197,
          31.766305197,
          31.766305197,
          31.766305197,
          31.766305197
         ],
         "yaxis": "y"
        },
        {
         "hovertemplate": "variable=market.amm.quote_asset_reserve<br>index=%{x}<br>value=%{y}<extra></extra>",
         "legendgroup": "market.amm.quote_asset_reserve",
         "line": {
          "color": "#EF553B",
          "dash": "solid"
         },
         "marker": {
          "symbol": "circle"
         },
         "mode": "lines",
         "name": "market.amm.quote_asset_reserve",
         "showlegend": true,
         "type": "scattergl",
         "x": [
          0,
          1,
          2,
          3,
          4,
          5,
          6,
          7,
          8,
          9,
          10,
          11,
          12,
          13,
          14,
          15,
          16,
          17,
          18,
          19,
          20,
          21,
          22,
          23,
          24,
          25,
          26,
          27,
          28,
          29,
          30,
          31,
          32,
          33,
          34,
          35,
          36,
          37,
          38,
          39,
          40,
          41,
          42,
          43,
          44,
          45,
          46,
          47,
          48,
          49,
          50,
          51,
          52,
          53,
          54,
          55,
          56,
          57,
          58,
          59,
          60,
          61,
          62,
          63,
          64,
          65,
          66,
          67,
          68,
          69,
          70,
          71,
          72,
          73,
          74,
          75,
          76,
          77,
          78,
          79,
          80,
          81,
          82,
          83,
          84,
          85,
          86,
          87,
          88,
          89,
          90,
          91,
          92,
          93,
          94,
          95,
          96,
          97,
          98,
          99,
          100,
          101,
          102,
          103,
          104,
          105,
          106,
          107,
          108,
          109,
          110,
          111,
          112,
          113,
          114,
          115,
          116,
          117,
          118,
          119,
          120,
          121,
          122,
          123,
          124,
          125,
          126,
          127,
          128,
          129,
          130,
          131,
          132,
          133,
          134,
          135,
          136,
          137,
          138,
          139,
          140,
          141,
          142,
          143,
          144,
          145,
          146,
          147,
          148,
          149,
          150,
          151,
          152,
          153,
          154,
          155,
          156,
          157,
          158,
          159,
          160,
          161,
          162,
          163,
          164,
          165,
          166,
          167,
          168,
          169,
          170,
          171,
          172,
          173,
          174,
          175,
          176,
          177,
          178,
          179,
          180,
          181,
          182,
          183,
          184,
          185,
          186,
          187,
          188,
          189,
          190,
          191,
          192,
          193,
          194,
          195,
          196,
          197,
          198,
          199,
          200,
          201,
          202,
          203,
          204,
          205,
          206,
          207,
          208,
          209,
          210,
          211,
          212,
          213,
          214,
          215,
          216,
          217,
          218,
          219,
          220,
          221,
          222,
          223,
          224,
          225,
          226,
          227,
          228,
          229,
          230,
          231,
          232,
          233,
          234,
          235,
          236,
          237,
          238,
          239,
          240,
          241,
          242,
          243,
          244,
          245,
          246,
          247,
          248,
          249,
          250,
          251,
          252,
          253,
          254,
          255,
          256,
          257,
          258,
          259,
          260,
          261,
          262,
          263,
          264,
          265,
          266,
          267,
          268,
          269,
          270,
          271,
          272,
          273,
          274,
          275,
          276,
          277,
          278,
          279,
          280,
          281,
          282,
          283
         ],
         "xaxis": "x",
         "y": [
          36.7621,
          36.7621,
          36.7621,
          36.7621,
          36.7621,
          30.454913103,
          67.571250798,
          61.450497581,
          61.450497581,
          110.361402652,
          173.85170677,
          173.85170677,
          173.85170677,
          194.639726706,
          248.94423437,
          248.94423437,
          265.174916082,
          297.454335572,
          364.922997137,
          364.922997137,
          432.499770457,
          424.234958129,
          421.657282179,
          421.657282179,
          421.657282179,
          421.657282179,
          421.657282179,
          421.657282179,
          421.657282179,
          415.66971984,
          413.21197556,
          413.21197556,
          413.21197556,
          304.797282773,
          345.144910295,
          345.144910295,
          415.842386717,
          415.842386717,
          401.177554542,
          402.447006693,
          402.447006693,
          402.447006693,
          402.447006693,
          402.044559687,
          393.331070665,
          393.331070665,
          393.331070665,
          365.206006456,
          365.206006456,
          376.431610214,
          376.431610214,
          376.055178604,
          376.055178604,
          376.055178604,
          386.780002106,
          386.393222104,
          386.393222104,
          386.393222104,
          316.961121215,
          316.961121215,
          316.961121215,
          254.644393056,
          254.644393056,
          254.644393056,
          254.644393056,
          302.755472294,
          302.755472294,
          322.52532073,
          322.52532073,
          322.52532073,
          322.52532073,
          322.52532073,
          322.52532073,
          322.52532073,
          310.323236803,
          310.323236803,
          310.323236803,
          302.583749549,
          302.583749549,
          341.054896058,
          341.054896058,
          341.054896058,
          341.054896058,
          341.054896058,
          378.137617617,
          378.137617617,
          378.137617617,
          378.137617617,
          378.137617617,
          378.137617617,
          378.137617617,
          309.458880973,
          309.458880973,
          309.458880973,
          309.458880973,
          309.458880973,
          309.458880973,
          309.458880973,
          309.458880973,
          309.458880973,
          309.458880973,
          309.458880973,
          309.458880973,
          309.458880973,
          309.458880973,
          309.458880973,
          297.607611844,
          297.607611844,
          297.607611844,
          297.607611844,
          305.792169411,
          305.792169411,
          305.792169411,
          285.839162629,
          285.839162629,
          307.525577298,
          303.187865314,
          278.565929849,
          278.565929849,
          278.565929849,
          278.565929849,
          301.731641778,
          265.043952968,
          265.043952968,
          265.043952968,
          244.150844178,
          244.150844178,
          244.150844178,
          249.0919796,
          249.0919796,
          249.0919796,
          305.680729473,
          305.680729473,
          296.208800648,
          296.208800648,
          286.287053264,
          286.287053264,
          197.296973469,
          197.296973469,
          215.998829865,
          215.998829865,
          249.259408379,
          249.259408379,
          249.259408379,
          249.259408379,
          251.321844581,
          251.321844581,
          251.321844581,
          251.321844581,
          251.321844581,
          251.321844581,
          251.321844581,
          251.321844581,
          251.321844581,
          251.321844581,
          299.133681768,
          299.133681768,
          318.11710749,
          318.11710749,
          318.11710749,
          386.468542594,
          386.468542594,
          386.468542594,
          355.22592829,
          355.22592829,
          355.22592829,
          355.22592829,
          355.22592829,
          355.22592829,
          357.918564637,
          357.918564637,
          382.66928942,
          418.661887588,
          418.661887588,
          418.661887588,
          451.279036316,
          403.830246667,
          403.830246667,
          403.830246667,
          403.830246667,
          403.830246667,
          403.830246667,
          439.441745941,
          439.441745941,
          446.051799433,
          463.188329429,
          463.188329429,
          463.188329429,
          463.188329429,
          463.188329429,
          451.576429,
          451.825916666,
          311.945714095,
          311.945714095,
          311.945714095,
          311.945714095,
          273.701918612,
          273.701918612,
          143.553807408,
          189.671179998,
          232.069376149,
          232.069376149,
          232.069376149,
          252.38516803,
          267.843940027,
          267.576096087,
          267.576096087,
          267.576096087,
          232.85735946,
          232.85735946,
          232.85735946,
          232.85735946,
          232.624502101,
          156.178098692,
          156.178098692,
          156.178098692,
          156.178098692,
          156.178098692,
          156.178098692,
          156.178098692,
          195.738812915,
          195.738812915,
          213.239686315,
          213.026446629,
          213.026446629,
          173.46573238,
          155.964858882,
          98.107891021,
          77.792099217,
          77.792099217,
          101.440551625,
          153.083825802,
          153.083825802,
          153.083825802,
          207.562289735,
          244.10093136,
          220.452478856,
          220.452478856,
          157.378692965,
          157.378692965,
          157.221314273,
          157.221314273,
          157.221314273,
          155.211587696,
          155.211587696,
          101.224521454,
          101.224521454,
          171.523205463,
          171.523205463,
          157.110412992,
          92.718803404,
          92.718803404,
          92.718803404,
          92.718803404,
          92.718803404,
          96.718466028,
          139.642196205,
          135.642533508,
          88.765434535,
          88.765434535,
          88.765434535,
          55.598956541,
          55.598956541,
          55.598956541,
          55.598956541,
          55.598956541,
          12.675226446,
          13.429237653,
          13.429237653,
          13.429237653,
          13.429237653,
          13.429237653,
          13.429237653,
          13.429237653,
          13.429237653,
          13.429237653,
          13.429237653,
          13.429237653,
          13.429237653,
          13.429237653,
          13.429237653,
          13.429237653,
          13.429237653,
          13.429237653
         ],
         "yaxis": "y"
        },
        {
         "hovertemplate": "variable=market.amm.terminal_quote_asset_reserve<br>index=%{x}<br>value=%{y}<extra></extra>",
         "legendgroup": "market.amm.terminal_quote_asset_reserve",
         "line": {
          "color": "#00cc96",
          "dash": "solid"
         },
         "marker": {
          "symbol": "circle"
         },
         "mode": "lines",
         "name": "market.amm.terminal_quote_asset_reserve",
         "showlegend": true,
         "type": "scattergl",
         "x": [
          0,
          1,
          2,
          3,
          4,
          5,
          6,
          7,
          8,
          9,
          10,
          11,
          12,
          13,
          14,
          15,
          16,
          17,
          18,
          19,
          20,
          21,
          22,
          23,
          24,
          25,
          26,
          27,
          28,
          29,
          30,
          31,
          32,
          33,
          34,
          35,
          36,
          37,
          38,
          39,
          40,
          41,
          42,
          43,
          44,
          45,
          46,
          47,
          48,
          49,
          50,
          51,
          52,
          53,
          54,
          55,
          56,
          57,
          58,
          59,
          60,
          61,
          62,
          63,
          64,
          65,
          66,
          67,
          68,
          69,
          70,
          71,
          72,
          73,
          74,
          75,
          76,
          77,
          78,
          79,
          80,
          81,
          82,
          83,
          84,
          85,
          86,
          87,
          88,
          89,
          90,
          91,
          92,
          93,
          94,
          95,
          96,
          97,
          98,
          99,
          100,
          101,
          102,
          103,
          104,
          105,
          106,
          107,
          108,
          109,
          110,
          111,
          112,
          113,
          114,
          115,
          116,
          117,
          118,
          119,
          120,
          121,
          122,
          123,
          124,
          125,
          126,
          127,
          128,
          129,
          130,
          131,
          132,
          133,
          134,
          135,
          136,
          137,
          138,
          139,
          140,
          141,
          142,
          143,
          144,
          145,
          146,
          147,
          148,
          149,
          150,
          151,
          152,
          153,
          154,
          155,
          156,
          157,
          158,
          159,
          160,
          161,
          162,
          163,
          164,
          165,
          166,
          167,
          168,
          169,
          170,
          171,
          172,
          173,
          174,
          175,
          176,
          177,
          178,
          179,
          180,
          181,
          182,
          183,
          184,
          185,
          186,
          187,
          188,
          189,
          190,
          191,
          192,
          193,
          194,
          195,
          196,
          197,
          198,
          199,
          200,
          201,
          202,
          203,
          204,
          205,
          206,
          207,
          208,
          209,
          210,
          211,
          212,
          213,
          214,
          215,
          216,
          217,
          218,
          219,
          220,
          221,
          222,
          223,
          224,
          225,
          226,
          227,
          228,
          229,
          230,
          231,
          232,
          233,
          234,
          235,
          236,
          237,
          238,
          239,
          240,
          241,
          242,
          243,
          244,
          245,
          246,
          247,
          248,
          249,
          250,
          251,
          252,
          253,
          254,
          255,
          256,
          257,
          258,
          259,
          260,
          261,
          262,
          263,
          264,
          265,
          266,
          267,
          268,
          269,
          270,
          271,
          272,
          273,
          274,
          275,
          276,
          277,
          278,
          279,
          280,
          281,
          282,
          283
         ],
         "xaxis": "x",
         "y": [
          36.7621,
          36.7621,
          36.7621,
          36.7621,
          36.7621,
          36.7621,
          73.234229266,
          69.134727869,
          69.134727869,
          117.642137467,
          180.961155392,
          180.961155392,
          180.961155392,
          201.718259435,
          255.96705404,
          255.96705404,
          272.185630441,
          304.444993521,
          371.88341148,
          371.88341148,
          439.439503018,
          431.446226605,
          428.950171376,
          428.950171376,
          428.950171376,
          428.950171376,
          428.950171376,
          428.950171376,
          428.950171376,
          423.14656277,
          420.762041702,
          420.762041702,
          420.762041702,
          312.396787307,
          352.722329095,
          352.722329095,
          423.391628294,
          423.391628294,
          409.13341023,
          410.369520729,
          410.369520729,
          410.369520729,
          410.369520729,
          409.967229843,
          401.466831293,
          401.466831293,
          401.466831293,
          373.917937777,
          373.917937777,
          385.137348481,
          385.137348481,
          384.761118416,
          384.761118416,
          384.761118416,
          395.480356879,
          395.093772786,
          395.093772786,
          395.093772786,
          326.202500257,
          326.202500257,
          326.202500257,
          263.952197252,
          263.952197252,
          263.952197252,
          263.952197252,
          313.230421265,
          313.230421265,
          333.426072578,
          333.426072578,
          333.426072578,
          333.426072578,
          333.426072578,
          333.426072578,
          333.426072578,
          320.964874147,
          320.964874147,
          320.964874147,
          313.054862931,
          313.054862931,
          351.485294019,
          351.485294019,
          351.485294019,
          351.485294019,
          351.485294019,
          389.258773486,
          389.258773486,
          389.258773486,
          389.258773486,
          389.258773486,
          389.258773486,
          389.258773486,
          320.653074583,
          320.653074583,
          320.653074583,
          320.653074583,
          320.653074583,
          320.653074583,
          320.653074583,
          320.653074583,
          320.653074583,
          320.653074583,
          320.653074583,
          320.653074583,
          320.653074583,
          320.653074583,
          320.653074583,
          308.817926205,
          308.817926205,
          308.817926205,
          308.817926205,
          317.18117723,
          317.18117723,
          317.18117723,
          296.780550371,
          296.780550371,
          318.951553921,
          314.520754629,
          289.334034411,
          289.334034411,
          289.334034411,
          289.334034411,
          312.467883222,
          275.833356137,
          275.833356137,
          275.833356137,
          254.383695197,
          254.383695197,
          254.383695197,
          259.460932531,
          259.460932531,
          259.460932531,
          315.970388806,
          315.970388806,
          306.285448851,
          306.285448851,
          296.133392362,
          296.133392362,
          207.298491773,
          207.298491773,
          225.956642014,
          225.956642014,
          259.156338216,
          259.156338216,
          259.156338216,
          259.156338216,
          261.215550693,
          261.215550693,
          261.215550693,
          261.215550693,
          261.215550693,
          261.215550693,
          261.215550693,
          261.215550693,
          261.215550693,
          261.215550693,
          310.203675319,
          310.203675319,
          329.592499581,
          329.592499581,
          329.592499581,
          397.871186934,
          397.871186934,
          397.871186934,
          366.658280429,
          366.658280429,
          366.658280429,
          366.658280429,
          366.658280429,
          366.658280429,
          369.399870688,
          369.399870688,
          394.126823655,
          430.09000526,
          430.09000526,
          430.09000526,
          462.684651493,
          415.269798481,
          415.269798481,
          415.269798481,
          415.269798481,
          415.269798481,
          415.269798481,
          450.855097111,
          450.855097111,
          457.460759477,
          474.58650345,
          474.58650345,
          474.58650345,
          474.58650345,
          474.58650345,
          462.809603772,
          463.058937152,
          323.305358646,
          323.305358646,
          323.305358646,
          323.305358646,
          285.119714209,
          285.119714209,
          155.420393729,
          201.303959187,
          243.573254444,
          243.573254444,
          243.573254444,
          263.843325809,
          279.272152956,
          279.004797137,
          279.004797137,
          279.004797137,
          244.359344077,
          244.359344077,
          244.359344077,
          244.359344077,
          244.127055455,
          167.965981821,
          167.965981821,
          167.965981821,
          167.965981821,
          167.965981821,
          167.965981821,
          167.965981821,
          207.349577652,
          207.349577652,
          224.79420044,
          224.581587503,
          224.581587503,
          185.165608188,
          167.753958563,
          110.447025664,
          90.550285919,
          90.550285919,
          113.728910779,
          164.889720151,
          164.889720151,
          164.889720151,
          219.13395446,
          255.57682885,
          231.986544774,
          231.986544774,
          169.159794449,
          169.159794449,
          169.003298618,
          169.003298618,
          169.003298618,
          166.927849825,
          166.927849825,
          113.432290685,
          113.432290685,
          183.155987125,
          183.155987125,
          168.024486149,
          104.186114834,
          104.186114834,
          104.186114834,
          104.186114834,
          104.186114834,
          108.127425727,
          150.651951708,
          146.677944287,
          100.296310151,
          100.296310151,
          100.296310151,
          68.098453325,
          68.098453325,
          68.098453325,
          68.098453325,
          68.098453325,
          65.044638311,
          55.937606856,
          55.937606856,
          55.937606856,
          55.937606856,
          55.937606856,
          55.937606856,
          55.937606856,
          55.937606856,
          55.937606856,
          55.937606856,
          55.937606856,
          55.937606856,
          55.937606856,
          55.937606856,
          55.937606856,
          55.937606856,
          55.937606856
         ],
         "yaxis": "y"
        },
        {
         "hovertemplate": "variable=market.amm.base_asset_amount_with_amm<br>index=%{x}<br>value=%{y}<extra></extra>",
         "legendgroup": "market.amm.base_asset_amount_with_amm",
         "line": {
          "color": "#ab63fa",
          "dash": "solid"
         },
         "marker": {
          "symbol": "circle"
         },
         "mode": "lines",
         "name": "market.amm.base_asset_amount_with_amm",
         "showlegend": true,
         "type": "scattergl",
         "x": [
          0,
          1,
          2,
          3,
          4,
          5,
          6,
          7,
          8,
          9,
          10,
          11,
          12,
          13,
          14,
          15,
          16,
          17,
          18,
          19,
          20,
          21,
          22,
          23,
          24,
          25,
          26,
          27,
          28,
          29,
          30,
          31,
          32,
          33,
          34,
          35,
          36,
          37,
          38,
          39,
          40,
          41,
          42,
          43,
          44,
          45,
          46,
          47,
          48,
          49,
          50,
          51,
          52,
          53,
          54,
          55,
          56,
          57,
          58,
          59,
          60,
          61,
          62,
          63,
          64,
          65,
          66,
          67,
          68,
          69,
          70,
          71,
          72,
          73,
          74,
          75,
          76,
          77,
          78,
          79,
          80,
          81,
          82,
          83,
          84,
          85,
          86,
          87,
          88,
          89,
          90,
          91,
          92,
          93,
          94,
          95,
          96,
          97,
          98,
          99,
          100,
          101,
          102,
          103,
          104,
          105,
          106,
          107,
          108,
          109,
          110,
          111,
          112,
          113,
          114,
          115,
          116,
          117,
          118,
          119,
          120,
          121,
          122,
          123,
          124,
          125,
          126,
          127,
          128,
          129,
          130,
          131,
          132,
          133,
          134,
          135,
          136,
          137,
          138,
          139,
          140,
          141,
          142,
          143,
          144,
          145,
          146,
          147,
          148,
          149,
          150,
          151,
          152,
          153,
          154,
          155,
          156,
          157,
          158,
          159,
          160,
          161,
          162,
          163,
          164,
          165,
          166,
          167,
          168,
          169,
          170,
          171,
          172,
          173,
          174,
          175,
          176,
          177,
          178,
          179,
          180,
          181,
          182,
          183,
          184,
          185,
          186,
          187,
          188,
          189,
          190,
          191,
          192,
          193,
          194,
          195,
          196,
          197,
          198,
          199,
          200,
          201,
          202,
          203,
          204,
          205,
          206,
          207,
          208,
          209,
          210,
          211,
          212,
          213,
          214,
          215,
          216,
          217,
          218,
          219,
          220,
          221,
          222,
          223,
          224,
          225,
          226,
          227,
          228,
          229,
          230,
          231,
          232,
          233,
          234,
          235,
          236,
          237,
          238,
          239,
          240,
          241,
          242,
          243,
          244,
          245,
          246,
          247,
          248,
          249,
          250,
          251,
          252,
          253,
          254,
          255,
          256,
          257,
          258,
          259,
          260,
          261,
          262,
          263,
          264,
          265,
          266,
          267,
          268,
          269,
          270,
          271,
          272,
          273,
          274,
          275,
          276,
          277,
          278,
          279,
          280,
          281,
          282,
          283
         ],
         "xaxis": "x",
         "y": [
          0,
          0,
          0,
          0,
          0,
          -7.6134,
          -7.6134,
          -12.033404649,
          -12.033404649,
          -12.033404649,
          -12.033404649,
          -12.033404649,
          -12.033404649,
          -12.033404649,
          -12.033404649,
          -12.033404649,
          -12.033404649,
          -12.033404649,
          -12.033404649,
          -12.033404649,
          -12.033404649,
          -12.98402371,
          -13.288131809,
          -13.288131809,
          -13.288131809,
          -13.288131809,
          -13.288131809,
          -13.288131809,
          -13.288131809,
          -14.009086409,
          -14.311068676,
          -14.311068676,
          -14.311068676,
          -14.311157939,
          -14.311157939,
          -14.311157939,
          -14.311157939,
          -14.311157939,
          -16.178110487,
          -16.011119226,
          -16.011119226,
          -16.011119226,
          -16.011119226,
          -16.011119226,
          -17.16183361,
          -17.16183361,
          -17.16183361,
          -21.250721559,
          -21.250721559,
          -21.250721559,
          -21.250721559,
          -21.250721559,
          -21.250721559,
          -21.250721559,
          -21.250721559,
          -21.250721559,
          -21.250721559,
          -21.250721559,
          -31.877028978,
          -31.877028978,
          -31.877028978,
          -31.877071766,
          -31.877071766,
          -31.877071766,
          -31.877071766,
          -25.426498704,
          -25.426498704,
          -23.333702781,
          -23.333702781,
          -23.333702781,
          -23.333702781,
          -23.333702781,
          -23.333702781,
          -23.333702781,
          -24.593890362,
          -24.593890362,
          -24.593890362,
          -25.445874954,
          -25.445874954,
          -25.445874954,
          -25.445874954,
          -25.445874954,
          -25.445874954,
          -25.445874954,
          -22.09579294,
          -22.09579294,
          -22.09579294,
          -22.09579294,
          -22.09579294,
          -22.09579294,
          -22.09579294,
          -22.095739767,
          -22.095739767,
          -22.095739767,
          -22.095739767,
          -22.095739767,
          -22.095739767,
          -22.095739767,
          -22.095739767,
          -22.095739767,
          -22.095739767,
          -22.095739767,
          -22.095739767,
          -22.095739767,
          -22.095739767,
          -22.095739767,
          -22.095687249,
          -22.095687249,
          -22.095687249,
          -22.095687249,
          -21.271023349,
          -21.271023349,
          -21.271023349,
          -23.364231568,
          -23.364231568,
          -21.102000368,
          -21.528599709,
          -24.201818656,
          -24.201818656,
          -24.201818656,
          -24.201818656,
          -24.201818656,
          -24.201863158,
          -24.201863158,
          -24.201863158,
          -27.018747484,
          -27.018747484,
          -27.018747484,
          -26.309903028,
          -26.309903028,
          -26.309903028,
          -26.309903028,
          -26.309903028,
          -27.429915576,
          -27.429915576,
          -28.682591969,
          -28.682591969,
          -28.682664627,
          -28.682664627,
          -28.682664627,
          -28.682664627,
          -28.682664627,
          -28.682664627,
          -28.682664627,
          -28.682664627,
          -28.682664627,
          -28.682664627,
          -28.682664627,
          -28.682664627,
          -28.682664627,
          -28.682664627,
          -28.682664627,
          -28.682664627,
          -28.682664627,
          -28.682664627,
          -22.705175757,
          -22.705175757,
          -20.830176221,
          -20.830176221,
          -20.830176221,
          -20.830176221,
          -20.830176221,
          -20.830176221,
          -20.830248941,
          -20.830248941,
          -20.830248941,
          -20.830248941,
          -20.830248941,
          -20.830248941,
          -20.607976572,
          -20.607976572,
          -20.607976572,
          -20.607976572,
          -20.607976572,
          -20.607976572,
          -20.607976572,
          -20.607916163,
          -20.607916163,
          -20.607916163,
          -20.607916163,
          -20.607916163,
          -20.607916163,
          -20.607916163,
          -20.607916163,
          -20.607916163,
          -20.607916163,
          -20.607916163,
          -20.607916163,
          -20.607916163,
          -20.607916163,
          -21.361939259,
          -21.361939259,
          -21.361911957,
          -21.361911957,
          -21.361911957,
          -21.361911957,
          -21.362010161,
          -21.362010161,
          -21.361993256,
          -21.361993256,
          -21.361993256,
          -21.361993256,
          -21.361993256,
          -21.361993256,
          -21.361993256,
          -21.361993256,
          -21.361993256,
          -21.361993256,
          -21.362056493,
          -21.362056493,
          -21.362056493,
          -21.362056493,
          -21.362056493,
          -21.36209683,
          -21.36209683,
          -21.36209683,
          -21.36209683,
          -21.36209683,
          -21.36209683,
          -21.36209683,
          -21.36209683,
          -21.36209683,
          -21.36209683,
          -21.36209683,
          -21.36209683,
          -21.36209683,
          -21.36209683,
          -21.36209683,
          -21.36209683,
          -21.36209683,
          -21.36209683,
          -21.36209683,
          -21.36209683,
          -21.36209683,
          -21.36209683,
          -21.36209683,
          -21.36209683,
          -21.36209683,
          -21.3621,
          -21.3621,
          -21.3621,
          -21.3621,
          -21.3621,
          -21.620410494,
          -21.620410494,
          -21.620456295,
          -21.620456295,
          -21.620456295,
          -21.620456295,
          -24.139851658,
          -24.139869892,
          -24.139869892,
          -24.139869892,
          -24.139869892,
          -24.139869892,
          -24.139869892,
          -24.139869892,
          -24.139869892,
          -24.13996066,
          -24.13996066,
          -24.13996066,
          -24.139999999,
          -24.139999999,
          -24.139999999,
          -24.139999999,
          -24.139999999,
          -24.14,
          -24.14,
          -92.2676,
          -114.755,
          -124.3113,
          -112.107,
          -112.107,
          -126.8775,
          -108.9735,
          -80.9097,
          -85.737,
          -100.423,
          -165.2263,
          -150.1863,
          -136.1886,
          -107.7959,
          -74.5151,
          0
         ],
         "yaxis": "y"
        },
        {
         "hovertemplate": "variable=market.amm.sqrt_k<br>index=%{x}<br>value=%{y}<extra></extra>",
         "legendgroup": "market.amm.sqrt_k",
         "line": {
          "color": "#FFA15A",
          "dash": "solid"
         },
         "marker": {
          "symbol": "circle"
         },
         "mode": "lines",
         "name": "market.amm.sqrt_k",
         "showlegend": true,
         "type": "scattergl",
         "x": [
          0,
          1,
          2,
          3,
          4,
          5,
          6,
          7,
          8,
          9,
          10,
          11,
          12,
          13,
          14,
          15,
          16,
          17,
          18,
          19,
          20,
          21,
          22,
          23,
          24,
          25,
          26,
          27,
          28,
          29,
          30,
          31,
          32,
          33,
          34,
          35,
          36,
          37,
          38,
          39,
          40,
          41,
          42,
          43,
          44,
          45,
          46,
          47,
          48,
          49,
          50,
          51,
          52,
          53,
          54,
          55,
          56,
          57,
          58,
          59,
          60,
          61,
          62,
          63,
          64,
          65,
          66,
          67,
          68,
          69,
          70,
          71,
          72,
          73,
          74,
          75,
          76,
          77,
          78,
          79,
          80,
          81,
          82,
          83,
          84,
          85,
          86,
          87,
          88,
          89,
          90,
          91,
          92,
          93,
          94,
          95,
          96,
          97,
          98,
          99,
          100,
          101,
          102,
          103,
          104,
          105,
          106,
          107,
          108,
          109,
          110,
          111,
          112,
          113,
          114,
          115,
          116,
          117,
          118,
          119,
          120,
          121,
          122,
          123,
          124,
          125,
          126,
          127,
          128,
          129,
          130,
          131,
          132,
          133,
          134,
          135,
          136,
          137,
          138,
          139,
          140,
          141,
          142,
          143,
          144,
          145,
          146,
          147,
          148,
          149,
          150,
          151,
          152,
          153,
          154,
          155,
          156,
          157,
          158,
          159,
          160,
          161,
          162,
          163,
          164,
          165,
          166,
          167,
          168,
          169,
          170,
          171,
          172,
          173,
          174,
          175,
          176,
          177,
          178,
          179,
          180,
          181,
          182,
          183,
          184,
          185,
          186,
          187,
          188,
          189,
          190,
          191,
          192,
          193,
          194,
          195,
          196,
          197,
          198,
          199,
          200,
          201,
          202,
          203,
          204,
          205,
          206,
          207,
          208,
          209,
          210,
          211,
          212,
          213,
          214,
          215,
          216,
          217,
          218,
          219,
          220,
          221,
          222,
          223,
          224,
          225,
          226,
          227,
          228,
          229,
          230,
          231,
          232,
          233,
          234,
          235,
          236,
          237,
          238,
          239,
          240,
          241,
          242,
          243,
          244,
          245,
          246,
          247,
          248,
          249,
          250,
          251,
          252,
          253,
          254,
          255,
          256,
          257,
          258,
          259,
          260,
          261,
          262,
          263,
          264,
          265,
          266,
          267,
          268,
          269,
          270,
          271,
          272,
          273,
          274,
          275,
          276,
          277,
          278,
          279,
          280,
          281,
          282,
          283
         ],
         "xaxis": "x",
         "y": [
          36.7621,
          36.7621,
          36.7621,
          36.7621,
          36.7621,
          36.7621,
          81.5652,
          81.5652,
          81.5652,
          146.4862,
          230.7589,
          230.7589,
          230.7589,
          258.3515,
          330.4316,
          330.4316,
          351.9751,
          394.8206,
          484.3739,
          484.3739,
          574.0707,
          574.0707,
          574.0707,
          574.0707,
          574.0707,
          574.0707,
          574.0707,
          574.0707,
          574.0707,
          574.0707,
          574.0707,
          574.0707,
          574.0707,
          423.4514,
          479.5059,
          479.5059,
          577.7251,
          577.7251,
          577.7251,
          577.7251,
          577.7251,
          577.7251,
          577.7251,
          577.1473749,
          577.1473749,
          577.1473749,
          577.1473749,
          577.1473749,
          577.1473749,
          594.8875749,
          594.8875749,
          594.292687326,
          594.292687326,
          594.292687326,
          611.241487326,
          610.630245839,
          610.630245839,
          610.630245839,
          597.19638043,
          597.19638043,
          597.19638043,
          479.78348043,
          479.78348043,
          479.78348043,
          479.78348043,
          479.78348043,
          479.78348043,
          479.78348043,
          479.78348043,
          479.78348043,
          479.78348043,
          479.78348043,
          479.78348043,
          479.78348043,
          479.78348043,
          479.78348043,
          479.78348043,
          479.78348043,
          479.78348043,
          540.78418043,
          540.78418043,
          540.78418043,
          540.78418043,
          540.78418043,
          540.78418043,
          540.78418043,
          540.78418043,
          540.78418043,
          540.78418043,
          540.78418043,
          540.78418043,
          442.56498043,
          442.56498043,
          442.56498043,
          442.56498043,
          442.56498043,
          442.56498043,
          442.56498043,
          442.56498043,
          442.56498043,
          442.56498043,
          442.56498043,
          442.56498043,
          442.56498043,
          442.56498043,
          442.56498043,
          425.61618043,
          425.61618043,
          425.61618043,
          425.61618043,
          425.61618043,
          425.61618043,
          425.61618043,
          425.61618043,
          425.61618043,
          425.61618043,
          425.61618043,
          425.61618043,
          425.61618043,
          425.61618043,
          425.61618043,
          461.01068043,
          404.95618043,
          404.95618043,
          404.95618043,
          404.95618043,
          404.95618043,
          404.95618043,
          404.95618043,
          404.95618043,
          404.95618043,
          496.95418043,
          496.95418043,
          496.95418043,
          496.95418043,
          496.95418043,
          496.95418043,
          342.47988043,
          342.47988043,
          374.94368043,
          374.94368043,
          432.67938043,
          432.67938043,
          432.67938043,
          432.67938043,
          436.25948043,
          436.25948043,
          436.25948043,
          436.25948043,
          436.25948043,
          436.25948043,
          436.25948043,
          436.25948043,
          436.25948043,
          436.25948043,
          436.25948043,
          436.25948043,
          436.25948043,
          436.25948043,
          436.25948043,
          529.99528043,
          529.99528043,
          529.99528043,
          487.14978043,
          487.14978043,
          487.14978043,
          487.14978043,
          487.14978043,
          487.14978043,
          487.14978043,
          487.14978043,
          520.83708043,
          569.82528043,
          569.82528043,
          569.82528043,
          614.21928043,
          549.63848043,
          549.63848043,
          549.63848043,
          549.63848043,
          549.63848043,
          549.63848043,
          598.10798043,
          598.10798043,
          607.10468043,
          630.42858043,
          630.42858043,
          630.42858043,
          630.42858043,
          630.42858043,
          630.42858043,
          630.77688043,
          435.49548043,
          435.49548043,
          435.49548043,
          435.49548043,
          382.10478043,
          382.10478043,
          200.40998043,
          264.79268043,
          323.98318043,
          323.98318043,
          323.98318043,
          352.34528043,
          373.92668043,
          373.55275375,
          373.55275375,
          373.55275375,
          325.08325375,
          325.08325375,
          325.08325375,
          325.08325375,
          324.758170497,
          218.034270497,
          218.034270497,
          218.034270497,
          218.034270497,
          218.034270497,
          218.034270497,
          218.034270497,
          273.263470497,
          273.263470497,
          297.695770497,
          297.398074727,
          297.398074727,
          242.168874727,
          217.736574727,
          136.964674727,
          108.602574727,
          108.602574727,
          141.617274727,
          213.714474727,
          213.714474727,
          213.714474727,
          289.769774727,
          340.779974727,
          307.765274727,
          307.765274727,
          219.710374727,
          219.710374727,
          219.490664353,
          219.490664353,
          219.490664353,
          218.6572583,
          218.6572583,
          142.6019583,
          142.6019583,
          241.6365583,
          241.6365583,
          241.6365583,
          142.6019583,
          142.6019583,
          142.6019583,
          142.6019583,
          142.6019583,
          148.7534583,
          214.7703583,
          208.6188583,
          136.5216583,
          136.5216583,
          136.5216583,
          85.5114583,
          85.5114583,
          85.5114583,
          85.5114583,
          85.5114583,
          19.4945583,
          20.654231089,
          20.654231089,
          20.654231089,
          20.654231089,
          20.654231089,
          20.654231089,
          20.654231089,
          20.654231089,
          20.654231089,
          20.654231089,
          20.654231089,
          20.654231089,
          20.654231089,
          20.654231089,
          20.654231089,
          20.654231089,
          20.654231089
         ],
         "yaxis": "y"
        }
       ],
       "layout": {
        "legend": {
         "title": {
          "text": "variable"
         },
         "tracegroupgap": 0
        },
        "margin": {
         "t": 60
        },
        "template": {
         "data": {
          "bar": [
           {
            "error_x": {
             "color": "#2a3f5f"
            },
            "error_y": {
             "color": "#2a3f5f"
            },
            "marker": {
             "line": {
              "color": "#E5ECF6",
              "width": 0.5
             },
             "pattern": {
              "fillmode": "overlay",
              "size": 10,
              "solidity": 0.2
             }
            },
            "type": "bar"
           }
          ],
          "barpolar": [
           {
            "marker": {
             "line": {
              "color": "#E5ECF6",
              "width": 0.5
             },
             "pattern": {
              "fillmode": "overlay",
              "size": 10,
              "solidity": 0.2
             }
            },
            "type": "barpolar"
           }
          ],
          "carpet": [
           {
            "aaxis": {
             "endlinecolor": "#2a3f5f",
             "gridcolor": "white",
             "linecolor": "white",
             "minorgridcolor": "white",
             "startlinecolor": "#2a3f5f"
            },
            "baxis": {
             "endlinecolor": "#2a3f5f",
             "gridcolor": "white",
             "linecolor": "white",
             "minorgridcolor": "white",
             "startlinecolor": "#2a3f5f"
            },
            "type": "carpet"
           }
          ],
          "choropleth": [
           {
            "colorbar": {
             "outlinewidth": 0,
             "ticks": ""
            },
            "type": "choropleth"
           }
          ],
          "contour": [
           {
            "colorbar": {
             "outlinewidth": 0,
             "ticks": ""
            },
            "colorscale": [
             [
              0,
              "#0d0887"
             ],
             [
              0.1111111111111111,
              "#46039f"
             ],
             [
              0.2222222222222222,
              "#7201a8"
             ],
             [
              0.3333333333333333,
              "#9c179e"
             ],
             [
              0.4444444444444444,
              "#bd3786"
             ],
             [
              0.5555555555555556,
              "#d8576b"
             ],
             [
              0.6666666666666666,
              "#ed7953"
             ],
             [
              0.7777777777777778,
              "#fb9f3a"
             ],
             [
              0.8888888888888888,
              "#fdca26"
             ],
             [
              1,
              "#f0f921"
             ]
            ],
            "type": "contour"
           }
          ],
          "contourcarpet": [
           {
            "colorbar": {
             "outlinewidth": 0,
             "ticks": ""
            },
            "type": "contourcarpet"
           }
          ],
          "heatmap": [
           {
            "colorbar": {
             "outlinewidth": 0,
             "ticks": ""
            },
            "colorscale": [
             [
              0,
              "#0d0887"
             ],
             [
              0.1111111111111111,
              "#46039f"
             ],
             [
              0.2222222222222222,
              "#7201a8"
             ],
             [
              0.3333333333333333,
              "#9c179e"
             ],
             [
              0.4444444444444444,
              "#bd3786"
             ],
             [
              0.5555555555555556,
              "#d8576b"
             ],
             [
              0.6666666666666666,
              "#ed7953"
             ],
             [
              0.7777777777777778,
              "#fb9f3a"
             ],
             [
              0.8888888888888888,
              "#fdca26"
             ],
             [
              1,
              "#f0f921"
             ]
            ],
            "type": "heatmap"
           }
          ],
          "heatmapgl": [
           {
            "colorbar": {
             "outlinewidth": 0,
             "ticks": ""
            },
            "colorscale": [
             [
              0,
              "#0d0887"
             ],
             [
              0.1111111111111111,
              "#46039f"
             ],
             [
              0.2222222222222222,
              "#7201a8"
             ],
             [
              0.3333333333333333,
              "#9c179e"
             ],
             [
              0.4444444444444444,
              "#bd3786"
             ],
             [
              0.5555555555555556,
              "#d8576b"
             ],
             [
              0.6666666666666666,
              "#ed7953"
             ],
             [
              0.7777777777777778,
              "#fb9f3a"
             ],
             [
              0.8888888888888888,
              "#fdca26"
             ],
             [
              1,
              "#f0f921"
             ]
            ],
            "type": "heatmapgl"
           }
          ],
          "histogram": [
           {
            "marker": {
             "pattern": {
              "fillmode": "overlay",
              "size": 10,
              "solidity": 0.2
             }
            },
            "type": "histogram"
           }
          ],
          "histogram2d": [
           {
            "colorbar": {
             "outlinewidth": 0,
             "ticks": ""
            },
            "colorscale": [
             [
              0,
              "#0d0887"
             ],
             [
              0.1111111111111111,
              "#46039f"
             ],
             [
              0.2222222222222222,
              "#7201a8"
             ],
             [
              0.3333333333333333,
              "#9c179e"
             ],
             [
              0.4444444444444444,
              "#bd3786"
             ],
             [
              0.5555555555555556,
              "#d8576b"
             ],
             [
              0.6666666666666666,
              "#ed7953"
             ],
             [
              0.7777777777777778,
              "#fb9f3a"
             ],
             [
              0.8888888888888888,
              "#fdca26"
             ],
             [
              1,
              "#f0f921"
             ]
            ],
            "type": "histogram2d"
           }
          ],
          "histogram2dcontour": [
           {
            "colorbar": {
             "outlinewidth": 0,
             "ticks": ""
            },
            "colorscale": [
             [
              0,
              "#0d0887"
             ],
             [
              0.1111111111111111,
              "#46039f"
             ],
             [
              0.2222222222222222,
              "#7201a8"
             ],
             [
              0.3333333333333333,
              "#9c179e"
             ],
             [
              0.4444444444444444,
              "#bd3786"
             ],
             [
              0.5555555555555556,
              "#d8576b"
             ],
             [
              0.6666666666666666,
              "#ed7953"
             ],
             [
              0.7777777777777778,
              "#fb9f3a"
             ],
             [
              0.8888888888888888,
              "#fdca26"
             ],
             [
              1,
              "#f0f921"
             ]
            ],
            "type": "histogram2dcontour"
           }
          ],
          "mesh3d": [
           {
            "colorbar": {
             "outlinewidth": 0,
             "ticks": ""
            },
            "type": "mesh3d"
           }
          ],
          "parcoords": [
           {
            "line": {
             "colorbar": {
              "outlinewidth": 0,
              "ticks": ""
             }
            },
            "type": "parcoords"
           }
          ],
          "pie": [
           {
            "automargin": true,
            "type": "pie"
           }
          ],
          "scatter": [
           {
            "fillpattern": {
             "fillmode": "overlay",
             "size": 10,
             "solidity": 0.2
            },
            "type": "scatter"
           }
          ],
          "scatter3d": [
           {
            "line": {
             "colorbar": {
              "outlinewidth": 0,
              "ticks": ""
             }
            },
            "marker": {
             "colorbar": {
              "outlinewidth": 0,
              "ticks": ""
             }
            },
            "type": "scatter3d"
           }
          ],
          "scattercarpet": [
           {
            "marker": {
             "colorbar": {
              "outlinewidth": 0,
              "ticks": ""
             }
            },
            "type": "scattercarpet"
           }
          ],
          "scattergeo": [
           {
            "marker": {
             "colorbar": {
              "outlinewidth": 0,
              "ticks": ""
             }
            },
            "type": "scattergeo"
           }
          ],
          "scattergl": [
           {
            "marker": {
             "colorbar": {
              "outlinewidth": 0,
              "ticks": ""
             }
            },
            "type": "scattergl"
           }
          ],
          "scattermapbox": [
           {
            "marker": {
             "colorbar": {
              "outlinewidth": 0,
              "ticks": ""
             }
            },
            "type": "scattermapbox"
           }
          ],
          "scatterpolar": [
           {
            "marker": {
             "colorbar": {
              "outlinewidth": 0,
              "ticks": ""
             }
            },
            "type": "scatterpolar"
           }
          ],
          "scatterpolargl": [
           {
            "marker": {
             "colorbar": {
              "outlinewidth": 0,
              "ticks": ""
             }
            },
            "type": "scatterpolargl"
           }
          ],
          "scatterternary": [
           {
            "marker": {
             "colorbar": {
              "outlinewidth": 0,
              "ticks": ""
             }
            },
            "type": "scatterternary"
           }
          ],
          "surface": [
           {
            "colorbar": {
             "outlinewidth": 0,
             "ticks": ""
            },
            "colorscale": [
             [
              0,
              "#0d0887"
             ],
             [
              0.1111111111111111,
              "#46039f"
             ],
             [
              0.2222222222222222,
              "#7201a8"
             ],
             [
              0.3333333333333333,
              "#9c179e"
             ],
             [
              0.4444444444444444,
              "#bd3786"
             ],
             [
              0.5555555555555556,
              "#d8576b"
             ],
             [
              0.6666666666666666,
              "#ed7953"
             ],
             [
              0.7777777777777778,
              "#fb9f3a"
             ],
             [
              0.8888888888888888,
              "#fdca26"
             ],
             [
              1,
              "#f0f921"
             ]
            ],
            "type": "surface"
           }
          ],
          "table": [
           {
            "cells": {
             "fill": {
              "color": "#EBF0F8"
             },
             "line": {
              "color": "white"
             }
            },
            "header": {
             "fill": {
              "color": "#C8D4E3"
             },
             "line": {
              "color": "white"
             }
            },
            "type": "table"
           }
          ]
         },
         "layout": {
          "annotationdefaults": {
           "arrowcolor": "#2a3f5f",
           "arrowhead": 0,
           "arrowwidth": 1
          },
          "autotypenumbers": "strict",
          "coloraxis": {
           "colorbar": {
            "outlinewidth": 0,
            "ticks": ""
           }
          },
          "colorscale": {
           "diverging": [
            [
             0,
             "#8e0152"
            ],
            [
             0.1,
             "#c51b7d"
            ],
            [
             0.2,
             "#de77ae"
            ],
            [
             0.3,
             "#f1b6da"
            ],
            [
             0.4,
             "#fde0ef"
            ],
            [
             0.5,
             "#f7f7f7"
            ],
            [
             0.6,
             "#e6f5d0"
            ],
            [
             0.7,
             "#b8e186"
            ],
            [
             0.8,
             "#7fbc41"
            ],
            [
             0.9,
             "#4d9221"
            ],
            [
             1,
             "#276419"
            ]
           ],
           "sequential": [
            [
             0,
             "#0d0887"
            ],
            [
             0.1111111111111111,
             "#46039f"
            ],
            [
             0.2222222222222222,
             "#7201a8"
            ],
            [
             0.3333333333333333,
             "#9c179e"
            ],
            [
             0.4444444444444444,
             "#bd3786"
            ],
            [
             0.5555555555555556,
             "#d8576b"
            ],
            [
             0.6666666666666666,
             "#ed7953"
            ],
            [
             0.7777777777777778,
             "#fb9f3a"
            ],
            [
             0.8888888888888888,
             "#fdca26"
            ],
            [
             1,
             "#f0f921"
            ]
           ],
           "sequentialminus": [
            [
             0,
             "#0d0887"
            ],
            [
             0.1111111111111111,
             "#46039f"
            ],
            [
             0.2222222222222222,
             "#7201a8"
            ],
            [
             0.3333333333333333,
             "#9c179e"
            ],
            [
             0.4444444444444444,
             "#bd3786"
            ],
            [
             0.5555555555555556,
             "#d8576b"
            ],
            [
             0.6666666666666666,
             "#ed7953"
            ],
            [
             0.7777777777777778,
             "#fb9f3a"
            ],
            [
             0.8888888888888888,
             "#fdca26"
            ],
            [
             1,
             "#f0f921"
            ]
           ]
          },
          "colorway": [
           "#636efa",
           "#EF553B",
           "#00cc96",
           "#ab63fa",
           "#FFA15A",
           "#19d3f3",
           "#FF6692",
           "#B6E880",
           "#FF97FF",
           "#FECB52"
          ],
          "font": {
           "color": "#2a3f5f"
          },
          "geo": {
           "bgcolor": "white",
           "lakecolor": "white",
           "landcolor": "#E5ECF6",
           "showlakes": true,
           "showland": true,
           "subunitcolor": "white"
          },
          "hoverlabel": {
           "align": "left"
          },
          "hovermode": "closest",
          "mapbox": {
           "style": "light"
          },
          "paper_bgcolor": "white",
          "plot_bgcolor": "#E5ECF6",
          "polar": {
           "angularaxis": {
            "gridcolor": "white",
            "linecolor": "white",
            "ticks": ""
           },
           "bgcolor": "#E5ECF6",
           "radialaxis": {
            "gridcolor": "white",
            "linecolor": "white",
            "ticks": ""
           }
          },
          "scene": {
           "xaxis": {
            "backgroundcolor": "#E5ECF6",
            "gridcolor": "white",
            "gridwidth": 2,
            "linecolor": "white",
            "showbackground": true,
            "ticks": "",
            "zerolinecolor": "white"
           },
           "yaxis": {
            "backgroundcolor": "#E5ECF6",
            "gridcolor": "white",
            "gridwidth": 2,
            "linecolor": "white",
            "showbackground": true,
            "ticks": "",
            "zerolinecolor": "white"
           },
           "zaxis": {
            "backgroundcolor": "#E5ECF6",
            "gridcolor": "white",
            "gridwidth": 2,
            "linecolor": "white",
            "showbackground": true,
            "ticks": "",
            "zerolinecolor": "white"
           }
          },
          "shapedefaults": {
           "line": {
            "color": "#2a3f5f"
           }
          },
          "ternary": {
           "aaxis": {
            "gridcolor": "white",
            "linecolor": "white",
            "ticks": ""
           },
           "baxis": {
            "gridcolor": "white",
            "linecolor": "white",
            "ticks": ""
           },
           "bgcolor": "#E5ECF6",
           "caxis": {
            "gridcolor": "white",
            "linecolor": "white",
            "ticks": ""
           }
          },
          "title": {
           "x": 0.05
          },
          "xaxis": {
           "automargin": true,
           "gridcolor": "white",
           "linecolor": "white",
           "ticks": "",
           "title": {
            "standoff": 15
           },
           "zerolinecolor": "white",
           "zerolinewidth": 2
          },
          "yaxis": {
           "automargin": true,
           "gridcolor": "white",
           "linecolor": "white",
           "ticks": "",
           "title": {
            "standoff": 15
           },
           "zerolinecolor": "white",
           "zerolinewidth": 2
          }
         }
        },
        "xaxis": {
         "anchor": "y",
         "domain": [
          0,
          1
         ],
         "title": {
          "text": "index"
         }
        },
        "yaxis": {
         "anchor": "x",
         "domain": [
          0,
          1
         ],
         "title": {
          "text": "value"
         }
        }
       }
      }
     },
     "metadata": {},
     "output_type": "display_data"
    }
   ],
   "source": [
    "market[[\n",
    "    'market.amm.base_asset_reserve',\n",
    "    'market.amm.quote_asset_reserve',\n",
    "    'market.amm.terminal_quote_asset_reserve',\n",
    "    'market.amm.base_asset_amount_with_amm',\n",
    "    'market.amm.sqrt_k',\n",
    "]].plot()"
   ]
  },
  {
   "cell_type": "code",
   "execution_count": 32,
   "metadata": {},
   "outputs": [
    {
     "data": {
      "application/vnd.plotly.v1+json": {
       "config": {
        "plotlyServerURL": "https://plot.ly"
       },
       "data": [
        {
         "hovertemplate": "variable=market.amm.base_asset_reserve<br>index=%{x}<br>value=%{y}<extra></extra>",
         "legendgroup": "market.amm.base_asset_reserve",
         "line": {
          "color": "#636efa",
          "dash": "solid"
         },
         "marker": {
          "symbol": "circle"
         },
         "mode": "lines",
         "name": "market.amm.base_asset_reserve",
         "showlegend": true,
         "type": "scattergl",
         "x": [
          0,
          1,
          2,
          3,
          4,
          5,
          6,
          7,
          8,
          9,
          10,
          11,
          12,
          13,
          14,
          15,
          16,
          17,
          18,
          19,
          20,
          21,
          22,
          23,
          24,
          25,
          26,
          27,
          28,
          29,
          30,
          31,
          32,
          33,
          34,
          35,
          36,
          37,
          38,
          39,
          40,
          41,
          42,
          43,
          44,
          45,
          46,
          47,
          48,
          49,
          50,
          51,
          52,
          53,
          54,
          55,
          56,
          57,
          58,
          59,
          60,
          61,
          62,
          63,
          64,
          65,
          66,
          67,
          68,
          69,
          70,
          71,
          72,
          73,
          74,
          75,
          76,
          77,
          78,
          79,
          80,
          81,
          82,
          83,
          84,
          85,
          86,
          87,
          88,
          89,
          90,
          91,
          92,
          93,
          94,
          95,
          96,
          97,
          98,
          99,
          100,
          101,
          102,
          103,
          104,
          105,
          106,
          107,
          108,
          109,
          110,
          111,
          112,
          113,
          114,
          115,
          116,
          117,
          118,
          119,
          120,
          121,
          122,
          123,
          124,
          125,
          126,
          127,
          128,
          129,
          130,
          131,
          132,
          133,
          134,
          135,
          136,
          137,
          138,
          139,
          140,
          141,
          142,
          143,
          144,
          145,
          146,
          147,
          148,
          149,
          150,
          151,
          152,
          153,
          154,
          155,
          156,
          157,
          158,
          159,
          160,
          161,
          162,
          163,
          164,
          165,
          166,
          167,
          168,
          169,
          170,
          171,
          172,
          173,
          174,
          175,
          176,
          177,
          178,
          179,
          180,
          181,
          182,
          183,
          184,
          185,
          186,
          187,
          188,
          189,
          190,
          191,
          192,
          193,
          194,
          195,
          196,
          197,
          198,
          199,
          200,
          201,
          202,
          203,
          204,
          205,
          206,
          207,
          208,
          209,
          210,
          211,
          212,
          213,
          214,
          215,
          216,
          217,
          218,
          219,
          220,
          221,
          222,
          223,
          224,
          225,
          226,
          227,
          228,
          229,
          230,
          231,
          232,
          233,
          234,
          235,
          236,
          237,
          238,
          239,
          240,
          241,
          242,
          243,
          244,
          245,
          246,
          247,
          248,
          249,
          250,
          251,
          252,
          253,
          254,
          255,
          256,
          257,
          258,
          259,
          260,
          261,
          262,
          263,
          264,
          265,
          266,
          267,
          268,
          269,
          270,
          271,
          272,
          273,
          274,
          275,
          276,
          277,
          278,
          279,
          280,
          281,
          282,
          283
         ],
         "xaxis": "x",
         "y": [
          36.7621,
          36.7621,
          36.7621,
          36.7621,
          36.7621,
          44.3755,
          98.45728431,
          108.26408431,
          108.26408431,
          194.435792538,
          306.293627588,
          306.293627588,
          306.293627588,
          342.918163119,
          438.592372122,
          438.592372122,
          467.187744792,
          524.057939463,
          642.924882349,
          642.924882349,
          761.982297124,
          776.826997124,
          781.575897124,
          781.575897124,
          781.575897124,
          781.575897124,
          781.575897124,
          781.575897124,
          781.575897124,
          792.834197124,
          797.549897124,
          797.549897124,
          797.549897124,
          588.296216195,
          666.172095478,
          666.172095478,
          802.626913058,
          802.626913058,
          831.966513058,
          829.342213058,
          829.342213058,
          829.342213058,
          829.342213058,
          828.512870845,
          846.866970845,
          846.866970845,
          846.866970845,
          912.085470845,
          912.085470845,
          940.120906872,
          940.120906872,
          939.180785966,
          939.180785966,
          939.180785966,
          965.965545771,
          964.999580226,
          964.999580226,
          964.999580226,
          1125.196413461,
          1125.196413461,
          1125.196413461,
          903.975089853,
          903.975089853,
          903.975089853,
          903.975089853,
          760.323789853,
          760.323789853,
          713.718189853,
          713.718189853,
          713.718189853,
          713.718189853,
          713.718189853,
          713.718189853,
          713.718189853,
          741.781989853,
          741.781989853,
          741.781989853,
          760.755289853,
          760.755289853,
          857.479347703,
          857.479347703,
          857.479347703,
          857.479347703,
          857.479347703,
          773.389147703,
          773.389147703,
          773.389147703,
          773.389147703,
          773.389147703,
          773.389147703,
          773.389147703,
          632.923383186,
          632.923383186,
          632.923383186,
          632.923383186,
          632.923383186,
          632.923383186,
          632.923383186,
          632.923383186,
          632.923383186,
          632.923383186,
          632.923383186,
          632.923383186,
          632.923383186,
          632.923383186,
          632.923383186,
          608.684475243,
          608.684475243,
          608.684475243,
          608.684475243,
          592.392975243,
          592.392975243,
          592.392975243,
          633.744975243,
          633.744975243,
          589.053875243,
          597.481475243,
          650.291775243,
          650.291775243,
          650.291775243,
          650.291775243,
          704.370433999,
          618.725710327,
          618.725710327,
          618.725710327,
          671.672910327,
          671.672910327,
          671.672910327,
          658.349210327,
          658.349210327,
          658.349210327,
          807.913072806,
          807.913072806,
          833.747872806,
          833.747872806,
          862.642772806,
          862.642772806,
          594.497048976,
          594.497048976,
          650.849653129,
          650.849653129,
          751.070731759,
          751.070731759,
          751.070731759,
          751.070731759,
          757.285283267,
          757.285283267,
          757.285283267,
          757.285283267,
          757.285283267,
          757.285283267,
          757.285283267,
          757.285283267,
          757.285283267,
          757.285283267,
          636.245083267,
          636.245083267,
          598.277583267,
          598.277583267,
          598.277583267,
          726.824996912,
          726.824996912,
          726.824996912,
          668.067530191,
          668.067530191,
          668.067530191,
          668.067530191,
          668.067530191,
          668.067530191,
          663.041630191,
          663.041630191,
          708.89217361,
          775.568208722,
          775.568208722,
          775.568208722,
          835.991247303,
          748.092699006,
          748.092699006,
          748.092699006,
          748.092699006,
          748.092699006,
          748.092699006,
          814.062750201,
          814.062750201,
          826.307826733,
          858.053128223,
          858.053128223,
          858.053128223,
          858.053128223,
          858.053128223,
          880.117228223,
          880.603476269,
          607.97858379,
          607.97858379,
          607.97858379,
          607.97858379,
          533.441869781,
          533.441869781,
          279.78470917,
          369.666934163,
          452.300527295,
          452.300527295,
          452.300527295,
          491.895770302,
          522.024736954,
          521.502712218,
          521.502712218,
          521.502712218,
          453.836297524,
          453.836297524,
          453.836297524,
          453.836297524,
          453.382461227,
          304.389306242,
          304.389306242,
          304.389306242,
          304.389306242,
          304.389306242,
          304.389306242,
          304.389306242,
          381.492679943,
          381.492679943,
          415.601679515,
          415.186077836,
          415.186077836,
          338.082704184,
          303.973704805,
          191.211144463,
          151.615901305,
          151.615901305,
          197.706461369,
          298.358604956,
          298.358604956,
          298.358604956,
          404.536500596,
          475.749889719,
          429.659329844,
          429.659329844,
          306.729251928,
          306.729251928,
          306.422522677,
          306.422522677,
          306.422522677,
          308.037546145,
          308.037546145,
          200.893204717,
          200.893204717,
          340.410069583,
          340.410069583,
          371.638169583,
          219.322486532,
          219.322486532,
          219.322486532,
          219.322486532,
          219.322486532,
          228.783522576,
          330.317826973,
          320.856791102,
          209.970956404,
          209.970956404,
          209.970956404,
          131.517027575,
          131.517027575,
          131.517027575,
          131.517027575,
          131.517027575,
          29.982722985,
          31.766305197,
          31.766305197,
          31.766305197,
          31.766305197,
          31.766305197,
          31.766305197,
          31.766305197,
          31.766305197,
          31.766305197,
          31.766305197,
          31.766305197,
          31.766305197,
          31.766305197,
          31.766305197,
          31.766305197,
          31.766305197,
          31.766305197
         ],
         "yaxis": "y"
        },
        {
         "hovertemplate": "variable=market.amm.min_base_asset_reserve<br>index=%{x}<br>value=%{y}<extra></extra>",
         "legendgroup": "market.amm.min_base_asset_reserve",
         "line": {
          "color": "#EF553B",
          "dash": "solid"
         },
         "marker": {
          "symbol": "circle"
         },
         "mode": "lines",
         "name": "market.amm.min_base_asset_reserve",
         "showlegend": true,
         "type": "scattergl",
         "x": [
          0,
          1,
          2,
          3,
          4,
          5,
          6,
          7,
          8,
          9,
          10,
          11,
          12,
          13,
          14,
          15,
          16,
          17,
          18,
          19,
          20,
          21,
          22,
          23,
          24,
          25,
          26,
          27,
          28,
          29,
          30,
          31,
          32,
          33,
          34,
          35,
          36,
          37,
          38,
          39,
          40,
          41,
          42,
          43,
          44,
          45,
          46,
          47,
          48,
          49,
          50,
          51,
          52,
          53,
          54,
          55,
          56,
          57,
          58,
          59,
          60,
          61,
          62,
          63,
          64,
          65,
          66,
          67,
          68,
          69,
          70,
          71,
          72,
          73,
          74,
          75,
          76,
          77,
          78,
          79,
          80,
          81,
          82,
          83,
          84,
          85,
          86,
          87,
          88,
          89,
          90,
          91,
          92,
          93,
          94,
          95,
          96,
          97,
          98,
          99,
          100,
          101,
          102,
          103,
          104,
          105,
          106,
          107,
          108,
          109,
          110,
          111,
          112,
          113,
          114,
          115,
          116,
          117,
          118,
          119,
          120,
          121,
          122,
          123,
          124,
          125,
          126,
          127,
          128,
          129,
          130,
          131,
          132,
          133,
          134,
          135,
          136,
          137,
          138,
          139,
          140,
          141,
          142,
          143,
          144,
          145,
          146,
          147,
          148,
          149,
          150,
          151,
          152,
          153,
          154,
          155,
          156,
          157,
          158,
          159,
          160,
          161,
          162,
          163,
          164,
          165,
          166,
          167,
          168,
          169,
          170,
          171,
          172,
          173,
          174,
          175,
          176,
          177,
          178,
          179,
          180,
          181,
          182,
          183,
          184,
          185,
          186,
          187,
          188,
          189,
          190,
          191,
          192,
          193,
          194,
          195,
          196,
          197,
          198,
          199,
          200,
          201,
          202,
          203,
          204,
          205,
          206,
          207,
          208,
          209,
          210,
          211,
          212,
          213,
          214,
          215,
          216,
          217,
          218,
          219,
          220,
          221,
          222,
          223,
          224,
          225,
          226,
          227,
          228,
          229,
          230,
          231,
          232,
          233,
          234,
          235,
          236,
          237,
          238,
          239,
          240,
          241,
          242,
          243,
          244,
          245,
          246,
          247,
          248,
          249,
          250,
          251,
          252,
          253,
          254,
          255,
          256,
          257,
          258,
          259,
          260,
          261,
          262,
          263,
          264,
          265,
          266,
          267,
          268,
          269,
          270,
          271,
          272,
          273,
          274,
          275,
          276,
          277,
          278,
          279,
          280,
          281,
          282,
          283
         ],
         "xaxis": "x",
         "y": [
          25.994979493,
          25.994979493,
          25.994979493,
          25.994979493,
          25.994979493,
          25.994979493,
          64.23694266,
          68.04601871,
          68.04601871,
          128.979202297,
          208.075394526,
          208.075394526,
          208.075394526,
          233.973100318,
          301.625631079,
          301.625631079,
          321.845806917,
          362.059492868,
          446.111920308,
          446.111920308,
          530.299033004,
          540.123726074,
          543.266698709,
          543.266698709,
          543.266698709,
          543.266698709,
          543.266698709,
          543.266698709,
          543.266698709,
          550.717798553,
          553.838798223,
          553.838798223,
          553.838798223,
          405.872619329,
          460.939709757,
          460.939709757,
          557.428761928,
          557.428761928,
          576.855043537,
          575.117447201,
          575.117447201,
          575.117447201,
          575.117447201,
          575.117447201,
          586.695755363,
          586.695755363,
          586.695755363,
          629.921333111,
          629.921333111,
          649.745570154,
          649.745570154,
          649.745570154,
          649.745570154,
          649.745570154,
          668.020664836,
          668.020664836,
          668.020664836,
          668.020664836,
          773.100964844,
          773.100964844,
          773.100964844,
          616.672336364,
          616.672336364,
          616.672336364,
          616.672336364,
          519.65584157,
          519.65584157,
          488.180234105,
          488.180234105,
          488.180234105,
          488.180234105,
          488.180234105,
          488.180234105,
          488.180234105,
          507.133431969,
          507.133431969,
          507.133431969,
          519.947259863,
          519.947259863,
          588.342152983,
          588.342152983,
          588.342152983,
          588.342152983,
          588.342152983,
          531.249720522,
          531.249720522,
          531.249720522,
          531.249720522,
          531.249720522,
          531.249720522,
          531.249720522,
          431.924510973,
          431.924510973,
          431.924510973,
          431.924510973,
          431.924510973,
          431.924510973,
          431.924510973,
          431.924510973,
          431.924510973,
          431.924510973,
          431.924510973,
          431.924510973,
          431.924510973,
          431.924510973,
          431.924510973,
          414.784887564,
          414.784887564,
          414.784887564,
          414.784887564,
          403.84807799,
          403.84807799,
          403.84807799,
          431.608502103,
          431.608502103,
          401.606473536,
          407.264089615,
          442.716699608,
          442.716699608,
          442.716699608,
          442.716699608,
          480.956452653,
          420.395875526,
          420.395875526,
          420.395875526,
          455.843701628,
          455.843701628,
          455.843701628,
          446.923566185,
          446.923566185,
          446.923566185,
          552.682201794,
          552.682201794,
          570.158363194,
          570.158363194,
          589.704554403,
          589.704554403,
          400.095024995,
          400.095024995,
          439.942715671,
          439.942715671,
          510.810399612,
          510.810399612,
          510.810399612,
          510.810399612,
          515.204793268,
          515.204793268,
          515.204793268,
          515.204793268,
          515.204793268,
          515.204793268,
          515.204793268,
          515.204793268,
          515.204793268,
          515.204793268,
          433.842389697,
          433.842389697,
          408.320893116,
          408.320893116,
          408.320893116,
          499.218512721,
          499.218512721,
          499.218512721,
          457.670259687,
          457.670259687,
          457.670259687,
          457.670259687,
          457.670259687,
          457.670259687,
          454.27354944,
          454.27354944,
          486.695090537,
          533.842619254,
          533.842619254,
          533.842619254,
          576.568569319,
          514.414356415,
          514.414356415,
          514.414356415,
          514.414356415,
          514.414356415,
          514.414356415,
          561.06267433,
          561.06267433,
          569.721334019,
          592.168867246,
          592.168867246,
          592.168867246,
          592.168867246,
          592.168867246,
          607.237511641,
          607.581344229,
          414.804604605,
          414.804604605,
          414.804604605,
          414.804604605,
          362.098613788,
          362.098613788,
          182.734207264,
          246.291147579,
          304.722481996,
          304.722481996,
          304.722481996,
          332.720815334,
          354.025416276,
          354.025416276,
          354.025416276,
          354.025416276,
          305.808401238,
          305.808401238,
          305.808401238,
          305.808401238,
          305.808401238,
          200.132378314,
          200.132378314,
          200.132378314,
          200.132378314,
          200.132378314,
          200.132378314,
          200.132378314,
          254.653219567,
          254.653219567,
          278.772155766,
          278.772155766,
          278.772155766,
          223.957436963,
          199.838500901,
          120.102565148,
          92.104231703,
          92.104231703,
          124.695491825,
          195.867987643,
          195.867987643,
          195.867987643,
          270.947817682,
          321.303770958,
          288.71251097,
          288.71251097,
          201.786983402,
          201.786983402,
          201.786983402,
          201.786983402,
          201.786983402,
          202.529441133,
          202.529441133,
          126.766191784,
          126.766191784,
          225.42045912,
          225.42045912,
          245.720773529,
          138.016275378,
          138.016275378,
          138.016275378,
          138.016275378,
          138.016275378,
          144.706302279,
          216.502585971,
          209.812559192,
          131.403617411,
          131.403617411,
          131.403617411,
          75.927752493,
          75.927752493,
          75.927752493,
          75.927752493,
          75.927752493,
          4.131468664,
          5.392663836,
          5.392663836,
          5.392663836,
          5.392663836,
          5.392663836,
          5.392663836,
          5.392663836,
          5.392663836,
          5.392663836,
          5.392663836,
          5.392663836,
          5.392663836,
          5.392663836,
          5.392663836,
          5.392663836,
          5.392663836,
          5.392663836
         ],
         "yaxis": "y"
        },
        {
         "hovertemplate": "variable=market.amm.max_base_asset_reserve<br>index=%{x}<br>value=%{y}<extra></extra>",
         "legendgroup": "market.amm.max_base_asset_reserve",
         "line": {
          "color": "#00cc96",
          "dash": "solid"
         },
         "marker": {
          "symbol": "circle"
         },
         "mode": "lines",
         "name": "market.amm.max_base_asset_reserve",
         "showlegend": true,
         "type": "scattergl",
         "x": [
          0,
          1,
          2,
          3,
          4,
          5,
          6,
          7,
          8,
          9,
          10,
          11,
          12,
          13,
          14,
          15,
          16,
          17,
          18,
          19,
          20,
          21,
          22,
          23,
          24,
          25,
          26,
          27,
          28,
          29,
          30,
          31,
          32,
          33,
          34,
          35,
          36,
          37,
          38,
          39,
          40,
          41,
          42,
          43,
          44,
          45,
          46,
          47,
          48,
          49,
          50,
          51,
          52,
          53,
          54,
          55,
          56,
          57,
          58,
          59,
          60,
          61,
          62,
          63,
          64,
          65,
          66,
          67,
          68,
          69,
          70,
          71,
          72,
          73,
          74,
          75,
          76,
          77,
          78,
          79,
          80,
          81,
          82,
          83,
          84,
          85,
          86,
          87,
          88,
          89,
          90,
          91,
          92,
          93,
          94,
          95,
          96,
          97,
          98,
          99,
          100,
          101,
          102,
          103,
          104,
          105,
          106,
          107,
          108,
          109,
          110,
          111,
          112,
          113,
          114,
          115,
          116,
          117,
          118,
          119,
          120,
          121,
          122,
          123,
          124,
          125,
          126,
          127,
          128,
          129,
          130,
          131,
          132,
          133,
          134,
          135,
          136,
          137,
          138,
          139,
          140,
          141,
          142,
          143,
          144,
          145,
          146,
          147,
          148,
          149,
          150,
          151,
          152,
          153,
          154,
          155,
          156,
          157,
          158,
          159,
          160,
          161,
          162,
          163,
          164,
          165,
          166,
          167,
          168,
          169,
          170,
          171,
          172,
          173,
          174,
          175,
          176,
          177,
          178,
          179,
          180,
          181,
          182,
          183,
          184,
          185,
          186,
          187,
          188,
          189,
          190,
          191,
          192,
          193,
          194,
          195,
          196,
          197,
          198,
          199,
          200,
          201,
          202,
          203,
          204,
          205,
          206,
          207,
          208,
          209,
          210,
          211,
          212,
          213,
          214,
          215,
          216,
          217,
          218,
          219,
          220,
          221,
          222,
          223,
          224,
          225,
          226,
          227,
          228,
          229,
          230,
          231,
          232,
          233,
          234,
          235,
          236,
          237,
          238,
          239,
          240,
          241,
          242,
          243,
          244,
          245,
          246,
          247,
          248,
          249,
          250,
          251,
          252,
          253,
          254,
          255,
          256,
          257,
          258,
          259,
          260,
          261,
          262,
          263,
          264,
          265,
          266,
          267,
          268,
          269,
          270,
          271,
          272,
          273,
          274,
          275,
          276,
          277,
          278,
          279,
          280,
          281,
          282,
          283
         ],
         "xaxis": "x",
         "y": [
          51.98896182,
          51.98896182,
          51.98896182,
          51.98896182,
          51.98896182,
          51.98896182,
          128.471421191,
          136.089427176,
          136.089427176,
          257.953456952,
          416.14280728,
          416.14280728,
          416.14280728,
          467.937225428,
          603.2396918,
          603.2396918,
          643.67926783,
          724.105097133,
          892.206727763,
          892.206727763,
          1060.577723738,
          1080.226733002,
          1086.512557708,
          1086.512557708,
          1086.512557708,
          1086.512557708,
          1086.512557708,
          1086.512557708,
          1086.512557708,
          1101.414471573,
          1107.656351191,
          1107.656351191,
          1107.656351191,
          811.729669385,
          921.861737867,
          921.861737867,
          1114.836140889,
          1114.836140889,
          1153.687958915,
          1150.212832897,
          1150.212832897,
          1150.212832897,
          1150.212832897,
          1150.212832897,
          1173.369005077,
          1173.369005077,
          1173.369005077,
          1259.81850244,
          1259.81850244,
          1299.466216069,
          1299.466216069,
          1299.466216069,
          1299.466216069,
          1299.466216069,
          1336.0157044,
          1336.0157044,
          1336.0157044,
          1336.0157044,
          1546.172273535,
          1546.172273535,
          1546.172273535,
          1233.321017178,
          1233.321017178,
          1233.321017178,
          1233.321017178,
          1039.291749142,
          1039.291749142,
          976.341741617,
          976.341741617,
          976.341741617,
          976.341741617,
          976.341741617,
          976.341741617,
          976.341741617,
          1014.2474103,
          1014.2474103,
          1014.2474103,
          1039.87457455,
          1039.87457455,
          1176.661737161,
          1176.661737161,
          1176.661737161,
          1176.661737161,
          1176.661737161,
          1062.479062305,
          1062.479062305,
          1062.479062305,
          1062.479062305,
          1062.479062305,
          1062.479062305,
          1062.479062305,
          863.832453323,
          863.832453323,
          863.832453323,
          863.832453323,
          863.832453323,
          863.832453323,
          863.832453323,
          863.832453323,
          863.832453323,
          863.832453323,
          863.832453323,
          863.832453323,
          863.832453323,
          863.832453323,
          863.832453323,
          829.553863981,
          829.553863981,
          829.553863981,
          829.553863981,
          807.680664368,
          807.680664368,
          807.680664368,
          863.200447705,
          863.200447705,
          803.197541448,
          814.51255658,
          885.416416605,
          885.416416605,
          885.416416605,
          885.416416605,
          961.894455818,
          840.775624666,
          840.775624666,
          840.775624666,
          911.669917092,
          911.669917092,
          911.669917092,
          893.829988382,
          893.829988382,
          893.829988382,
          1105.3432027,
          1105.3432027,
          1140.294855114,
          1140.294855114,
          1179.386487739,
          1179.386487739,
          800.174702346,
          800.174702346,
          879.868555139,
          879.868555139,
          1021.601204538,
          1021.601204538,
          1021.601204538,
          1021.601204538,
          1030.38982328,
          1030.38982328,
          1030.38982328,
          1030.38982328,
          1030.38982328,
          1030.38982328,
          1030.38982328,
          1030.38982328,
          1030.38982328,
          1030.38982328,
          867.6681372,
          867.6681372,
          816.626123044,
          816.626123044,
          816.626123044,
          998.417875421,
          998.417875421,
          998.417875421,
          915.322963143,
          915.322963143,
          915.322963143,
          915.322963143,
          915.322963143,
          915.322963143,
          908.529672947,
          908.529672947,
          973.371511451,
          1067.664760306,
          1067.664760306,
          1067.664760306,
          1153.115021467,
          1028.808979896,
          1028.808979896,
          1028.808979896,
          1028.808979896,
          1028.808979896,
          1028.808979896,
          1122.103826296,
          1122.103826296,
          1139.420813528,
          1184.315018895,
          1184.315018895,
          1184.315018895,
          1184.315018895,
          1184.315018895,
          1214.451729652,
          1215.139381639,
          829.593297306,
          829.593297306,
          829.593297306,
          829.593297306,
          724.183337474,
          724.183337474,
          365.461404845,
          492.57284743,
          609.433274837,
          609.433274837,
          609.433274837,
          665.428867498,
          708.037252137,
          708.037252137,
          708.037252137,
          708.037252137,
          611.605071666,
          611.605071666,
          611.605071666,
          611.605071666,
          611.605071666,
          400.25707955,
          400.25707955,
          400.25707955,
          400.25707955,
          400.25707955,
          400.25707955,
          400.25707955,
          509.296670638,
          509.296670638,
          557.533617833,
          557.533617833,
          557.533617833,
          447.90628292,
          399.669335998,
          240.200523162,
          184.204930288,
          184.204930288,
          249.386200331,
          391.728461791,
          391.728461791,
          391.728461791,
          541.885241805,
          642.595216703,
          577.413946928,
          577.413946928,
          403.566226256,
          403.566226256,
          403.566226256,
          403.566226256,
          403.566226256,
          405.051113237,
          405.051113237,
          253.527520818,
          253.527520818,
          450.832271111,
          450.832271111,
          491.432121209,
          276.027256452,
          276.027256452,
          276.027256452,
          276.027256452,
          276.027256452,
          289.407053625,
          432.996866903,
          419.617069975,
          262.802194181,
          262.802194181,
          262.802194181,
          151.852592397,
          151.852592397,
          151.852592397,
          151.852592397,
          151.852592397,
          8.262778845,
          10.785120809,
          10.785120809,
          10.785120809,
          10.785120809,
          10.785120809,
          10.785120809,
          10.785120809,
          10.785120809,
          10.785120809,
          10.785120809,
          10.785120809,
          10.785120809,
          10.785120809,
          10.785120809,
          10.785120809,
          10.785120809,
          10.785120809
         ],
         "yaxis": "y"
        },
        {
         "hovertemplate": "variable=market.amm.user_lp_shares<br>index=%{x}<br>value=%{y}<extra></extra>",
         "legendgroup": "market.amm.user_lp_shares",
         "line": {
          "color": "#ab63fa",
          "dash": "solid"
         },
         "marker": {
          "symbol": "circle"
         },
         "mode": "lines",
         "name": "market.amm.user_lp_shares",
         "showlegend": true,
         "type": "scattergl",
         "x": [
          0,
          1,
          2,
          3,
          4,
          5,
          6,
          7,
          8,
          9,
          10,
          11,
          12,
          13,
          14,
          15,
          16,
          17,
          18,
          19,
          20,
          21,
          22,
          23,
          24,
          25,
          26,
          27,
          28,
          29,
          30,
          31,
          32,
          33,
          34,
          35,
          36,
          37,
          38,
          39,
          40,
          41,
          42,
          43,
          44,
          45,
          46,
          47,
          48,
          49,
          50,
          51,
          52,
          53,
          54,
          55,
          56,
          57,
          58,
          59,
          60,
          61,
          62,
          63,
          64,
          65,
          66,
          67,
          68,
          69,
          70,
          71,
          72,
          73,
          74,
          75,
          76,
          77,
          78,
          79,
          80,
          81,
          82,
          83,
          84,
          85,
          86,
          87,
          88,
          89,
          90,
          91,
          92,
          93,
          94,
          95,
          96,
          97,
          98,
          99,
          100,
          101,
          102,
          103,
          104,
          105,
          106,
          107,
          108,
          109,
          110,
          111,
          112,
          113,
          114,
          115,
          116,
          117,
          118,
          119,
          120,
          121,
          122,
          123,
          124,
          125,
          126,
          127,
          128,
          129,
          130,
          131,
          132,
          133,
          134,
          135,
          136,
          137,
          138,
          139,
          140,
          141,
          142,
          143,
          144,
          145,
          146,
          147,
          148,
          149,
          150,
          151,
          152,
          153,
          154,
          155,
          156,
          157,
          158,
          159,
          160,
          161,
          162,
          163,
          164,
          165,
          166,
          167,
          168,
          169,
          170,
          171,
          172,
          173,
          174,
          175,
          176,
          177,
          178,
          179,
          180,
          181,
          182,
          183,
          184,
          185,
          186,
          187,
          188,
          189,
          190,
          191,
          192,
          193,
          194,
          195,
          196,
          197,
          198,
          199,
          200,
          201,
          202,
          203,
          204,
          205,
          206,
          207,
          208,
          209,
          210,
          211,
          212,
          213,
          214,
          215,
          216,
          217,
          218,
          219,
          220,
          221,
          222,
          223,
          224,
          225,
          226,
          227,
          228,
          229,
          230,
          231,
          232,
          233,
          234,
          235,
          236,
          237,
          238,
          239,
          240,
          241,
          242,
          243,
          244,
          245,
          246,
          247,
          248,
          249,
          250,
          251,
          252,
          253,
          254,
          255,
          256,
          257,
          258,
          259,
          260,
          261,
          262,
          263,
          264,
          265,
          266,
          267,
          268,
          269,
          270,
          271,
          272,
          273,
          274,
          275,
          276,
          277,
          278,
          279,
          280,
          281,
          282,
          283
         ],
         "xaxis": "x",
         "y": [
          0,
          0,
          0,
          0,
          0,
          0,
          44.8031,
          44.8031,
          44.8031,
          109.7241,
          193.9968,
          193.9968,
          193.9968,
          221.5894,
          293.6695,
          293.6695,
          315.213,
          358.0585,
          447.6118,
          447.6118,
          537.3086,
          537.3086,
          537.3086,
          537.3086,
          537.3086,
          537.3086,
          537.3086,
          537.3086,
          537.3086,
          537.3086,
          537.3086,
          537.3086,
          537.3086,
          386.6893,
          442.7438,
          442.7438,
          540.963,
          540.963,
          540.963,
          540.963,
          540.963,
          540.963,
          540.963,
          540.963,
          540.963,
          540.963,
          540.963,
          540.963,
          540.963,
          558.7032,
          558.7032,
          558.7032,
          558.7032,
          558.7032,
          575.652,
          575.652,
          575.652,
          575.652,
          575.652,
          575.652,
          575.652,
          458.2391,
          458.2391,
          458.2391,
          458.2391,
          458.2391,
          458.2391,
          458.2391,
          458.2391,
          458.2391,
          458.2391,
          458.2391,
          458.2391,
          458.2391,
          458.2391,
          458.2391,
          458.2391,
          458.2391,
          458.2391,
          519.2398,
          519.2398,
          519.2398,
          519.2398,
          519.2398,
          519.2398,
          519.2398,
          519.2398,
          519.2398,
          519.2398,
          519.2398,
          519.2398,
          421.0206,
          421.0206,
          421.0206,
          421.0206,
          421.0206,
          421.0206,
          421.0206,
          421.0206,
          421.0206,
          421.0206,
          421.0206,
          421.0206,
          421.0206,
          421.0206,
          421.0206,
          404.0718,
          404.0718,
          404.0718,
          404.0718,
          404.0718,
          404.0718,
          404.0718,
          404.0718,
          404.0718,
          404.0718,
          404.0718,
          404.0718,
          404.0718,
          404.0718,
          404.0718,
          439.4663,
          383.4118,
          383.4118,
          383.4118,
          383.4118,
          383.4118,
          383.4118,
          383.4118,
          383.4118,
          383.4118,
          475.4098,
          475.4098,
          475.4098,
          475.4098,
          475.4098,
          475.4098,
          320.9355,
          320.9355,
          353.3993,
          353.3993,
          411.135,
          411.135,
          411.135,
          411.135,
          414.7151,
          414.7151,
          414.7151,
          414.7151,
          414.7151,
          414.7151,
          414.7151,
          414.7151,
          414.7151,
          414.7151,
          414.7151,
          414.7151,
          414.7151,
          414.7151,
          414.7151,
          508.4509,
          508.4509,
          508.4509,
          465.6054,
          465.6054,
          465.6054,
          465.6054,
          465.6054,
          465.6054,
          465.6054,
          465.6054,
          499.2927,
          548.2809,
          548.2809,
          548.2809,
          592.6749,
          528.0941,
          528.0941,
          528.0941,
          528.0941,
          528.0941,
          528.0941,
          576.5636,
          576.5636,
          585.5603,
          608.8842,
          608.8842,
          608.8842,
          608.8842,
          608.8842,
          608.8842,
          609.2325,
          413.9511,
          413.9511,
          413.9511,
          413.9511,
          360.5604,
          360.5604,
          178.8656,
          243.2483,
          302.4388,
          302.4388,
          302.4388,
          330.8009,
          352.3823,
          352.3823,
          352.3823,
          352.3823,
          303.9128,
          303.9128,
          303.9128,
          303.9128,
          303.9128,
          197.1889,
          197.1889,
          197.1889,
          197.1889,
          197.1889,
          197.1889,
          197.1889,
          252.4181,
          252.4181,
          276.8504,
          276.8504,
          276.8504,
          221.6212,
          197.1889,
          116.417,
          88.0549,
          88.0549,
          121.0696,
          193.1668,
          193.1668,
          193.1668,
          269.2221,
          320.2323,
          287.2176,
          287.2176,
          199.1627,
          199.1627,
          199.1627,
          199.1627,
          199.1627,
          199.1627,
          199.1627,
          123.1074,
          123.1074,
          222.142,
          222.142,
          222.142,
          123.1074,
          123.1074,
          123.1074,
          123.1074,
          123.1074,
          129.2589,
          195.2758,
          189.1243,
          117.0271,
          117.0271,
          117.0271,
          66.0169,
          66.0169,
          66.0169,
          66.0169,
          66.0169,
          0,
          0,
          0,
          0,
          0,
          0,
          0,
          0,
          0,
          0,
          0,
          0,
          0,
          0,
          0,
          0,
          0,
          0
         ],
         "yaxis": "y"
        }
       ],
       "layout": {
        "legend": {
         "title": {
          "text": "variable"
         },
         "tracegroupgap": 0
        },
        "margin": {
         "t": 60
        },
        "template": {
         "data": {
          "bar": [
           {
            "error_x": {
             "color": "#2a3f5f"
            },
            "error_y": {
             "color": "#2a3f5f"
            },
            "marker": {
             "line": {
              "color": "#E5ECF6",
              "width": 0.5
             },
             "pattern": {
              "fillmode": "overlay",
              "size": 10,
              "solidity": 0.2
             }
            },
            "type": "bar"
           }
          ],
          "barpolar": [
           {
            "marker": {
             "line": {
              "color": "#E5ECF6",
              "width": 0.5
             },
             "pattern": {
              "fillmode": "overlay",
              "size": 10,
              "solidity": 0.2
             }
            },
            "type": "barpolar"
           }
          ],
          "carpet": [
           {
            "aaxis": {
             "endlinecolor": "#2a3f5f",
             "gridcolor": "white",
             "linecolor": "white",
             "minorgridcolor": "white",
             "startlinecolor": "#2a3f5f"
            },
            "baxis": {
             "endlinecolor": "#2a3f5f",
             "gridcolor": "white",
             "linecolor": "white",
             "minorgridcolor": "white",
             "startlinecolor": "#2a3f5f"
            },
            "type": "carpet"
           }
          ],
          "choropleth": [
           {
            "colorbar": {
             "outlinewidth": 0,
             "ticks": ""
            },
            "type": "choropleth"
           }
          ],
          "contour": [
           {
            "colorbar": {
             "outlinewidth": 0,
             "ticks": ""
            },
            "colorscale": [
             [
              0,
              "#0d0887"
             ],
             [
              0.1111111111111111,
              "#46039f"
             ],
             [
              0.2222222222222222,
              "#7201a8"
             ],
             [
              0.3333333333333333,
              "#9c179e"
             ],
             [
              0.4444444444444444,
              "#bd3786"
             ],
             [
              0.5555555555555556,
              "#d8576b"
             ],
             [
              0.6666666666666666,
              "#ed7953"
             ],
             [
              0.7777777777777778,
              "#fb9f3a"
             ],
             [
              0.8888888888888888,
              "#fdca26"
             ],
             [
              1,
              "#f0f921"
             ]
            ],
            "type": "contour"
           }
          ],
          "contourcarpet": [
           {
            "colorbar": {
             "outlinewidth": 0,
             "ticks": ""
            },
            "type": "contourcarpet"
           }
          ],
          "heatmap": [
           {
            "colorbar": {
             "outlinewidth": 0,
             "ticks": ""
            },
            "colorscale": [
             [
              0,
              "#0d0887"
             ],
             [
              0.1111111111111111,
              "#46039f"
             ],
             [
              0.2222222222222222,
              "#7201a8"
             ],
             [
              0.3333333333333333,
              "#9c179e"
             ],
             [
              0.4444444444444444,
              "#bd3786"
             ],
             [
              0.5555555555555556,
              "#d8576b"
             ],
             [
              0.6666666666666666,
              "#ed7953"
             ],
             [
              0.7777777777777778,
              "#fb9f3a"
             ],
             [
              0.8888888888888888,
              "#fdca26"
             ],
             [
              1,
              "#f0f921"
             ]
            ],
            "type": "heatmap"
           }
          ],
          "heatmapgl": [
           {
            "colorbar": {
             "outlinewidth": 0,
             "ticks": ""
            },
            "colorscale": [
             [
              0,
              "#0d0887"
             ],
             [
              0.1111111111111111,
              "#46039f"
             ],
             [
              0.2222222222222222,
              "#7201a8"
             ],
             [
              0.3333333333333333,
              "#9c179e"
             ],
             [
              0.4444444444444444,
              "#bd3786"
             ],
             [
              0.5555555555555556,
              "#d8576b"
             ],
             [
              0.6666666666666666,
              "#ed7953"
             ],
             [
              0.7777777777777778,
              "#fb9f3a"
             ],
             [
              0.8888888888888888,
              "#fdca26"
             ],
             [
              1,
              "#f0f921"
             ]
            ],
            "type": "heatmapgl"
           }
          ],
          "histogram": [
           {
            "marker": {
             "pattern": {
              "fillmode": "overlay",
              "size": 10,
              "solidity": 0.2
             }
            },
            "type": "histogram"
           }
          ],
          "histogram2d": [
           {
            "colorbar": {
             "outlinewidth": 0,
             "ticks": ""
            },
            "colorscale": [
             [
              0,
              "#0d0887"
             ],
             [
              0.1111111111111111,
              "#46039f"
             ],
             [
              0.2222222222222222,
              "#7201a8"
             ],
             [
              0.3333333333333333,
              "#9c179e"
             ],
             [
              0.4444444444444444,
              "#bd3786"
             ],
             [
              0.5555555555555556,
              "#d8576b"
             ],
             [
              0.6666666666666666,
              "#ed7953"
             ],
             [
              0.7777777777777778,
              "#fb9f3a"
             ],
             [
              0.8888888888888888,
              "#fdca26"
             ],
             [
              1,
              "#f0f921"
             ]
            ],
            "type": "histogram2d"
           }
          ],
          "histogram2dcontour": [
           {
            "colorbar": {
             "outlinewidth": 0,
             "ticks": ""
            },
            "colorscale": [
             [
              0,
              "#0d0887"
             ],
             [
              0.1111111111111111,
              "#46039f"
             ],
             [
              0.2222222222222222,
              "#7201a8"
             ],
             [
              0.3333333333333333,
              "#9c179e"
             ],
             [
              0.4444444444444444,
              "#bd3786"
             ],
             [
              0.5555555555555556,
              "#d8576b"
             ],
             [
              0.6666666666666666,
              "#ed7953"
             ],
             [
              0.7777777777777778,
              "#fb9f3a"
             ],
             [
              0.8888888888888888,
              "#fdca26"
             ],
             [
              1,
              "#f0f921"
             ]
            ],
            "type": "histogram2dcontour"
           }
          ],
          "mesh3d": [
           {
            "colorbar": {
             "outlinewidth": 0,
             "ticks": ""
            },
            "type": "mesh3d"
           }
          ],
          "parcoords": [
           {
            "line": {
             "colorbar": {
              "outlinewidth": 0,
              "ticks": ""
             }
            },
            "type": "parcoords"
           }
          ],
          "pie": [
           {
            "automargin": true,
            "type": "pie"
           }
          ],
          "scatter": [
           {
            "fillpattern": {
             "fillmode": "overlay",
             "size": 10,
             "solidity": 0.2
            },
            "type": "scatter"
           }
          ],
          "scatter3d": [
           {
            "line": {
             "colorbar": {
              "outlinewidth": 0,
              "ticks": ""
             }
            },
            "marker": {
             "colorbar": {
              "outlinewidth": 0,
              "ticks": ""
             }
            },
            "type": "scatter3d"
           }
          ],
          "scattercarpet": [
           {
            "marker": {
             "colorbar": {
              "outlinewidth": 0,
              "ticks": ""
             }
            },
            "type": "scattercarpet"
           }
          ],
          "scattergeo": [
           {
            "marker": {
             "colorbar": {
              "outlinewidth": 0,
              "ticks": ""
             }
            },
            "type": "scattergeo"
           }
          ],
          "scattergl": [
           {
            "marker": {
             "colorbar": {
              "outlinewidth": 0,
              "ticks": ""
             }
            },
            "type": "scattergl"
           }
          ],
          "scattermapbox": [
           {
            "marker": {
             "colorbar": {
              "outlinewidth": 0,
              "ticks": ""
             }
            },
            "type": "scattermapbox"
           }
          ],
          "scatterpolar": [
           {
            "marker": {
             "colorbar": {
              "outlinewidth": 0,
              "ticks": ""
             }
            },
            "type": "scatterpolar"
           }
          ],
          "scatterpolargl": [
           {
            "marker": {
             "colorbar": {
              "outlinewidth": 0,
              "ticks": ""
             }
            },
            "type": "scatterpolargl"
           }
          ],
          "scatterternary": [
           {
            "marker": {
             "colorbar": {
              "outlinewidth": 0,
              "ticks": ""
             }
            },
            "type": "scatterternary"
           }
          ],
          "surface": [
           {
            "colorbar": {
             "outlinewidth": 0,
             "ticks": ""
            },
            "colorscale": [
             [
              0,
              "#0d0887"
             ],
             [
              0.1111111111111111,
              "#46039f"
             ],
             [
              0.2222222222222222,
              "#7201a8"
             ],
             [
              0.3333333333333333,
              "#9c179e"
             ],
             [
              0.4444444444444444,
              "#bd3786"
             ],
             [
              0.5555555555555556,
              "#d8576b"
             ],
             [
              0.6666666666666666,
              "#ed7953"
             ],
             [
              0.7777777777777778,
              "#fb9f3a"
             ],
             [
              0.8888888888888888,
              "#fdca26"
             ],
             [
              1,
              "#f0f921"
             ]
            ],
            "type": "surface"
           }
          ],
          "table": [
           {
            "cells": {
             "fill": {
              "color": "#EBF0F8"
             },
             "line": {
              "color": "white"
             }
            },
            "header": {
             "fill": {
              "color": "#C8D4E3"
             },
             "line": {
              "color": "white"
             }
            },
            "type": "table"
           }
          ]
         },
         "layout": {
          "annotationdefaults": {
           "arrowcolor": "#2a3f5f",
           "arrowhead": 0,
           "arrowwidth": 1
          },
          "autotypenumbers": "strict",
          "coloraxis": {
           "colorbar": {
            "outlinewidth": 0,
            "ticks": ""
           }
          },
          "colorscale": {
           "diverging": [
            [
             0,
             "#8e0152"
            ],
            [
             0.1,
             "#c51b7d"
            ],
            [
             0.2,
             "#de77ae"
            ],
            [
             0.3,
             "#f1b6da"
            ],
            [
             0.4,
             "#fde0ef"
            ],
            [
             0.5,
             "#f7f7f7"
            ],
            [
             0.6,
             "#e6f5d0"
            ],
            [
             0.7,
             "#b8e186"
            ],
            [
             0.8,
             "#7fbc41"
            ],
            [
             0.9,
             "#4d9221"
            ],
            [
             1,
             "#276419"
            ]
           ],
           "sequential": [
            [
             0,
             "#0d0887"
            ],
            [
             0.1111111111111111,
             "#46039f"
            ],
            [
             0.2222222222222222,
             "#7201a8"
            ],
            [
             0.3333333333333333,
             "#9c179e"
            ],
            [
             0.4444444444444444,
             "#bd3786"
            ],
            [
             0.5555555555555556,
             "#d8576b"
            ],
            [
             0.6666666666666666,
             "#ed7953"
            ],
            [
             0.7777777777777778,
             "#fb9f3a"
            ],
            [
             0.8888888888888888,
             "#fdca26"
            ],
            [
             1,
             "#f0f921"
            ]
           ],
           "sequentialminus": [
            [
             0,
             "#0d0887"
            ],
            [
             0.1111111111111111,
             "#46039f"
            ],
            [
             0.2222222222222222,
             "#7201a8"
            ],
            [
             0.3333333333333333,
             "#9c179e"
            ],
            [
             0.4444444444444444,
             "#bd3786"
            ],
            [
             0.5555555555555556,
             "#d8576b"
            ],
            [
             0.6666666666666666,
             "#ed7953"
            ],
            [
             0.7777777777777778,
             "#fb9f3a"
            ],
            [
             0.8888888888888888,
             "#fdca26"
            ],
            [
             1,
             "#f0f921"
            ]
           ]
          },
          "colorway": [
           "#636efa",
           "#EF553B",
           "#00cc96",
           "#ab63fa",
           "#FFA15A",
           "#19d3f3",
           "#FF6692",
           "#B6E880",
           "#FF97FF",
           "#FECB52"
          ],
          "font": {
           "color": "#2a3f5f"
          },
          "geo": {
           "bgcolor": "white",
           "lakecolor": "white",
           "landcolor": "#E5ECF6",
           "showlakes": true,
           "showland": true,
           "subunitcolor": "white"
          },
          "hoverlabel": {
           "align": "left"
          },
          "hovermode": "closest",
          "mapbox": {
           "style": "light"
          },
          "paper_bgcolor": "white",
          "plot_bgcolor": "#E5ECF6",
          "polar": {
           "angularaxis": {
            "gridcolor": "white",
            "linecolor": "white",
            "ticks": ""
           },
           "bgcolor": "#E5ECF6",
           "radialaxis": {
            "gridcolor": "white",
            "linecolor": "white",
            "ticks": ""
           }
          },
          "scene": {
           "xaxis": {
            "backgroundcolor": "#E5ECF6",
            "gridcolor": "white",
            "gridwidth": 2,
            "linecolor": "white",
            "showbackground": true,
            "ticks": "",
            "zerolinecolor": "white"
           },
           "yaxis": {
            "backgroundcolor": "#E5ECF6",
            "gridcolor": "white",
            "gridwidth": 2,
            "linecolor": "white",
            "showbackground": true,
            "ticks": "",
            "zerolinecolor": "white"
           },
           "zaxis": {
            "backgroundcolor": "#E5ECF6",
            "gridcolor": "white",
            "gridwidth": 2,
            "linecolor": "white",
            "showbackground": true,
            "ticks": "",
            "zerolinecolor": "white"
           }
          },
          "shapedefaults": {
           "line": {
            "color": "#2a3f5f"
           }
          },
          "ternary": {
           "aaxis": {
            "gridcolor": "white",
            "linecolor": "white",
            "ticks": ""
           },
           "baxis": {
            "gridcolor": "white",
            "linecolor": "white",
            "ticks": ""
           },
           "bgcolor": "#E5ECF6",
           "caxis": {
            "gridcolor": "white",
            "linecolor": "white",
            "ticks": ""
           }
          },
          "title": {
           "x": 0.05
          },
          "xaxis": {
           "automargin": true,
           "gridcolor": "white",
           "linecolor": "white",
           "ticks": "",
           "title": {
            "standoff": 15
           },
           "zerolinecolor": "white",
           "zerolinewidth": 2
          },
          "yaxis": {
           "automargin": true,
           "gridcolor": "white",
           "linecolor": "white",
           "ticks": "",
           "title": {
            "standoff": 15
           },
           "zerolinecolor": "white",
           "zerolinewidth": 2
          }
         }
        },
        "xaxis": {
         "anchor": "y",
         "domain": [
          0,
          1
         ],
         "title": {
          "text": "index"
         }
        },
        "yaxis": {
         "anchor": "x",
         "domain": [
          0,
          1
         ],
         "title": {
          "text": "value"
         }
        }
       }
      }
     },
     "metadata": {},
     "output_type": "display_data"
    }
   ],
   "source": [
    "market[[\n",
    "    'market.amm.base_asset_reserve',\n",
    "    'market.amm.min_base_asset_reserve',\n",
    "    'market.amm.max_base_asset_reserve',\n",
    "    'market.amm.user_lp_shares'\n",
    "]].plot()"
   ]
  },
  {
   "cell_type": "code",
   "execution_count": 33,
   "metadata": {},
   "outputs": [
    {
     "data": {
      "application/vnd.plotly.v1+json": {
       "config": {
        "plotlyServerURL": "https://plot.ly"
       },
       "data": [
        {
         "hovertemplate": "variable=market.amm.base_asset_amount_long<br>index=%{x}<br>value=%{y}<extra></extra>",
         "legendgroup": "market.amm.base_asset_amount_long",
         "line": {
          "color": "#636efa",
          "dash": "solid"
         },
         "marker": {
          "symbol": "circle"
         },
         "mode": "lines",
         "name": "market.amm.base_asset_amount_long",
         "orientation": "v",
         "showlegend": true,
         "type": "scatter",
         "x": [
          0,
          1,
          2,
          3,
          4,
          5,
          6,
          7,
          8,
          9,
          10,
          11,
          12,
          13,
          14,
          15,
          16,
          17,
          18,
          19,
          20,
          21,
          22,
          23,
          24,
          25,
          26,
          27,
          28,
          29,
          30,
          31,
          32,
          33,
          34,
          35,
          36,
          37,
          38,
          39,
          40,
          41,
          42,
          43,
          44,
          45,
          46,
          47,
          48,
          49,
          50,
          51,
          52,
          53,
          54,
          55,
          56,
          57,
          58,
          59,
          60,
          61,
          62,
          63,
          64,
          65,
          66,
          67,
          68,
          69,
          70,
          71,
          72,
          73,
          74,
          75,
          76,
          77,
          78,
          79,
          80,
          81,
          82,
          83,
          84,
          85,
          86,
          87,
          88,
          89,
          90,
          91,
          92,
          93,
          94,
          95,
          96,
          97,
          98,
          99,
          100,
          101,
          102,
          103,
          104,
          105,
          106,
          107,
          108,
          109,
          110,
          111,
          112,
          113,
          114,
          115,
          116,
          117,
          118,
          119,
          120,
          121,
          122,
          123,
          124,
          125,
          126,
          127,
          128,
          129,
          130,
          131,
          132,
          133,
          134,
          135,
          136,
          137,
          138,
          139,
          140,
          141,
          142,
          143,
          144,
          145,
          146,
          147,
          148,
          149,
          150,
          151,
          152,
          153,
          154,
          155,
          156,
          157,
          158,
          159,
          160,
          161,
          162,
          163,
          164,
          165,
          166,
          167,
          168,
          169,
          170,
          171,
          172,
          173,
          174,
          175,
          176,
          177,
          178,
          179,
          180,
          181,
          182,
          183,
          184,
          185,
          186,
          187,
          188,
          189,
          190,
          191,
          192,
          193,
          194,
          195,
          196,
          197,
          198,
          199,
          200,
          201,
          202,
          203,
          204,
          205,
          206,
          207,
          208,
          209,
          210,
          211,
          212,
          213,
          214,
          215,
          216,
          217,
          218,
          219,
          220,
          221,
          222,
          223,
          224,
          225,
          226,
          227,
          228,
          229,
          230,
          231,
          232,
          233,
          234,
          235,
          236,
          237,
          238,
          239,
          240,
          241,
          242,
          243,
          244,
          245,
          246,
          247,
          248,
          249,
          250,
          251,
          252,
          253,
          254,
          255,
          256,
          257,
          258,
          259,
          260,
          261,
          262,
          263,
          264,
          265,
          266,
          267,
          268,
          269,
          270,
          271,
          272,
          273,
          274,
          275,
          276,
          277,
          278,
          279,
          280,
          281,
          282,
          283
         ],
         "xaxis": "x",
         "y": [
          0,
          0,
          0,
          0,
          0,
          0,
          0,
          0,
          0,
          0,
          5.3867,
          5.3867,
          5.3867,
          5.3867,
          5.3867,
          5.3867,
          5.3867,
          5.3867,
          5.3867,
          5.3867,
          5.3867,
          5.3867,
          5.3867,
          10.659,
          12.1213,
          17.2621,
          17.2621,
          20.3235,
          23.7254,
          23.7254,
          23.7254,
          24.9176,
          24.9176,
          29.1087,
          29.1087,
          29.1087,
          29.1087,
          29.1087,
          29.1087,
          29.1087,
          33.6505,
          33.6505,
          35.6318,
          35.6318,
          35.6318,
          35.6318,
          35.6318,
          35.6318,
          49.8542,
          71.6696,
          71.6696,
          71.6696,
          77.8737,
          88.5826,
          88.5826,
          88.5826,
          88.5826,
          88.5826,
          88.5826,
          93.7316,
          93.7316,
          129.4014,
          129.4014,
          129.4014,
          129.4014,
          129.4014,
          124.3268,
          124.3268,
          120.3529,
          120.3529,
          111.2431,
          130.7256,
          130.6512,
          130.6512,
          130.6512,
          130.6512,
          130.6512,
          130.6512,
          140.2805,
          140.2805,
          144.481,
          144.481,
          144.481,
          144.481,
          144.481,
          144.481,
          144.481,
          136.0612,
          136.0612,
          136.0612,
          136.0612,
          120.7885,
          120.7885,
          120.7885,
          114.1262,
          114.1262,
          114.1262,
          114.1262,
          114.1262,
          114.1262,
          114.1262,
          114.1262,
          114.1262,
          114.1262,
          114.1262,
          114.1262,
          114.1262,
          120.285,
          120.285,
          120.285,
          121.7318,
          121.7318,
          120.0918,
          120.0918,
          120.0918,
          146.4288,
          146.4288,
          146.4288,
          146.4288,
          146.4288,
          146.4288,
          146.4288,
          151.9085,
          157.737,
          157.737,
          157.737,
          157.737,
          157.737,
          171.0607,
          171.0607,
          175.2529,
          192.798,
          192.798,
          166.9632,
          166.9632,
          166.461,
          204.8132,
          204.8132,
          209.5318,
          216.893,
          216.893,
          216.893,
          216.893,
          216.893,
          216.893,
          226.0576,
          226.0576,
          226.0576,
          226.0576,
          226.0576,
          226.0576,
          226.0576,
          226.0576,
          226.0576,
          226.0576,
          226.0576,
          216.893,
          216.893,
          216.893,
          201.2767,
          193.9155,
          193.9155,
          193.9155,
          193.9155,
          193.9155,
          193.9155,
          193.9155,
          193.9155,
          193.9155,
          193.9155,
          193.9155,
          193.9155,
          193.9155,
          193.9155,
          167.1502,
          167.1502,
          167.1502,
          167.1502,
          167.1502,
          167.1502,
          167.1502,
          167.1502,
          167.1502,
          167.1502,
          167.1502,
          167.1502,
          167.1502,
          167.1502,
          167.1502,
          167.1502,
          167.1502,
          167.9665,
          167.9665,
          167.9665,
          167.9665,
          167.9665,
          167.9665,
          169.6628,
          169.6628,
          169.6628,
          169.6628,
          169.6628,
          169.6628,
          169.6628,
          169.6628,
          169.6628,
          169.6628,
          169.6628,
          169.6628,
          169.6628,
          169.6628,
          169.6628,
          169.6628,
          169.6628,
          169.6628,
          169.6628,
          169.6628,
          169.6628,
          169.6628,
          169.6628,
          169.6628,
          169.6628,
          169.6628,
          169.6628,
          169.6628,
          169.6628,
          169.6628,
          169.6628,
          169.6628,
          169.6628,
          169.6628,
          169.6628,
          169.6628,
          169.6628,
          169.6628,
          169.6628,
          169.6628,
          169.6628,
          169.6628,
          169.6628,
          169.6628,
          169.6628,
          169.6628,
          169.6628,
          169.9016,
          169.9016,
          169.9016,
          169.9016,
          169.9016,
          169.9016,
          182.7004,
          182.7004,
          192.0179,
          192.0179,
          192.0179,
          192.0179,
          192.0179,
          192.0179,
          192.0179,
          199.2584,
          199.2584,
          199.2584,
          199.2584,
          199.2584,
          199.2584,
          199.2584,
          199.2584,
          199.2584,
          131.1308,
          108.6434,
          99.0871,
          99.0871,
          99.0871,
          84.3166,
          84.3166,
          84.3166,
          79.4893,
          64.8033,
          0,
          0,
          0,
          0,
          0,
          0
         ],
         "yaxis": "y"
        },
        {
         "hovertemplate": "variable=market.amm.base_asset_amount_short<br>index=%{x}<br>value=%{y}<extra></extra>",
         "legendgroup": "market.amm.base_asset_amount_short",
         "line": {
          "color": "#EF553B",
          "dash": "solid"
         },
         "marker": {
          "symbol": "circle"
         },
         "mode": "lines",
         "name": "market.amm.base_asset_amount_short",
         "orientation": "v",
         "showlegend": true,
         "type": "scatter",
         "x": [
          0,
          1,
          2,
          3,
          4,
          5,
          6,
          7,
          8,
          9,
          10,
          11,
          12,
          13,
          14,
          15,
          16,
          17,
          18,
          19,
          20,
          21,
          22,
          23,
          24,
          25,
          26,
          27,
          28,
          29,
          30,
          31,
          32,
          33,
          34,
          35,
          36,
          37,
          38,
          39,
          40,
          41,
          42,
          43,
          44,
          45,
          46,
          47,
          48,
          49,
          50,
          51,
          52,
          53,
          54,
          55,
          56,
          57,
          58,
          59,
          60,
          61,
          62,
          63,
          64,
          65,
          66,
          67,
          68,
          69,
          70,
          71,
          72,
          73,
          74,
          75,
          76,
          77,
          78,
          79,
          80,
          81,
          82,
          83,
          84,
          85,
          86,
          87,
          88,
          89,
          90,
          91,
          92,
          93,
          94,
          95,
          96,
          97,
          98,
          99,
          100,
          101,
          102,
          103,
          104,
          105,
          106,
          107,
          108,
          109,
          110,
          111,
          112,
          113,
          114,
          115,
          116,
          117,
          118,
          119,
          120,
          121,
          122,
          123,
          124,
          125,
          126,
          127,
          128,
          129,
          130,
          131,
          132,
          133,
          134,
          135,
          136,
          137,
          138,
          139,
          140,
          141,
          142,
          143,
          144,
          145,
          146,
          147,
          148,
          149,
          150,
          151,
          152,
          153,
          154,
          155,
          156,
          157,
          158,
          159,
          160,
          161,
          162,
          163,
          164,
          165,
          166,
          167,
          168,
          169,
          170,
          171,
          172,
          173,
          174,
          175,
          176,
          177,
          178,
          179,
          180,
          181,
          182,
          183,
          184,
          185,
          186,
          187,
          188,
          189,
          190,
          191,
          192,
          193,
          194,
          195,
          196,
          197,
          198,
          199,
          200,
          201,
          202,
          203,
          204,
          205,
          206,
          207,
          208,
          209,
          210,
          211,
          212,
          213,
          214,
          215,
          216,
          217,
          218,
          219,
          220,
          221,
          222,
          223,
          224,
          225,
          226,
          227,
          228,
          229,
          230,
          231,
          232,
          233,
          234,
          235,
          236,
          237,
          238,
          239,
          240,
          241,
          242,
          243,
          244,
          245,
          246,
          247,
          248,
          249,
          250,
          251,
          252,
          253,
          254,
          255,
          256,
          257,
          258,
          259,
          260,
          261,
          262,
          263,
          264,
          265,
          266,
          267,
          268,
          269,
          270,
          271,
          272,
          273,
          274,
          275,
          276,
          277,
          278,
          279,
          280,
          281,
          282,
          283
         ],
         "xaxis": "x",
         "y": [
          0,
          0,
          0,
          0,
          0,
          -7.6134,
          -7.6134,
          -17.4202,
          -17.4202,
          -17.4202,
          -17.4202,
          -17.4202,
          -17.4202,
          -17.4202,
          -17.4202,
          -17.4202,
          -17.4202,
          -17.4202,
          -17.4202,
          -17.4202,
          -17.4202,
          -32.2649,
          -37.0138,
          -37.0138,
          -37.0138,
          -37.0138,
          -37.0138,
          -37.0138,
          -37.0138,
          -48.2721,
          -52.9878,
          -52.9878,
          -52.9878,
          -52.9878,
          -52.9878,
          -52.9878,
          -52.9878,
          -52.9878,
          -82.3274,
          -79.7031,
          -79.7031,
          -79.7031,
          -79.7031,
          -79.7031,
          -98.0572,
          -98.0572,
          -98.0572,
          -163.2757,
          -163.2757,
          -163.2757,
          -163.2757,
          -163.2757,
          -163.2757,
          -163.2757,
          -163.2757,
          -163.2757,
          -163.2757,
          -163.2757,
          -348.7837,
          -348.7837,
          -348.7837,
          -348.7837,
          -348.7837,
          -348.7837,
          -348.7837,
          -205.1324,
          -205.1324,
          -158.5268,
          -158.5268,
          -158.5268,
          -158.5268,
          -158.5268,
          -160.0987,
          -160.0987,
          -188.1625,
          -187.1712,
          -187.1712,
          -206.1445,
          -206.1445,
          -206.1445,
          -206.1445,
          -206.1445,
          -206.1445,
          -206.1445,
          -122.0543,
          -124.0195,
          -124.0195,
          -124.0195,
          -124.0195,
          -133.5049,
          -133.5049,
          -133.5049,
          -133.5049,
          -133.5049,
          -133.5049,
          -133.5049,
          -133.5049,
          -133.5049,
          -133.5049,
          -133.5049,
          -133.5049,
          -133.5049,
          -133.5049,
          -133.5049,
          -133.5049,
          -133.5049,
          -133.5049,
          -133.5049,
          -133.5049,
          -133.5049,
          -118.6602,
          -118.6602,
          -118.6602,
          -160.0122,
          -160.0122,
          -141.6581,
          -150.0857,
          -202.896,
          -202.896,
          -202.896,
          -202.896,
          -202.896,
          -202.896,
          -202.896,
          -202.896,
          -255.8432,
          -255.8432,
          -255.8432,
          -255.8432,
          -255.8432,
          -255.8432,
          -255.8432,
          -255.8432,
          -255.8432,
          -255.8432,
          -284.2359,
          -284.2359,
          -284.2359,
          -284.2359,
          -284.2359,
          -284.2359,
          -284.2359,
          -284.2359,
          -284.2359,
          -284.2359,
          -274.7505,
          -274.7505,
          -274.7505,
          -274.7505,
          -274.7505,
          -274.7505,
          -274.7505,
          -274.7505,
          -274.7505,
          -274.7505,
          -153.7103,
          -162.4636,
          -124.4961,
          -124.4961,
          -124.4961,
          -141.8678,
          -141.8678,
          -141.8678,
          -141.8678,
          -141.8678,
          -141.8678,
          -141.8678,
          -141.8678,
          -141.8678,
          -136.8419,
          -136.8419,
          -138.509,
          -160.1481,
          -160.1481,
          -181.4712,
          -181.4712,
          -187.7579,
          -187.7579,
          -187.7579,
          -187.7579,
          -187.7579,
          -187.7579,
          -187.7579,
          -187.7579,
          -187.7579,
          -187.7579,
          -187.7579,
          -187.7579,
          -187.7579,
          -187.7579,
          -209.822,
          -209.822,
          -202.9875,
          -202.9875,
          -202.9875,
          -201.119,
          -201.119,
          -201.119,
          -194.76,
          -194.76,
          -194.76,
          -194.76,
          -194.76,
          -194.76,
          -194.76,
          -194.76,
          -194.76,
          -194.76,
          -194.76,
          -194.76,
          -191.0249,
          -191.0249,
          -191.0249,
          -191.0249,
          -191.0249,
          -191.0249,
          -191.0249,
          -191.0249,
          -191.0249,
          -191.0249,
          -191.0249,
          -191.0249,
          -191.0249,
          -191.0249,
          -191.0249,
          -191.0249,
          -191.0249,
          -191.0249,
          -191.0249,
          -191.0249,
          -191.0249,
          -191.0249,
          -191.0249,
          -191.0249,
          -191.0249,
          -191.0249,
          -191.0249,
          -191.0249,
          -191.0249,
          -191.0249,
          -191.0249,
          -191.0249,
          -191.0249,
          -193.814,
          -193.1367,
          -192.1703,
          -192.1703,
          -192.1703,
          -192.1703,
          -223.3984,
          -223.3984,
          -223.3984,
          -223.3984,
          -223.3984,
          -223.3984,
          -223.3984,
          -223.3984,
          -223.3984,
          -223.3984,
          -223.3984,
          -223.3984,
          -223.3984,
          -223.3984,
          -223.3984,
          -223.3984,
          -223.3984,
          -223.3984,
          -223.3984,
          -223.3984,
          -223.3984,
          -223.3984,
          -211.1941,
          -211.1941,
          -211.1941,
          -193.2901,
          -165.2263,
          -165.2263,
          -165.2263,
          -165.2263,
          -150.1863,
          -136.1886,
          -107.7959,
          -74.5151,
          0
         ],
         "yaxis": "y"
        },
        {
         "hovertemplate": "variable=market.amm.base_asset_amount_with_amm<br>index=%{x}<br>value=%{y}<extra></extra>",
         "legendgroup": "market.amm.base_asset_amount_with_amm",
         "line": {
          "color": "#00cc96",
          "dash": "solid"
         },
         "marker": {
          "symbol": "circle"
         },
         "mode": "lines",
         "name": "market.amm.base_asset_amount_with_amm",
         "orientation": "v",
         "showlegend": true,
         "type": "scatter",
         "x": [
          0,
          1,
          2,
          3,
          4,
          5,
          6,
          7,
          8,
          9,
          10,
          11,
          12,
          13,
          14,
          15,
          16,
          17,
          18,
          19,
          20,
          21,
          22,
          23,
          24,
          25,
          26,
          27,
          28,
          29,
          30,
          31,
          32,
          33,
          34,
          35,
          36,
          37,
          38,
          39,
          40,
          41,
          42,
          43,
          44,
          45,
          46,
          47,
          48,
          49,
          50,
          51,
          52,
          53,
          54,
          55,
          56,
          57,
          58,
          59,
          60,
          61,
          62,
          63,
          64,
          65,
          66,
          67,
          68,
          69,
          70,
          71,
          72,
          73,
          74,
          75,
          76,
          77,
          78,
          79,
          80,
          81,
          82,
          83,
          84,
          85,
          86,
          87,
          88,
          89,
          90,
          91,
          92,
          93,
          94,
          95,
          96,
          97,
          98,
          99,
          100,
          101,
          102,
          103,
          104,
          105,
          106,
          107,
          108,
          109,
          110,
          111,
          112,
          113,
          114,
          115,
          116,
          117,
          118,
          119,
          120,
          121,
          122,
          123,
          124,
          125,
          126,
          127,
          128,
          129,
          130,
          131,
          132,
          133,
          134,
          135,
          136,
          137,
          138,
          139,
          140,
          141,
          142,
          143,
          144,
          145,
          146,
          147,
          148,
          149,
          150,
          151,
          152,
          153,
          154,
          155,
          156,
          157,
          158,
          159,
          160,
          161,
          162,
          163,
          164,
          165,
          166,
          167,
          168,
          169,
          170,
          171,
          172,
          173,
          174,
          175,
          176,
          177,
          178,
          179,
          180,
          181,
          182,
          183,
          184,
          185,
          186,
          187,
          188,
          189,
          190,
          191,
          192,
          193,
          194,
          195,
          196,
          197,
          198,
          199,
          200,
          201,
          202,
          203,
          204,
          205,
          206,
          207,
          208,
          209,
          210,
          211,
          212,
          213,
          214,
          215,
          216,
          217,
          218,
          219,
          220,
          221,
          222,
          223,
          224,
          225,
          226,
          227,
          228,
          229,
          230,
          231,
          232,
          233,
          234,
          235,
          236,
          237,
          238,
          239,
          240,
          241,
          242,
          243,
          244,
          245,
          246,
          247,
          248,
          249,
          250,
          251,
          252,
          253,
          254,
          255,
          256,
          257,
          258,
          259,
          260,
          261,
          262,
          263,
          264,
          265,
          266,
          267,
          268,
          269,
          270,
          271,
          272,
          273,
          274,
          275,
          276,
          277,
          278,
          279,
          280,
          281,
          282,
          283
         ],
         "xaxis": "x",
         "y": [
          0,
          0,
          0,
          0,
          0,
          -7.6134,
          -7.6134,
          -12.033404649,
          -12.033404649,
          -12.033404649,
          -12.033404649,
          -12.033404649,
          -12.033404649,
          -12.033404649,
          -12.033404649,
          -12.033404649,
          -12.033404649,
          -12.033404649,
          -12.033404649,
          -12.033404649,
          -12.033404649,
          -12.98402371,
          -13.288131809,
          -13.288131809,
          -13.288131809,
          -13.288131809,
          -13.288131809,
          -13.288131809,
          -13.288131809,
          -14.009086409,
          -14.311068676,
          -14.311068676,
          -14.311068676,
          -14.311157939,
          -14.311157939,
          -14.311157939,
          -14.311157939,
          -14.311157939,
          -16.178110487,
          -16.011119226,
          -16.011119226,
          -16.011119226,
          -16.011119226,
          -16.011119226,
          -17.16183361,
          -17.16183361,
          -17.16183361,
          -21.250721559,
          -21.250721559,
          -21.250721559,
          -21.250721559,
          -21.250721559,
          -21.250721559,
          -21.250721559,
          -21.250721559,
          -21.250721559,
          -21.250721559,
          -21.250721559,
          -31.877028978,
          -31.877028978,
          -31.877028978,
          -31.877071766,
          -31.877071766,
          -31.877071766,
          -31.877071766,
          -25.426498704,
          -25.426498704,
          -23.333702781,
          -23.333702781,
          -23.333702781,
          -23.333702781,
          -23.333702781,
          -23.333702781,
          -23.333702781,
          -24.593890362,
          -24.593890362,
          -24.593890362,
          -25.445874954,
          -25.445874954,
          -25.445874954,
          -25.445874954,
          -25.445874954,
          -25.445874954,
          -25.445874954,
          -22.09579294,
          -22.09579294,
          -22.09579294,
          -22.09579294,
          -22.09579294,
          -22.09579294,
          -22.09579294,
          -22.095739767,
          -22.095739767,
          -22.095739767,
          -22.095739767,
          -22.095739767,
          -22.095739767,
          -22.095739767,
          -22.095739767,
          -22.095739767,
          -22.095739767,
          -22.095739767,
          -22.095739767,
          -22.095739767,
          -22.095739767,
          -22.095739767,
          -22.095687249,
          -22.095687249,
          -22.095687249,
          -22.095687249,
          -21.271023349,
          -21.271023349,
          -21.271023349,
          -23.364231568,
          -23.364231568,
          -21.102000368,
          -21.528599709,
          -24.201818656,
          -24.201818656,
          -24.201818656,
          -24.201818656,
          -24.201818656,
          -24.201863158,
          -24.201863158,
          -24.201863158,
          -27.018747484,
          -27.018747484,
          -27.018747484,
          -26.309903028,
          -26.309903028,
          -26.309903028,
          -26.309903028,
          -26.309903028,
          -27.429915576,
          -27.429915576,
          -28.682591969,
          -28.682591969,
          -28.682664627,
          -28.682664627,
          -28.682664627,
          -28.682664627,
          -28.682664627,
          -28.682664627,
          -28.682664627,
          -28.682664627,
          -28.682664627,
          -28.682664627,
          -28.682664627,
          -28.682664627,
          -28.682664627,
          -28.682664627,
          -28.682664627,
          -28.682664627,
          -28.682664627,
          -28.682664627,
          -22.705175757,
          -22.705175757,
          -20.830176221,
          -20.830176221,
          -20.830176221,
          -20.830176221,
          -20.830176221,
          -20.830176221,
          -20.830248941,
          -20.830248941,
          -20.830248941,
          -20.830248941,
          -20.830248941,
          -20.830248941,
          -20.607976572,
          -20.607976572,
          -20.607976572,
          -20.607976572,
          -20.607976572,
          -20.607976572,
          -20.607976572,
          -20.607916163,
          -20.607916163,
          -20.607916163,
          -20.607916163,
          -20.607916163,
          -20.607916163,
          -20.607916163,
          -20.607916163,
          -20.607916163,
          -20.607916163,
          -20.607916163,
          -20.607916163,
          -20.607916163,
          -20.607916163,
          -21.361939259,
          -21.361939259,
          -21.361911957,
          -21.361911957,
          -21.361911957,
          -21.361911957,
          -21.362010161,
          -21.362010161,
          -21.361993256,
          -21.361993256,
          -21.361993256,
          -21.361993256,
          -21.361993256,
          -21.361993256,
          -21.361993256,
          -21.361993256,
          -21.361993256,
          -21.361993256,
          -21.362056493,
          -21.362056493,
          -21.362056493,
          -21.362056493,
          -21.362056493,
          -21.36209683,
          -21.36209683,
          -21.36209683,
          -21.36209683,
          -21.36209683,
          -21.36209683,
          -21.36209683,
          -21.36209683,
          -21.36209683,
          -21.36209683,
          -21.36209683,
          -21.36209683,
          -21.36209683,
          -21.36209683,
          -21.36209683,
          -21.36209683,
          -21.36209683,
          -21.36209683,
          -21.36209683,
          -21.36209683,
          -21.36209683,
          -21.36209683,
          -21.36209683,
          -21.36209683,
          -21.36209683,
          -21.3621,
          -21.3621,
          -21.3621,
          -21.3621,
          -21.3621,
          -21.620410494,
          -21.620410494,
          -21.620456295,
          -21.620456295,
          -21.620456295,
          -21.620456295,
          -24.139851658,
          -24.139869892,
          -24.139869892,
          -24.139869892,
          -24.139869892,
          -24.139869892,
          -24.139869892,
          -24.139869892,
          -24.139869892,
          -24.13996066,
          -24.13996066,
          -24.13996066,
          -24.139999999,
          -24.139999999,
          -24.139999999,
          -24.139999999,
          -24.139999999,
          -24.14,
          -24.14,
          -92.2676,
          -114.755,
          -124.3113,
          -112.107,
          -112.107,
          -126.8775,
          -108.9735,
          -80.9097,
          -85.737,
          -100.423,
          -165.2263,
          -150.1863,
          -136.1886,
          -107.7959,
          -74.5151,
          0
         ],
         "yaxis": "y"
        }
       ],
       "layout": {
        "legend": {
         "title": {
          "text": "variable"
         },
         "tracegroupgap": 0
        },
        "margin": {
         "t": 60
        },
        "template": {
         "data": {
          "bar": [
           {
            "error_x": {
             "color": "#2a3f5f"
            },
            "error_y": {
             "color": "#2a3f5f"
            },
            "marker": {
             "line": {
              "color": "#E5ECF6",
              "width": 0.5
             },
             "pattern": {
              "fillmode": "overlay",
              "size": 10,
              "solidity": 0.2
             }
            },
            "type": "bar"
           }
          ],
          "barpolar": [
           {
            "marker": {
             "line": {
              "color": "#E5ECF6",
              "width": 0.5
             },
             "pattern": {
              "fillmode": "overlay",
              "size": 10,
              "solidity": 0.2
             }
            },
            "type": "barpolar"
           }
          ],
          "carpet": [
           {
            "aaxis": {
             "endlinecolor": "#2a3f5f",
             "gridcolor": "white",
             "linecolor": "white",
             "minorgridcolor": "white",
             "startlinecolor": "#2a3f5f"
            },
            "baxis": {
             "endlinecolor": "#2a3f5f",
             "gridcolor": "white",
             "linecolor": "white",
             "minorgridcolor": "white",
             "startlinecolor": "#2a3f5f"
            },
            "type": "carpet"
           }
          ],
          "choropleth": [
           {
            "colorbar": {
             "outlinewidth": 0,
             "ticks": ""
            },
            "type": "choropleth"
           }
          ],
          "contour": [
           {
            "colorbar": {
             "outlinewidth": 0,
             "ticks": ""
            },
            "colorscale": [
             [
              0,
              "#0d0887"
             ],
             [
              0.1111111111111111,
              "#46039f"
             ],
             [
              0.2222222222222222,
              "#7201a8"
             ],
             [
              0.3333333333333333,
              "#9c179e"
             ],
             [
              0.4444444444444444,
              "#bd3786"
             ],
             [
              0.5555555555555556,
              "#d8576b"
             ],
             [
              0.6666666666666666,
              "#ed7953"
             ],
             [
              0.7777777777777778,
              "#fb9f3a"
             ],
             [
              0.8888888888888888,
              "#fdca26"
             ],
             [
              1,
              "#f0f921"
             ]
            ],
            "type": "contour"
           }
          ],
          "contourcarpet": [
           {
            "colorbar": {
             "outlinewidth": 0,
             "ticks": ""
            },
            "type": "contourcarpet"
           }
          ],
          "heatmap": [
           {
            "colorbar": {
             "outlinewidth": 0,
             "ticks": ""
            },
            "colorscale": [
             [
              0,
              "#0d0887"
             ],
             [
              0.1111111111111111,
              "#46039f"
             ],
             [
              0.2222222222222222,
              "#7201a8"
             ],
             [
              0.3333333333333333,
              "#9c179e"
             ],
             [
              0.4444444444444444,
              "#bd3786"
             ],
             [
              0.5555555555555556,
              "#d8576b"
             ],
             [
              0.6666666666666666,
              "#ed7953"
             ],
             [
              0.7777777777777778,
              "#fb9f3a"
             ],
             [
              0.8888888888888888,
              "#fdca26"
             ],
             [
              1,
              "#f0f921"
             ]
            ],
            "type": "heatmap"
           }
          ],
          "heatmapgl": [
           {
            "colorbar": {
             "outlinewidth": 0,
             "ticks": ""
            },
            "colorscale": [
             [
              0,
              "#0d0887"
             ],
             [
              0.1111111111111111,
              "#46039f"
             ],
             [
              0.2222222222222222,
              "#7201a8"
             ],
             [
              0.3333333333333333,
              "#9c179e"
             ],
             [
              0.4444444444444444,
              "#bd3786"
             ],
             [
              0.5555555555555556,
              "#d8576b"
             ],
             [
              0.6666666666666666,
              "#ed7953"
             ],
             [
              0.7777777777777778,
              "#fb9f3a"
             ],
             [
              0.8888888888888888,
              "#fdca26"
             ],
             [
              1,
              "#f0f921"
             ]
            ],
            "type": "heatmapgl"
           }
          ],
          "histogram": [
           {
            "marker": {
             "pattern": {
              "fillmode": "overlay",
              "size": 10,
              "solidity": 0.2
             }
            },
            "type": "histogram"
           }
          ],
          "histogram2d": [
           {
            "colorbar": {
             "outlinewidth": 0,
             "ticks": ""
            },
            "colorscale": [
             [
              0,
              "#0d0887"
             ],
             [
              0.1111111111111111,
              "#46039f"
             ],
             [
              0.2222222222222222,
              "#7201a8"
             ],
             [
              0.3333333333333333,
              "#9c179e"
             ],
             [
              0.4444444444444444,
              "#bd3786"
             ],
             [
              0.5555555555555556,
              "#d8576b"
             ],
             [
              0.6666666666666666,
              "#ed7953"
             ],
             [
              0.7777777777777778,
              "#fb9f3a"
             ],
             [
              0.8888888888888888,
              "#fdca26"
             ],
             [
              1,
              "#f0f921"
             ]
            ],
            "type": "histogram2d"
           }
          ],
          "histogram2dcontour": [
           {
            "colorbar": {
             "outlinewidth": 0,
             "ticks": ""
            },
            "colorscale": [
             [
              0,
              "#0d0887"
             ],
             [
              0.1111111111111111,
              "#46039f"
             ],
             [
              0.2222222222222222,
              "#7201a8"
             ],
             [
              0.3333333333333333,
              "#9c179e"
             ],
             [
              0.4444444444444444,
              "#bd3786"
             ],
             [
              0.5555555555555556,
              "#d8576b"
             ],
             [
              0.6666666666666666,
              "#ed7953"
             ],
             [
              0.7777777777777778,
              "#fb9f3a"
             ],
             [
              0.8888888888888888,
              "#fdca26"
             ],
             [
              1,
              "#f0f921"
             ]
            ],
            "type": "histogram2dcontour"
           }
          ],
          "mesh3d": [
           {
            "colorbar": {
             "outlinewidth": 0,
             "ticks": ""
            },
            "type": "mesh3d"
           }
          ],
          "parcoords": [
           {
            "line": {
             "colorbar": {
              "outlinewidth": 0,
              "ticks": ""
             }
            },
            "type": "parcoords"
           }
          ],
          "pie": [
           {
            "automargin": true,
            "type": "pie"
           }
          ],
          "scatter": [
           {
            "fillpattern": {
             "fillmode": "overlay",
             "size": 10,
             "solidity": 0.2
            },
            "type": "scatter"
           }
          ],
          "scatter3d": [
           {
            "line": {
             "colorbar": {
              "outlinewidth": 0,
              "ticks": ""
             }
            },
            "marker": {
             "colorbar": {
              "outlinewidth": 0,
              "ticks": ""
             }
            },
            "type": "scatter3d"
           }
          ],
          "scattercarpet": [
           {
            "marker": {
             "colorbar": {
              "outlinewidth": 0,
              "ticks": ""
             }
            },
            "type": "scattercarpet"
           }
          ],
          "scattergeo": [
           {
            "marker": {
             "colorbar": {
              "outlinewidth": 0,
              "ticks": ""
             }
            },
            "type": "scattergeo"
           }
          ],
          "scattergl": [
           {
            "marker": {
             "colorbar": {
              "outlinewidth": 0,
              "ticks": ""
             }
            },
            "type": "scattergl"
           }
          ],
          "scattermapbox": [
           {
            "marker": {
             "colorbar": {
              "outlinewidth": 0,
              "ticks": ""
             }
            },
            "type": "scattermapbox"
           }
          ],
          "scatterpolar": [
           {
            "marker": {
             "colorbar": {
              "outlinewidth": 0,
              "ticks": ""
             }
            },
            "type": "scatterpolar"
           }
          ],
          "scatterpolargl": [
           {
            "marker": {
             "colorbar": {
              "outlinewidth": 0,
              "ticks": ""
             }
            },
            "type": "scatterpolargl"
           }
          ],
          "scatterternary": [
           {
            "marker": {
             "colorbar": {
              "outlinewidth": 0,
              "ticks": ""
             }
            },
            "type": "scatterternary"
           }
          ],
          "surface": [
           {
            "colorbar": {
             "outlinewidth": 0,
             "ticks": ""
            },
            "colorscale": [
             [
              0,
              "#0d0887"
             ],
             [
              0.1111111111111111,
              "#46039f"
             ],
             [
              0.2222222222222222,
              "#7201a8"
             ],
             [
              0.3333333333333333,
              "#9c179e"
             ],
             [
              0.4444444444444444,
              "#bd3786"
             ],
             [
              0.5555555555555556,
              "#d8576b"
             ],
             [
              0.6666666666666666,
              "#ed7953"
             ],
             [
              0.7777777777777778,
              "#fb9f3a"
             ],
             [
              0.8888888888888888,
              "#fdca26"
             ],
             [
              1,
              "#f0f921"
             ]
            ],
            "type": "surface"
           }
          ],
          "table": [
           {
            "cells": {
             "fill": {
              "color": "#EBF0F8"
             },
             "line": {
              "color": "white"
             }
            },
            "header": {
             "fill": {
              "color": "#C8D4E3"
             },
             "line": {
              "color": "white"
             }
            },
            "type": "table"
           }
          ]
         },
         "layout": {
          "annotationdefaults": {
           "arrowcolor": "#2a3f5f",
           "arrowhead": 0,
           "arrowwidth": 1
          },
          "autotypenumbers": "strict",
          "coloraxis": {
           "colorbar": {
            "outlinewidth": 0,
            "ticks": ""
           }
          },
          "colorscale": {
           "diverging": [
            [
             0,
             "#8e0152"
            ],
            [
             0.1,
             "#c51b7d"
            ],
            [
             0.2,
             "#de77ae"
            ],
            [
             0.3,
             "#f1b6da"
            ],
            [
             0.4,
             "#fde0ef"
            ],
            [
             0.5,
             "#f7f7f7"
            ],
            [
             0.6,
             "#e6f5d0"
            ],
            [
             0.7,
             "#b8e186"
            ],
            [
             0.8,
             "#7fbc41"
            ],
            [
             0.9,
             "#4d9221"
            ],
            [
             1,
             "#276419"
            ]
           ],
           "sequential": [
            [
             0,
             "#0d0887"
            ],
            [
             0.1111111111111111,
             "#46039f"
            ],
            [
             0.2222222222222222,
             "#7201a8"
            ],
            [
             0.3333333333333333,
             "#9c179e"
            ],
            [
             0.4444444444444444,
             "#bd3786"
            ],
            [
             0.5555555555555556,
             "#d8576b"
            ],
            [
             0.6666666666666666,
             "#ed7953"
            ],
            [
             0.7777777777777778,
             "#fb9f3a"
            ],
            [
             0.8888888888888888,
             "#fdca26"
            ],
            [
             1,
             "#f0f921"
            ]
           ],
           "sequentialminus": [
            [
             0,
             "#0d0887"
            ],
            [
             0.1111111111111111,
             "#46039f"
            ],
            [
             0.2222222222222222,
             "#7201a8"
            ],
            [
             0.3333333333333333,
             "#9c179e"
            ],
            [
             0.4444444444444444,
             "#bd3786"
            ],
            [
             0.5555555555555556,
             "#d8576b"
            ],
            [
             0.6666666666666666,
             "#ed7953"
            ],
            [
             0.7777777777777778,
             "#fb9f3a"
            ],
            [
             0.8888888888888888,
             "#fdca26"
            ],
            [
             1,
             "#f0f921"
            ]
           ]
          },
          "colorway": [
           "#636efa",
           "#EF553B",
           "#00cc96",
           "#ab63fa",
           "#FFA15A",
           "#19d3f3",
           "#FF6692",
           "#B6E880",
           "#FF97FF",
           "#FECB52"
          ],
          "font": {
           "color": "#2a3f5f"
          },
          "geo": {
           "bgcolor": "white",
           "lakecolor": "white",
           "landcolor": "#E5ECF6",
           "showlakes": true,
           "showland": true,
           "subunitcolor": "white"
          },
          "hoverlabel": {
           "align": "left"
          },
          "hovermode": "closest",
          "mapbox": {
           "style": "light"
          },
          "paper_bgcolor": "white",
          "plot_bgcolor": "#E5ECF6",
          "polar": {
           "angularaxis": {
            "gridcolor": "white",
            "linecolor": "white",
            "ticks": ""
           },
           "bgcolor": "#E5ECF6",
           "radialaxis": {
            "gridcolor": "white",
            "linecolor": "white",
            "ticks": ""
           }
          },
          "scene": {
           "xaxis": {
            "backgroundcolor": "#E5ECF6",
            "gridcolor": "white",
            "gridwidth": 2,
            "linecolor": "white",
            "showbackground": true,
            "ticks": "",
            "zerolinecolor": "white"
           },
           "yaxis": {
            "backgroundcolor": "#E5ECF6",
            "gridcolor": "white",
            "gridwidth": 2,
            "linecolor": "white",
            "showbackground": true,
            "ticks": "",
            "zerolinecolor": "white"
           },
           "zaxis": {
            "backgroundcolor": "#E5ECF6",
            "gridcolor": "white",
            "gridwidth": 2,
            "linecolor": "white",
            "showbackground": true,
            "ticks": "",
            "zerolinecolor": "white"
           }
          },
          "shapedefaults": {
           "line": {
            "color": "#2a3f5f"
           }
          },
          "ternary": {
           "aaxis": {
            "gridcolor": "white",
            "linecolor": "white",
            "ticks": ""
           },
           "baxis": {
            "gridcolor": "white",
            "linecolor": "white",
            "ticks": ""
           },
           "bgcolor": "#E5ECF6",
           "caxis": {
            "gridcolor": "white",
            "linecolor": "white",
            "ticks": ""
           }
          },
          "title": {
           "x": 0.05
          },
          "xaxis": {
           "automargin": true,
           "gridcolor": "white",
           "linecolor": "white",
           "ticks": "",
           "title": {
            "standoff": 15
           },
           "zerolinecolor": "white",
           "zerolinewidth": 2
          },
          "yaxis": {
           "automargin": true,
           "gridcolor": "white",
           "linecolor": "white",
           "ticks": "",
           "title": {
            "standoff": 15
           },
           "zerolinecolor": "white",
           "zerolinewidth": 2
          }
         }
        },
        "xaxis": {
         "anchor": "y",
         "domain": [
          0,
          1
         ],
         "title": {
          "text": "index"
         }
        },
        "yaxis": {
         "anchor": "x",
         "domain": [
          0,
          1
         ],
         "title": {
          "text": "value"
         }
        }
       }
      }
     },
     "metadata": {},
     "output_type": "display_data"
    }
   ],
   "source": [
    "market[[\n",
    "    # \"market.amm.peg_multiplier\"\n",
    "    'market.amm.base_asset_amount_long',\n",
    "    'market.amm.base_asset_amount_short',\n",
    "    'market.amm.base_asset_amount_with_amm',\n",
    "]].plot()"
   ]
  },
  {
   "cell_type": "code",
   "execution_count": 35,
   "metadata": {},
   "outputs": [
    {
     "data": {
      "text/html": [
       "<div>\n",
       "<style scoped>\n",
       "    .dataframe tbody tr th:only-of-type {\n",
       "        vertical-align: middle;\n",
       "    }\n",
       "\n",
       "    .dataframe tbody tr th {\n",
       "        vertical-align: top;\n",
       "    }\n",
       "\n",
       "    .dataframe thead th {\n",
       "        text-align: right;\n",
       "    }\n",
       "</style>\n",
       "<table border=\"1\" class=\"dataframe\">\n",
       "  <thead>\n",
       "    <tr style=\"text-align: right;\">\n",
       "      <th></th>\n",
       "      <th>authority</th>\n",
       "      <th>delegate</th>\n",
       "      <th>name</th>\n",
       "      <th>spot_positions</th>\n",
       "      <th>perp_positions</th>\n",
       "      <th>orders</th>\n",
       "      <th>last_add_perp_lp_shares_ts</th>\n",
       "      <th>total_deposits</th>\n",
       "      <th>total_withdraws</th>\n",
       "      <th>settled_perp_pnl</th>\n",
       "      <th>...</th>\n",
       "      <th>max_margin_ratio</th>\n",
       "      <th>next_liquidation_id</th>\n",
       "      <th>sub_account_id</th>\n",
       "      <th>is_being_liquidated</th>\n",
       "      <th>is_bankrupt</th>\n",
       "      <th>is_margin_trading_enabled</th>\n",
       "      <th>padding</th>\n",
       "      <th>slot</th>\n",
       "      <th>write_version</th>\n",
       "      <th>updated_on</th>\n",
       "    </tr>\n",
       "  </thead>\n",
       "  <tbody>\n",
       "    <tr>\n",
       "      <th>0</th>\n",
       "      <td>7vmQ8NcmRVB1TGJUJN1mwVVcZENje16dTQsgjHsNyX8Z</td>\n",
       "      <td>11111111111111111111111111111111</td>\n",
       "      <td>ListContainer: \\n    77\\n    97\\n    105\\n    ...</td>\n",
       "      <td>ListContainer: \\n    SpotPosition(scaled_balan...</td>\n",
       "      <td>ListContainer: \\n    PerpPosition(last_cumulat...</td>\n",
       "      <td>ListContainer: \\n    Order(slot=0, price=0, ba...</td>\n",
       "      <td>0</td>\n",
       "      <td>0</td>\n",
       "      <td>0</td>\n",
       "      <td>0</td>\n",
       "      <td>...</td>\n",
       "      <td>0</td>\n",
       "      <td>1</td>\n",
       "      <td>0</td>\n",
       "      <td>False</td>\n",
       "      <td>False</td>\n",
       "      <td>False</td>\n",
       "      <td>ListContainer: \\n    0</td>\n",
       "      <td>28</td>\n",
       "      <td>419</td>\n",
       "      <td>2022-10-27 15:10:46.196109</td>\n",
       "    </tr>\n",
       "    <tr>\n",
       "      <th>1</th>\n",
       "      <td>7vmQ8NcmRVB1TGJUJN1mwVVcZENje16dTQsgjHsNyX8Z</td>\n",
       "      <td>11111111111111111111111111111111</td>\n",
       "      <td>ListContainer: \\n    77\\n    97\\n    105\\n    ...</td>\n",
       "      <td>ListContainer: \\n    SpotPosition(scaled_balan...</td>\n",
       "      <td>ListContainer: \\n    PerpPosition(last_cumulat...</td>\n",
       "      <td>ListContainer: \\n    Order(slot=0, price=0, ba...</td>\n",
       "      <td>0</td>\n",
       "      <td>272554635</td>\n",
       "      <td>0</td>\n",
       "      <td>0</td>\n",
       "      <td>...</td>\n",
       "      <td>0</td>\n",
       "      <td>1</td>\n",
       "      <td>0</td>\n",
       "      <td>False</td>\n",
       "      <td>False</td>\n",
       "      <td>False</td>\n",
       "      <td>ListContainer: \\n    0</td>\n",
       "      <td>30</td>\n",
       "      <td>612</td>\n",
       "      <td>2022-10-27 15:10:46.998838</td>\n",
       "    </tr>\n",
       "    <tr>\n",
       "      <th>2</th>\n",
       "      <td>7vmQ8NcmRVB1TGJUJN1mwVVcZENje16dTQsgjHsNyX8Z</td>\n",
       "      <td>11111111111111111111111111111111</td>\n",
       "      <td>ListContainer: \\n    77\\n    97\\n    105\\n    ...</td>\n",
       "      <td>ListContainer: \\n    SpotPosition(scaled_balan...</td>\n",
       "      <td>ListContainer: \\n    PerpPosition(last_cumulat...</td>\n",
       "      <td>ListContainer: \\n    Order(slot=0, price=0, ba...</td>\n",
       "      <td>0</td>\n",
       "      <td>272554635</td>\n",
       "      <td>0</td>\n",
       "      <td>0</td>\n",
       "      <td>...</td>\n",
       "      <td>0</td>\n",
       "      <td>1</td>\n",
       "      <td>0</td>\n",
       "      <td>False</td>\n",
       "      <td>False</td>\n",
       "      <td>False</td>\n",
       "      <td>ListContainer: \\n    0</td>\n",
       "      <td>276</td>\n",
       "      <td>3106</td>\n",
       "      <td>2022-10-27 15:12:45.356564</td>\n",
       "    </tr>\n",
       "    <tr>\n",
       "      <th>3</th>\n",
       "      <td>7vmQ8NcmRVB1TGJUJN1mwVVcZENje16dTQsgjHsNyX8Z</td>\n",
       "      <td>11111111111111111111111111111111</td>\n",
       "      <td>ListContainer: \\n    77\\n    97\\n    105\\n    ...</td>\n",
       "      <td>ListContainer: \\n    SpotPosition(scaled_balan...</td>\n",
       "      <td>ListContainer: \\n    PerpPosition(last_cumulat...</td>\n",
       "      <td>ListContainer: \\n    Order(slot=0, price=0, ba...</td>\n",
       "      <td>0</td>\n",
       "      <td>272554635</td>\n",
       "      <td>0</td>\n",
       "      <td>-60976687</td>\n",
       "      <td>...</td>\n",
       "      <td>0</td>\n",
       "      <td>1</td>\n",
       "      <td>0</td>\n",
       "      <td>False</td>\n",
       "      <td>False</td>\n",
       "      <td>False</td>\n",
       "      <td>ListContainer: \\n    0</td>\n",
       "      <td>514</td>\n",
       "      <td>5140</td>\n",
       "      <td>2022-10-27 15:14:39.250703</td>\n",
       "    </tr>\n",
       "    <tr>\n",
       "      <th>4</th>\n",
       "      <td>7vmQ8NcmRVB1TGJUJN1mwVVcZENje16dTQsgjHsNyX8Z</td>\n",
       "      <td>11111111111111111111111111111111</td>\n",
       "      <td>ListContainer: \\n    77\\n    97\\n    105\\n    ...</td>\n",
       "      <td>ListContainer: \\n    SpotPosition(scaled_balan...</td>\n",
       "      <td>ListContainer: \\n    PerpPosition(last_cumulat...</td>\n",
       "      <td>ListContainer: \\n    Order(slot=0, price=0, ba...</td>\n",
       "      <td>0</td>\n",
       "      <td>272554635</td>\n",
       "      <td>0</td>\n",
       "      <td>-60976687</td>\n",
       "      <td>...</td>\n",
       "      <td>0</td>\n",
       "      <td>1</td>\n",
       "      <td>0</td>\n",
       "      <td>False</td>\n",
       "      <td>False</td>\n",
       "      <td>False</td>\n",
       "      <td>ListContainer: \\n    0</td>\n",
       "      <td>618</td>\n",
       "      <td>6026</td>\n",
       "      <td>2022-10-27 15:15:29.156259</td>\n",
       "    </tr>\n",
       "    <tr>\n",
       "      <th>5</th>\n",
       "      <td>7vmQ8NcmRVB1TGJUJN1mwVVcZENje16dTQsgjHsNyX8Z</td>\n",
       "      <td>11111111111111111111111111111111</td>\n",
       "      <td>ListContainer: \\n    77\\n    97\\n    105\\n    ...</td>\n",
       "      <td>ListContainer: \\n    SpotPosition(scaled_balan...</td>\n",
       "      <td>ListContainer: \\n    PerpPosition(last_cumulat...</td>\n",
       "      <td>ListContainer: \\n    Order(slot=0, price=0, ba...</td>\n",
       "      <td>0</td>\n",
       "      <td>272554635</td>\n",
       "      <td>0</td>\n",
       "      <td>-60976687</td>\n",
       "      <td>...</td>\n",
       "      <td>0</td>\n",
       "      <td>1</td>\n",
       "      <td>0</td>\n",
       "      <td>False</td>\n",
       "      <td>False</td>\n",
       "      <td>False</td>\n",
       "      <td>ListContainer: \\n    0</td>\n",
       "      <td>638</td>\n",
       "      <td>6221</td>\n",
       "      <td>2022-10-27 15:15:38.707527</td>\n",
       "    </tr>\n",
       "    <tr>\n",
       "      <th>6</th>\n",
       "      <td>7vmQ8NcmRVB1TGJUJN1mwVVcZENje16dTQsgjHsNyX8Z</td>\n",
       "      <td>11111111111111111111111111111111</td>\n",
       "      <td>ListContainer: \\n    77\\n    97\\n    105\\n    ...</td>\n",
       "      <td>ListContainer: \\n    SpotPosition(scaled_balan...</td>\n",
       "      <td>ListContainer: \\n    PerpPosition(last_cumulat...</td>\n",
       "      <td>ListContainer: \\n    Order(slot=0, price=0, ba...</td>\n",
       "      <td>0</td>\n",
       "      <td>272554635</td>\n",
       "      <td>0</td>\n",
       "      <td>-60976687</td>\n",
       "      <td>...</td>\n",
       "      <td>0</td>\n",
       "      <td>1</td>\n",
       "      <td>0</td>\n",
       "      <td>False</td>\n",
       "      <td>False</td>\n",
       "      <td>False</td>\n",
       "      <td>ListContainer: \\n    0</td>\n",
       "      <td>721</td>\n",
       "      <td>6899</td>\n",
       "      <td>2022-10-27 15:16:18.309759</td>\n",
       "    </tr>\n",
       "    <tr>\n",
       "      <th>7</th>\n",
       "      <td>7vmQ8NcmRVB1TGJUJN1mwVVcZENje16dTQsgjHsNyX8Z</td>\n",
       "      <td>11111111111111111111111111111111</td>\n",
       "      <td>ListContainer: \\n    77\\n    97\\n    105\\n    ...</td>\n",
       "      <td>ListContainer: \\n    SpotPosition(scaled_balan...</td>\n",
       "      <td>ListContainer: \\n    PerpPosition(last_cumulat...</td>\n",
       "      <td>ListContainer: \\n    Order(slot=0, price=0, ba...</td>\n",
       "      <td>0</td>\n",
       "      <td>272554635</td>\n",
       "      <td>0</td>\n",
       "      <td>-60976687</td>\n",
       "      <td>...</td>\n",
       "      <td>0</td>\n",
       "      <td>1</td>\n",
       "      <td>0</td>\n",
       "      <td>False</td>\n",
       "      <td>False</td>\n",
       "      <td>False</td>\n",
       "      <td>ListContainer: \\n    0</td>\n",
       "      <td>728</td>\n",
       "      <td>6957</td>\n",
       "      <td>2022-10-27 15:16:21.655064</td>\n",
       "    </tr>\n",
       "    <tr>\n",
       "      <th>8</th>\n",
       "      <td>7vmQ8NcmRVB1TGJUJN1mwVVcZENje16dTQsgjHsNyX8Z</td>\n",
       "      <td>11111111111111111111111111111111</td>\n",
       "      <td>ListContainer: \\n    77\\n    97\\n    105\\n    ...</td>\n",
       "      <td>ListContainer: \\n    SpotPosition(scaled_balan...</td>\n",
       "      <td>ListContainer: \\n    PerpPosition(last_cumulat...</td>\n",
       "      <td>ListContainer: \\n    Order(slot=0, price=0, ba...</td>\n",
       "      <td>0</td>\n",
       "      <td>272554635</td>\n",
       "      <td>0</td>\n",
       "      <td>53561618</td>\n",
       "      <td>...</td>\n",
       "      <td>0</td>\n",
       "      <td>1</td>\n",
       "      <td>0</td>\n",
       "      <td>False</td>\n",
       "      <td>False</td>\n",
       "      <td>False</td>\n",
       "      <td>ListContainer: \\n    0</td>\n",
       "      <td>1553</td>\n",
       "      <td>14037</td>\n",
       "      <td>2022-10-27 15:22:55.945892</td>\n",
       "    </tr>\n",
       "    <tr>\n",
       "      <th>9</th>\n",
       "      <td>7vmQ8NcmRVB1TGJUJN1mwVVcZENje16dTQsgjHsNyX8Z</td>\n",
       "      <td>11111111111111111111111111111111</td>\n",
       "      <td>ListContainer: \\n    77\\n    97\\n    105\\n    ...</td>\n",
       "      <td>ListContainer: \\n    SpotPosition(scaled_balan...</td>\n",
       "      <td>ListContainer: \\n    PerpPosition(last_cumulat...</td>\n",
       "      <td>ListContainer: \\n    Order(slot=0, price=0, ba...</td>\n",
       "      <td>0</td>\n",
       "      <td>272554635</td>\n",
       "      <td>326116253</td>\n",
       "      <td>53561618</td>\n",
       "      <td>...</td>\n",
       "      <td>0</td>\n",
       "      <td>1</td>\n",
       "      <td>0</td>\n",
       "      <td>False</td>\n",
       "      <td>False</td>\n",
       "      <td>False</td>\n",
       "      <td>ListContainer: \\n    0</td>\n",
       "      <td>1593</td>\n",
       "      <td>14391</td>\n",
       "      <td>2022-10-27 15:23:14.747502</td>\n",
       "    </tr>\n",
       "  </tbody>\n",
       "</table>\n",
       "<p>10 rows × 22 columns</p>\n",
       "</div>"
      ],
      "text/plain": [
       "                                      authority  \\\n",
       "0  7vmQ8NcmRVB1TGJUJN1mwVVcZENje16dTQsgjHsNyX8Z   \n",
       "1  7vmQ8NcmRVB1TGJUJN1mwVVcZENje16dTQsgjHsNyX8Z   \n",
       "2  7vmQ8NcmRVB1TGJUJN1mwVVcZENje16dTQsgjHsNyX8Z   \n",
       "3  7vmQ8NcmRVB1TGJUJN1mwVVcZENje16dTQsgjHsNyX8Z   \n",
       "4  7vmQ8NcmRVB1TGJUJN1mwVVcZENje16dTQsgjHsNyX8Z   \n",
       "5  7vmQ8NcmRVB1TGJUJN1mwVVcZENje16dTQsgjHsNyX8Z   \n",
       "6  7vmQ8NcmRVB1TGJUJN1mwVVcZENje16dTQsgjHsNyX8Z   \n",
       "7  7vmQ8NcmRVB1TGJUJN1mwVVcZENje16dTQsgjHsNyX8Z   \n",
       "8  7vmQ8NcmRVB1TGJUJN1mwVVcZENje16dTQsgjHsNyX8Z   \n",
       "9  7vmQ8NcmRVB1TGJUJN1mwVVcZENje16dTQsgjHsNyX8Z   \n",
       "\n",
       "                           delegate  \\\n",
       "0  11111111111111111111111111111111   \n",
       "1  11111111111111111111111111111111   \n",
       "2  11111111111111111111111111111111   \n",
       "3  11111111111111111111111111111111   \n",
       "4  11111111111111111111111111111111   \n",
       "5  11111111111111111111111111111111   \n",
       "6  11111111111111111111111111111111   \n",
       "7  11111111111111111111111111111111   \n",
       "8  11111111111111111111111111111111   \n",
       "9  11111111111111111111111111111111   \n",
       "\n",
       "                                                name  \\\n",
       "0  ListContainer: \\n    77\\n    97\\n    105\\n    ...   \n",
       "1  ListContainer: \\n    77\\n    97\\n    105\\n    ...   \n",
       "2  ListContainer: \\n    77\\n    97\\n    105\\n    ...   \n",
       "3  ListContainer: \\n    77\\n    97\\n    105\\n    ...   \n",
       "4  ListContainer: \\n    77\\n    97\\n    105\\n    ...   \n",
       "5  ListContainer: \\n    77\\n    97\\n    105\\n    ...   \n",
       "6  ListContainer: \\n    77\\n    97\\n    105\\n    ...   \n",
       "7  ListContainer: \\n    77\\n    97\\n    105\\n    ...   \n",
       "8  ListContainer: \\n    77\\n    97\\n    105\\n    ...   \n",
       "9  ListContainer: \\n    77\\n    97\\n    105\\n    ...   \n",
       "\n",
       "                                      spot_positions  \\\n",
       "0  ListContainer: \\n    SpotPosition(scaled_balan...   \n",
       "1  ListContainer: \\n    SpotPosition(scaled_balan...   \n",
       "2  ListContainer: \\n    SpotPosition(scaled_balan...   \n",
       "3  ListContainer: \\n    SpotPosition(scaled_balan...   \n",
       "4  ListContainer: \\n    SpotPosition(scaled_balan...   \n",
       "5  ListContainer: \\n    SpotPosition(scaled_balan...   \n",
       "6  ListContainer: \\n    SpotPosition(scaled_balan...   \n",
       "7  ListContainer: \\n    SpotPosition(scaled_balan...   \n",
       "8  ListContainer: \\n    SpotPosition(scaled_balan...   \n",
       "9  ListContainer: \\n    SpotPosition(scaled_balan...   \n",
       "\n",
       "                                      perp_positions  \\\n",
       "0  ListContainer: \\n    PerpPosition(last_cumulat...   \n",
       "1  ListContainer: \\n    PerpPosition(last_cumulat...   \n",
       "2  ListContainer: \\n    PerpPosition(last_cumulat...   \n",
       "3  ListContainer: \\n    PerpPosition(last_cumulat...   \n",
       "4  ListContainer: \\n    PerpPosition(last_cumulat...   \n",
       "5  ListContainer: \\n    PerpPosition(last_cumulat...   \n",
       "6  ListContainer: \\n    PerpPosition(last_cumulat...   \n",
       "7  ListContainer: \\n    PerpPosition(last_cumulat...   \n",
       "8  ListContainer: \\n    PerpPosition(last_cumulat...   \n",
       "9  ListContainer: \\n    PerpPosition(last_cumulat...   \n",
       "\n",
       "                                              orders  \\\n",
       "0  ListContainer: \\n    Order(slot=0, price=0, ba...   \n",
       "1  ListContainer: \\n    Order(slot=0, price=0, ba...   \n",
       "2  ListContainer: \\n    Order(slot=0, price=0, ba...   \n",
       "3  ListContainer: \\n    Order(slot=0, price=0, ba...   \n",
       "4  ListContainer: \\n    Order(slot=0, price=0, ba...   \n",
       "5  ListContainer: \\n    Order(slot=0, price=0, ba...   \n",
       "6  ListContainer: \\n    Order(slot=0, price=0, ba...   \n",
       "7  ListContainer: \\n    Order(slot=0, price=0, ba...   \n",
       "8  ListContainer: \\n    Order(slot=0, price=0, ba...   \n",
       "9  ListContainer: \\n    Order(slot=0, price=0, ba...   \n",
       "\n",
       "   last_add_perp_lp_shares_ts  total_deposits  total_withdraws  \\\n",
       "0                           0               0                0   \n",
       "1                           0       272554635                0   \n",
       "2                           0       272554635                0   \n",
       "3                           0       272554635                0   \n",
       "4                           0       272554635                0   \n",
       "5                           0       272554635                0   \n",
       "6                           0       272554635                0   \n",
       "7                           0       272554635                0   \n",
       "8                           0       272554635                0   \n",
       "9                           0       272554635        326116253   \n",
       "\n",
       "   settled_perp_pnl  ...  max_margin_ratio  next_liquidation_id  \\\n",
       "0                 0  ...                 0                    1   \n",
       "1                 0  ...                 0                    1   \n",
       "2                 0  ...                 0                    1   \n",
       "3         -60976687  ...                 0                    1   \n",
       "4         -60976687  ...                 0                    1   \n",
       "5         -60976687  ...                 0                    1   \n",
       "6         -60976687  ...                 0                    1   \n",
       "7         -60976687  ...                 0                    1   \n",
       "8          53561618  ...                 0                    1   \n",
       "9          53561618  ...                 0                    1   \n",
       "\n",
       "   sub_account_id  is_being_liquidated  is_bankrupt  \\\n",
       "0               0                False        False   \n",
       "1               0                False        False   \n",
       "2               0                False        False   \n",
       "3               0                False        False   \n",
       "4               0                False        False   \n",
       "5               0                False        False   \n",
       "6               0                False        False   \n",
       "7               0                False        False   \n",
       "8               0                False        False   \n",
       "9               0                False        False   \n",
       "\n",
       "   is_margin_trading_enabled                 padding  slot write_version  \\\n",
       "0                      False  ListContainer: \\n    0    28           419   \n",
       "1                      False  ListContainer: \\n    0    30           612   \n",
       "2                      False  ListContainer: \\n    0   276          3106   \n",
       "3                      False  ListContainer: \\n    0   514          5140   \n",
       "4                      False  ListContainer: \\n    0   618          6026   \n",
       "5                      False  ListContainer: \\n    0   638          6221   \n",
       "6                      False  ListContainer: \\n    0   721          6899   \n",
       "7                      False  ListContainer: \\n    0   728          6957   \n",
       "8                      False  ListContainer: \\n    0  1553         14037   \n",
       "9                      False  ListContainer: \\n    0  1593         14391   \n",
       "\n",
       "                   updated_on  \n",
       "0  2022-10-27 15:10:46.196109  \n",
       "1  2022-10-27 15:10:46.998838  \n",
       "2  2022-10-27 15:12:45.356564  \n",
       "3  2022-10-27 15:14:39.250703  \n",
       "4  2022-10-27 15:15:29.156259  \n",
       "5  2022-10-27 15:15:38.707527  \n",
       "6  2022-10-27 15:16:18.309759  \n",
       "7  2022-10-27 15:16:21.655064  \n",
       "8  2022-10-27 15:22:55.945892  \n",
       "9  2022-10-27 15:23:14.747502  \n",
       "\n",
       "[10 rows x 22 columns]"
      ]
     },
     "execution_count": 35,
     "metadata": {},
     "output_type": "execute_result"
    }
   ],
   "source": [
    "user = pd.read_csv(experiment_path('user_0'))\n",
    "user"
   ]
  },
  {
   "cell_type": "code",
   "execution_count": null,
   "metadata": {},
   "outputs": [],
   "source": []
  }
 ],
 "metadata": {
  "kernelspec": {
   "display_name": "Python 3.10.4 ('10')",
   "language": "python",
   "name": "python3"
  },
  "language_info": {
   "codemirror_mode": {
    "name": "ipython",
    "version": 3
   },
   "file_extension": ".py",
   "mimetype": "text/x-python",
   "name": "python",
   "nbconvert_exporter": "python",
   "pygments_lexer": "ipython3",
   "version": "3.10.4"
  },
  "orig_nbformat": 4,
  "vscode": {
   "interpreter": {
    "hash": "7a4fbd860e800df71bf0bd3c91ce94aea665d6c58d8dccfe7d8d2df798748a1f"
   }
  }
 },
 "nbformat": 4,
 "nbformat_minor": 2
}
