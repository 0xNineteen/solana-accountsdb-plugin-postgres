{
 "cells": [
  {
   "cell_type": "code",
   "execution_count": 40,
   "metadata": {},
   "outputs": [
    {
     "data": {
      "text/html": [
       "<div>\n",
       "<style scoped>\n",
       "    .dataframe tbody tr th:only-of-type {\n",
       "        vertical-align: middle;\n",
       "    }\n",
       "\n",
       "    .dataframe tbody tr th {\n",
       "        vertical-align: top;\n",
       "    }\n",
       "\n",
       "    .dataframe thead th {\n",
       "        text-align: right;\n",
       "    }\n",
       "</style>\n",
       "<table border=\"1\" class=\"dataframe\">\n",
       "  <thead>\n",
       "    <tr style=\"text-align: right;\">\n",
       "      <th></th>\n",
       "      <th>market.pubkey</th>\n",
       "      <th>market.name</th>\n",
       "      <th>market.expiry_price</th>\n",
       "      <th>market.number_of_users</th>\n",
       "      <th>market.imf_factor</th>\n",
       "      <th>market.unrealized_pnl_imf_factor</th>\n",
       "      <th>market.unrealized_pnl_max_imbalance</th>\n",
       "      <th>market.liquidator_fee</th>\n",
       "      <th>market.if_liquidation_fee</th>\n",
       "      <th>market.expiry_ts</th>\n",
       "      <th>...</th>\n",
       "      <th>market.amm.fee_pool.market_index</th>\n",
       "      <th>market.amm.fee_pool.padding</th>\n",
       "      <th>market.insurance_claim.revenue_withdraw_since_last_settle</th>\n",
       "      <th>market.insurance_claim.max_revenue_withdraw_per_period</th>\n",
       "      <th>market.insurance_claim.quote_max_insurance</th>\n",
       "      <th>market.insurance_claim.quote_settled_insurance</th>\n",
       "      <th>market.insurance_claim.last_revenue_withdraw_ts</th>\n",
       "      <th>market.pnl_pool.scaled_balance</th>\n",
       "      <th>market.pnl_pool.market_index</th>\n",
       "      <th>market.pnl_pool.padding</th>\n",
       "    </tr>\n",
       "  </thead>\n",
       "  <tbody>\n",
       "    <tr>\n",
       "      <th>0</th>\n",
       "      <td>BurH35ezDkXVV3dRaExkosWDbSLrvGyj2zBXU5eQNYFc</td>\n",
       "      <td>ListContainer: \\n    0\\n    0\\n    0\\n    0\\n ...</td>\n",
       "      <td>0.0</td>\n",
       "      <td>0</td>\n",
       "      <td>0.0</td>\n",
       "      <td>0.0</td>\n",
       "      <td>0.0</td>\n",
       "      <td>0.0</td>\n",
       "      <td>0.01</td>\n",
       "      <td>0</td>\n",
       "      <td>...</td>\n",
       "      <td>0</td>\n",
       "      <td>ListContainer: \\n    0\\n    0\\n    0\\n    0\\n ...</td>\n",
       "      <td>0.0</td>\n",
       "      <td>0.0</td>\n",
       "      <td>0.0</td>\n",
       "      <td>0.0</td>\n",
       "      <td>0</td>\n",
       "      <td>0.0</td>\n",
       "      <td>0</td>\n",
       "      <td>ListContainer: \\n    0\\n    0\\n    0\\n    0\\n ...</td>\n",
       "    </tr>\n",
       "    <tr>\n",
       "      <th>1</th>\n",
       "      <td>BurH35ezDkXVV3dRaExkosWDbSLrvGyj2zBXU5eQNYFc</td>\n",
       "      <td>ListContainer: \\n    0\\n    0\\n    0\\n    0\\n ...</td>\n",
       "      <td>0.0</td>\n",
       "      <td>0</td>\n",
       "      <td>0.0</td>\n",
       "      <td>0.0</td>\n",
       "      <td>0.0</td>\n",
       "      <td>0.0</td>\n",
       "      <td>0.01</td>\n",
       "      <td>0</td>\n",
       "      <td>...</td>\n",
       "      <td>0</td>\n",
       "      <td>ListContainer: \\n    0\\n    0\\n    0\\n    0\\n ...</td>\n",
       "      <td>0.0</td>\n",
       "      <td>0.0</td>\n",
       "      <td>0.0</td>\n",
       "      <td>0.0</td>\n",
       "      <td>0</td>\n",
       "      <td>0.0</td>\n",
       "      <td>0</td>\n",
       "      <td>ListContainer: \\n    0\\n    0\\n    0\\n    0\\n ...</td>\n",
       "    </tr>\n",
       "    <tr>\n",
       "      <th>2</th>\n",
       "      <td>BurH35ezDkXVV3dRaExkosWDbSLrvGyj2zBXU5eQNYFc</td>\n",
       "      <td>ListContainer: \\n    0\\n    0\\n    0\\n    0\\n ...</td>\n",
       "      <td>0.0</td>\n",
       "      <td>0</td>\n",
       "      <td>0.0</td>\n",
       "      <td>0.0</td>\n",
       "      <td>0.0</td>\n",
       "      <td>0.0</td>\n",
       "      <td>0.01</td>\n",
       "      <td>0</td>\n",
       "      <td>...</td>\n",
       "      <td>0</td>\n",
       "      <td>ListContainer: \\n    0\\n    0\\n    0\\n    0\\n ...</td>\n",
       "      <td>0.0</td>\n",
       "      <td>0.0</td>\n",
       "      <td>0.0</td>\n",
       "      <td>0.0</td>\n",
       "      <td>0</td>\n",
       "      <td>0.0</td>\n",
       "      <td>0</td>\n",
       "      <td>ListContainer: \\n    0\\n    0\\n    0\\n    0\\n ...</td>\n",
       "    </tr>\n",
       "    <tr>\n",
       "      <th>3</th>\n",
       "      <td>BurH35ezDkXVV3dRaExkosWDbSLrvGyj2zBXU5eQNYFc</td>\n",
       "      <td>ListContainer: \\n    0\\n    0\\n    0\\n    0\\n ...</td>\n",
       "      <td>0.0</td>\n",
       "      <td>0</td>\n",
       "      <td>0.0</td>\n",
       "      <td>0.0</td>\n",
       "      <td>0.0</td>\n",
       "      <td>0.0</td>\n",
       "      <td>0.01</td>\n",
       "      <td>0</td>\n",
       "      <td>...</td>\n",
       "      <td>0</td>\n",
       "      <td>ListContainer: \\n    0\\n    0\\n    0\\n    0\\n ...</td>\n",
       "      <td>0.0</td>\n",
       "      <td>0.0</td>\n",
       "      <td>0.0</td>\n",
       "      <td>0.0</td>\n",
       "      <td>0</td>\n",
       "      <td>0.0</td>\n",
       "      <td>0</td>\n",
       "      <td>ListContainer: \\n    0\\n    0\\n    0\\n    0\\n ...</td>\n",
       "    </tr>\n",
       "    <tr>\n",
       "      <th>4</th>\n",
       "      <td>BurH35ezDkXVV3dRaExkosWDbSLrvGyj2zBXU5eQNYFc</td>\n",
       "      <td>ListContainer: \\n    0\\n    0\\n    0\\n    0\\n ...</td>\n",
       "      <td>0.0</td>\n",
       "      <td>0</td>\n",
       "      <td>0.0</td>\n",
       "      <td>0.0</td>\n",
       "      <td>0.0</td>\n",
       "      <td>0.0</td>\n",
       "      <td>0.01</td>\n",
       "      <td>0</td>\n",
       "      <td>...</td>\n",
       "      <td>0</td>\n",
       "      <td>ListContainer: \\n    0\\n    0\\n    0\\n    0\\n ...</td>\n",
       "      <td>0.0</td>\n",
       "      <td>0.0</td>\n",
       "      <td>0.0</td>\n",
       "      <td>0.0</td>\n",
       "      <td>0</td>\n",
       "      <td>0.0</td>\n",
       "      <td>0</td>\n",
       "      <td>ListContainer: \\n    0\\n    0\\n    0\\n    0\\n ...</td>\n",
       "    </tr>\n",
       "  </tbody>\n",
       "</table>\n",
       "<p>5 rows × 110 columns</p>\n",
       "</div>"
      ],
      "text/plain": [
       "                                  market.pubkey  \\\n",
       "0  BurH35ezDkXVV3dRaExkosWDbSLrvGyj2zBXU5eQNYFc   \n",
       "1  BurH35ezDkXVV3dRaExkosWDbSLrvGyj2zBXU5eQNYFc   \n",
       "2  BurH35ezDkXVV3dRaExkosWDbSLrvGyj2zBXU5eQNYFc   \n",
       "3  BurH35ezDkXVV3dRaExkosWDbSLrvGyj2zBXU5eQNYFc   \n",
       "4  BurH35ezDkXVV3dRaExkosWDbSLrvGyj2zBXU5eQNYFc   \n",
       "\n",
       "                                         market.name  market.expiry_price  \\\n",
       "0  ListContainer: \\n    0\\n    0\\n    0\\n    0\\n ...                  0.0   \n",
       "1  ListContainer: \\n    0\\n    0\\n    0\\n    0\\n ...                  0.0   \n",
       "2  ListContainer: \\n    0\\n    0\\n    0\\n    0\\n ...                  0.0   \n",
       "3  ListContainer: \\n    0\\n    0\\n    0\\n    0\\n ...                  0.0   \n",
       "4  ListContainer: \\n    0\\n    0\\n    0\\n    0\\n ...                  0.0   \n",
       "\n",
       "   market.number_of_users  market.imf_factor  \\\n",
       "0                       0                0.0   \n",
       "1                       0                0.0   \n",
       "2                       0                0.0   \n",
       "3                       0                0.0   \n",
       "4                       0                0.0   \n",
       "\n",
       "   market.unrealized_pnl_imf_factor  market.unrealized_pnl_max_imbalance  \\\n",
       "0                               0.0                                  0.0   \n",
       "1                               0.0                                  0.0   \n",
       "2                               0.0                                  0.0   \n",
       "3                               0.0                                  0.0   \n",
       "4                               0.0                                  0.0   \n",
       "\n",
       "   market.liquidator_fee  market.if_liquidation_fee  market.expiry_ts  ...  \\\n",
       "0                    0.0                       0.01                 0  ...   \n",
       "1                    0.0                       0.01                 0  ...   \n",
       "2                    0.0                       0.01                 0  ...   \n",
       "3                    0.0                       0.01                 0  ...   \n",
       "4                    0.0                       0.01                 0  ...   \n",
       "\n",
       "   market.amm.fee_pool.market_index  \\\n",
       "0                                 0   \n",
       "1                                 0   \n",
       "2                                 0   \n",
       "3                                 0   \n",
       "4                                 0   \n",
       "\n",
       "                         market.amm.fee_pool.padding  \\\n",
       "0  ListContainer: \\n    0\\n    0\\n    0\\n    0\\n ...   \n",
       "1  ListContainer: \\n    0\\n    0\\n    0\\n    0\\n ...   \n",
       "2  ListContainer: \\n    0\\n    0\\n    0\\n    0\\n ...   \n",
       "3  ListContainer: \\n    0\\n    0\\n    0\\n    0\\n ...   \n",
       "4  ListContainer: \\n    0\\n    0\\n    0\\n    0\\n ...   \n",
       "\n",
       "   market.insurance_claim.revenue_withdraw_since_last_settle  \\\n",
       "0                                                0.0           \n",
       "1                                                0.0           \n",
       "2                                                0.0           \n",
       "3                                                0.0           \n",
       "4                                                0.0           \n",
       "\n",
       "   market.insurance_claim.max_revenue_withdraw_per_period  \\\n",
       "0                                                0.0        \n",
       "1                                                0.0        \n",
       "2                                                0.0        \n",
       "3                                                0.0        \n",
       "4                                                0.0        \n",
       "\n",
       "   market.insurance_claim.quote_max_insurance  \\\n",
       "0                                         0.0   \n",
       "1                                         0.0   \n",
       "2                                         0.0   \n",
       "3                                         0.0   \n",
       "4                                         0.0   \n",
       "\n",
       "   market.insurance_claim.quote_settled_insurance  \\\n",
       "0                                             0.0   \n",
       "1                                             0.0   \n",
       "2                                             0.0   \n",
       "3                                             0.0   \n",
       "4                                             0.0   \n",
       "\n",
       "   market.insurance_claim.last_revenue_withdraw_ts  \\\n",
       "0                                                0   \n",
       "1                                                0   \n",
       "2                                                0   \n",
       "3                                                0   \n",
       "4                                                0   \n",
       "\n",
       "   market.pnl_pool.scaled_balance market.pnl_pool.market_index  \\\n",
       "0                             0.0                            0   \n",
       "1                             0.0                            0   \n",
       "2                             0.0                            0   \n",
       "3                             0.0                            0   \n",
       "4                             0.0                            0   \n",
       "\n",
       "                             market.pnl_pool.padding  \n",
       "0  ListContainer: \\n    0\\n    0\\n    0\\n    0\\n ...  \n",
       "1  ListContainer: \\n    0\\n    0\\n    0\\n    0\\n ...  \n",
       "2  ListContainer: \\n    0\\n    0\\n    0\\n    0\\n ...  \n",
       "3  ListContainer: \\n    0\\n    0\\n    0\\n    0\\n ...  \n",
       "4  ListContainer: \\n    0\\n    0\\n    0\\n    0\\n ...  \n",
       "\n",
       "[5 rows x 110 columns]"
      ]
     },
     "execution_count": 40,
     "metadata": {},
     "output_type": "execute_result"
    }
   ],
   "source": [
    "import pandas as pd \n",
    "from pathlib import Path\n",
    "pd.options.plotting.backend = \"plotly\"\n",
    "\n",
    "experiment = Path('lunaCrash')\n",
    "market = pd.read_csv('data'/experiment/'perp_market_0.csv')\n",
    "market.head()"
   ]
  },
  {
   "cell_type": "code",
   "execution_count": 42,
   "metadata": {},
   "outputs": [
    {
     "data": {
      "text/html": [
       "<div>\n",
       "<style scoped>\n",
       "    .dataframe tbody tr th:only-of-type {\n",
       "        vertical-align: middle;\n",
       "    }\n",
       "\n",
       "    .dataframe tbody tr th {\n",
       "        vertical-align: top;\n",
       "    }\n",
       "\n",
       "    .dataframe thead th {\n",
       "        text-align: right;\n",
       "    }\n",
       "</style>\n",
       "<table border=\"1\" class=\"dataframe\">\n",
       "  <thead>\n",
       "    <tr style=\"text-align: right;\">\n",
       "      <th></th>\n",
       "      <th>slot</th>\n",
       "      <th>ix_name</th>\n",
       "      <th>ix_args</th>\n",
       "      <th>errors</th>\n",
       "    </tr>\n",
       "  </thead>\n",
       "  <tbody>\n",
       "    <tr>\n",
       "      <th>0</th>\n",
       "      <td>24</td>\n",
       "      <td>open_position</td>\n",
       "      <td>{'maker_order_id': None, 'params': {'order_typ...</td>\n",
       "      <td>NaN</td>\n",
       "    </tr>\n",
       "    <tr>\n",
       "      <th>1</th>\n",
       "      <td>27</td>\n",
       "      <td>add_liquidity</td>\n",
       "      <td>{'n_shares': 53598543899, 'market_index': 0}</td>\n",
       "      <td>NaN</td>\n",
       "    </tr>\n",
       "    <tr>\n",
       "      <th>2</th>\n",
       "      <td>30</td>\n",
       "      <td>open_position</td>\n",
       "      <td>{'maker_order_id': None, 'params': {'order_typ...</td>\n",
       "      <td>NaN</td>\n",
       "    </tr>\n",
       "    <tr>\n",
       "      <th>3</th>\n",
       "      <td>33</td>\n",
       "      <td>add_liquidity</td>\n",
       "      <td>{'n_shares': 94077436093, 'market_index': 0}</td>\n",
       "      <td>NaN</td>\n",
       "    </tr>\n",
       "    <tr>\n",
       "      <th>4</th>\n",
       "      <td>35</td>\n",
       "      <td>open_position</td>\n",
       "      <td>{'maker_order_id': None, 'params': {'order_typ...</td>\n",
       "      <td>NaN</td>\n",
       "    </tr>\n",
       "  </tbody>\n",
       "</table>\n",
       "</div>"
      ],
      "text/plain": [
       "   slot        ix_name                                            ix_args  \\\n",
       "0    24  open_position  {'maker_order_id': None, 'params': {'order_typ...   \n",
       "1    27  add_liquidity       {'n_shares': 53598543899, 'market_index': 0}   \n",
       "2    30  open_position  {'maker_order_id': None, 'params': {'order_typ...   \n",
       "3    33  add_liquidity       {'n_shares': 94077436093, 'market_index': 0}   \n",
       "4    35  open_position  {'maker_order_id': None, 'params': {'order_typ...   \n",
       "\n",
       "  errors  \n",
       "0    NaN  \n",
       "1    NaN  \n",
       "2    NaN  \n",
       "3    NaN  \n",
       "4    NaN  "
      ]
     },
     "execution_count": 42,
     "metadata": {},
     "output_type": "execute_result"
    }
   ],
   "source": [
    "ix_logs = pd.read_csv('../backtest/'/experiment/'trial_spread_250/ix_logs.csv')\n",
    "ix_logs.head()"
   ]
  },
  {
   "cell_type": "code",
   "execution_count": 36,
   "metadata": {},
   "outputs": [
    {
     "data": {
      "text/plain": [
       "['market.amm.oracle',\n",
       " 'market.amm.base_asset_amount_per_lp',\n",
       " 'market.amm.quote_asset_amount_per_lp',\n",
       " 'market.amm.last_oracle_normalised_price',\n",
       " 'market.amm.last_oracle_reserve_price_spread_pct',\n",
       " 'market.amm.base_asset_reserve',\n",
       " 'market.amm.quote_asset_reserve',\n",
       " 'market.amm.concentration_coef',\n",
       " 'market.amm.min_base_asset_reserve',\n",
       " 'market.amm.max_base_asset_reserve',\n",
       " 'market.amm.sqrt_k',\n",
       " 'market.amm.peg_multiplier',\n",
       " 'market.amm.terminal_quote_asset_reserve',\n",
       " 'market.amm.base_asset_amount_long',\n",
       " 'market.amm.base_asset_amount_short',\n",
       " 'market.amm.base_asset_amount_with_amm',\n",
       " 'market.amm.base_asset_amount_with_unsettled_lp',\n",
       " 'market.amm.quote_asset_amount_long',\n",
       " 'market.amm.quote_asset_amount_short',\n",
       " 'market.amm.quote_entry_amount_long',\n",
       " 'market.amm.quote_entry_amount_short',\n",
       " 'market.amm.user_lp_shares',\n",
       " 'market.amm.last_funding_rate',\n",
       " 'market.amm.last_funding_rate_long',\n",
       " 'market.amm.last_funding_rate_short',\n",
       " 'market.amm.last24h_avg_funding_rate',\n",
       " 'market.amm.total_fee',\n",
       " 'market.amm.total_mm_fee',\n",
       " 'market.amm.total_exchange_fee',\n",
       " 'market.amm.total_fee_minus_distributions',\n",
       " 'market.amm.total_fee_withdrawn',\n",
       " 'market.amm.total_liquidation_fee',\n",
       " 'market.amm.cumulative_funding_rate_long',\n",
       " 'market.amm.cumulative_funding_rate_short',\n",
       " 'market.amm.cumulative_social_loss',\n",
       " 'market.amm.long_spread',\n",
       " 'market.amm.short_spread',\n",
       " 'market.amm.ask_base_asset_reserve',\n",
       " 'market.amm.ask_quote_asset_reserve',\n",
       " 'market.amm.bid_base_asset_reserve',\n",
       " 'market.amm.bid_quote_asset_reserve',\n",
       " 'market.amm.last_bid_price_twap',\n",
       " 'market.amm.last_ask_price_twap',\n",
       " 'market.amm.last_mark_price_twap',\n",
       " 'market.amm.last_mark_price_twap5min',\n",
       " 'market.amm.last_update_slot',\n",
       " 'market.amm.last_oracle_conf_pct',\n",
       " 'market.amm.net_revenue_since_last_funding',\n",
       " 'market.amm.last_funding_rate_ts',\n",
       " 'market.amm.funding_period',\n",
       " 'market.amm.order_step_size',\n",
       " 'market.amm.order_tick_size',\n",
       " 'market.amm.min_order_size',\n",
       " 'market.amm.max_position_size',\n",
       " 'market.amm.volume24h',\n",
       " 'market.amm.long_intensity_volume',\n",
       " 'market.amm.short_intensity_volume',\n",
       " 'market.amm.last_trade_ts',\n",
       " 'market.amm.mark_std',\n",
       " 'market.amm.last_mark_price_twap_ts',\n",
       " 'market.amm.max_spread',\n",
       " 'market.amm.max_fill_reserve_fraction',\n",
       " 'market.amm.max_slippage_ratio',\n",
       " 'market.amm.base_spread',\n",
       " 'market.amm.long_intensity_count',\n",
       " 'market.amm.short_intensity_count',\n",
       " 'market.amm.curve_update_intensity',\n",
       " 'market.amm.amm_jit_intensity',\n",
       " 'market.amm.oracle_source',\n",
       " 'market.amm.last_oracle_valid',\n",
       " 'market.amm.padding',\n",
       " 'market.amm.historical_oracle_data.last_oracle_price',\n",
       " 'market.amm.historical_oracle_data.last_oracle_conf',\n",
       " 'market.amm.historical_oracle_data.last_oracle_delay',\n",
       " 'market.amm.historical_oracle_data.last_oracle_price_twap',\n",
       " 'market.amm.historical_oracle_data.last_oracle_price_twap5min',\n",
       " 'market.amm.historical_oracle_data.last_oracle_price_twap_ts',\n",
       " 'market.amm.fee_pool.scaled_balance',\n",
       " 'market.amm.fee_pool.market_index',\n",
       " 'market.amm.fee_pool.padding']"
      ]
     },
     "execution_count": 36,
     "metadata": {},
     "output_type": "execute_result"
    }
   ],
   "source": [
    "import sys\n",
    "sys.path.insert(0, '../driftpy/src/')\n",
    "\n",
    "[c for c in market.columns if 'amm' in c]"
   ]
  },
  {
   "cell_type": "code",
   "execution_count": 39,
   "metadata": {},
   "outputs": [
    {
     "data": {
      "application/vnd.plotly.v1+json": {
       "config": {
        "plotlyServerURL": "https://plot.ly"
       },
       "data": [
        {
         "hovertemplate": "variable=market.amm.historical_oracle_data.last_oracle_price<br>index=%{x}<br>value=%{y}<extra></extra>",
         "legendgroup": "market.amm.historical_oracle_data.last_oracle_price",
         "line": {
          "color": "#636efa",
          "dash": "solid"
         },
         "marker": {
          "symbol": "circle"
         },
         "mode": "lines",
         "name": "market.amm.historical_oracle_data.last_oracle_price",
         "orientation": "v",
         "showlegend": true,
         "type": "scatter",
         "x": [
          0,
          1,
          2,
          3,
          4,
          5,
          6,
          7,
          8,
          9,
          10,
          11,
          12,
          13,
          14,
          15,
          16,
          17,
          18,
          19,
          20,
          21,
          22,
          23,
          24,
          25,
          26,
          27,
          28,
          29,
          30,
          31,
          32,
          33,
          34,
          35,
          36,
          37,
          38,
          39,
          40,
          41,
          42,
          43,
          44,
          45,
          46,
          47,
          48,
          49,
          50,
          51,
          52,
          53,
          54,
          55,
          56,
          57,
          58,
          59,
          60,
          61,
          62,
          63,
          64,
          65,
          66,
          67,
          68,
          69,
          70,
          71,
          72,
          73,
          74,
          75,
          76,
          77,
          78,
          79,
          80,
          81,
          82,
          83,
          84,
          85,
          86,
          87,
          88,
          89,
          90,
          91,
          92,
          93,
          94,
          95,
          96,
          97,
          98,
          99,
          100,
          101,
          102,
          103,
          104,
          105,
          106,
          107,
          108,
          109,
          110,
          111,
          112,
          113,
          114,
          115,
          116,
          117,
          118,
          119,
          120,
          121,
          122,
          123,
          124,
          125,
          126,
          127,
          128,
          129,
          130,
          131,
          132,
          133,
          134,
          135,
          136,
          137,
          138,
          139,
          140,
          141,
          142,
          143,
          144,
          145,
          146,
          147,
          148,
          149,
          150,
          151,
          152,
          153,
          154,
          155,
          156,
          157,
          158,
          159,
          160,
          161,
          162,
          163,
          164,
          165,
          166,
          167,
          168,
          169,
          170,
          171,
          172,
          173,
          174,
          175,
          176,
          177,
          178,
          179,
          180,
          181,
          182,
          183,
          184,
          185,
          186,
          187,
          188,
          189,
          190,
          191,
          192,
          193,
          194,
          195,
          196,
          197,
          198,
          199,
          200,
          201,
          202,
          203,
          204,
          205,
          206,
          207,
          208,
          209,
          210,
          211,
          212,
          213,
          214,
          215,
          216,
          217,
          218,
          219,
          220,
          221,
          222,
          223
         ],
         "xaxis": "x",
         "y": [
          61.529536,
          61.529536,
          61.529536,
          61.529536,
          61.529536,
          63.280927,
          63.280927,
          63.76486,
          63.76486,
          62.9345,
          62.9345,
          62.9345,
          62.9345,
          61.646478,
          61.646478,
          61.646478,
          61.646478,
          61.986,
          61.986,
          61.986,
          61.986,
          61.986,
          61.238,
          61.238,
          61.238,
          60.751109,
          60.386,
          60.386,
          60.386,
          61.1677,
          61.1677,
          60.190438,
          59.918833,
          60.158581,
          60.172701,
          60.172701,
          59.728938,
          59.728938,
          59.728938,
          59.728938,
          59.064993,
          59.064993,
          58.751662,
          60.346028,
          60.346028,
          59.7021,
          59.7021,
          57.414,
          57.414,
          56.964499,
          56.964499,
          56.964499,
          52.7983,
          52.7983,
          52.7983,
          52.7983,
          46.761477,
          47.8785,
          46.545702,
          47.373464,
          46.2119,
          47.511895,
          51.015638,
          51.015638,
          48.903894,
          47.760037,
          47.760037,
          47.760037,
          38.156461,
          38.156461,
          37.922289,
          37.922289,
          37.922289,
          37.922289,
          28.261791,
          28.261791,
          34.768441,
          34.768441,
          34.768441,
          33.490195,
          32.8459,
          33.491048,
          33.491048,
          33.491048,
          29.317622,
          28.623944,
          28.623944,
          29.933611,
          29.933611,
          29.933611,
          32.336753,
          32.336753,
          32.336753,
          32.336753,
          32.336753,
          32.336753,
          31.9554,
          30.8,
          33.488662,
          33.488662,
          33.488662,
          33.488662,
          33.488662,
          33.488662,
          29.586583,
          29.586583,
          32.529602,
          32.529602,
          32.529602,
          32.529602,
          32.529602,
          32.529602,
          33.159338,
          33.159338,
          31.074342,
          31.074342,
          31.074342,
          31.771635,
          28.345134,
          28.64145,
          28.64145,
          28.64145,
          28.64145,
          28.64145,
          30.544862,
          29.7815,
          29.7815,
          29.7815,
          29.7815,
          29.7815,
          29.7815,
          29.1272,
          29.1272,
          29.1272,
          29.1272,
          24.667668,
          24.284997,
          24.178691,
          24.178691,
          15.546818,
          15.546818,
          15.546818,
          15.546818,
          15.546818,
          15.546818,
          15.546818,
          15.546818,
          15.546818,
          15.546818,
          15.546818,
          13.3176,
          13.3176,
          13.3176,
          13.3176,
          13.3176,
          13.3176,
          13.3176,
          13.3176,
          13.3176,
          13.3176,
          13.3176,
          13.3176,
          13.3176,
          13.3176,
          13.3176,
          13.3176,
          13.3176,
          13.3176,
          13.3176,
          13.3176,
          13.3176,
          13.3176,
          13.3176,
          13.3176,
          13.3176,
          13.3176,
          13.3176,
          13.3176,
          13.3176,
          13.3176,
          13.3176,
          13.3176,
          13.3176,
          13.3176,
          13.3176,
          0.771498,
          0.771498,
          0.771498,
          0.771498,
          0.771498,
          0.771498,
          0.771498,
          0.771498,
          0.771498,
          0.771498,
          0.771498,
          0.771498,
          0.771498,
          0.771498,
          0.771498,
          0.771498,
          0.771498,
          0.771498,
          0.771498,
          0.771498,
          0.771498,
          0.771498,
          0.771498,
          0.771498,
          1.12917,
          1.12917,
          1.12917,
          1.12917,
          1.12917,
          1.12917,
          1.12917,
          1.12917,
          1.12917,
          1.12917,
          1.12917,
          1.12917,
          1.12917,
          1.12917,
          1.12917
         ],
         "yaxis": "y"
        },
        {
         "hovertemplate": "variable=market.amm.historical_oracle_data.last_oracle_price_twap<br>index=%{x}<br>value=%{y}<extra></extra>",
         "legendgroup": "market.amm.historical_oracle_data.last_oracle_price_twap",
         "line": {
          "color": "#EF553B",
          "dash": "solid"
         },
         "marker": {
          "symbol": "circle"
         },
         "mode": "lines",
         "name": "market.amm.historical_oracle_data.last_oracle_price_twap",
         "orientation": "v",
         "showlegend": true,
         "type": "scatter",
         "x": [
          0,
          1,
          2,
          3,
          4,
          5,
          6,
          7,
          8,
          9,
          10,
          11,
          12,
          13,
          14,
          15,
          16,
          17,
          18,
          19,
          20,
          21,
          22,
          23,
          24,
          25,
          26,
          27,
          28,
          29,
          30,
          31,
          32,
          33,
          34,
          35,
          36,
          37,
          38,
          39,
          40,
          41,
          42,
          43,
          44,
          45,
          46,
          47,
          48,
          49,
          50,
          51,
          52,
          53,
          54,
          55,
          56,
          57,
          58,
          59,
          60,
          61,
          62,
          63,
          64,
          65,
          66,
          67,
          68,
          69,
          70,
          71,
          72,
          73,
          74,
          75,
          76,
          77,
          78,
          79,
          80,
          81,
          82,
          83,
          84,
          85,
          86,
          87,
          88,
          89,
          90,
          91,
          92,
          93,
          94,
          95,
          96,
          97,
          98,
          99,
          100,
          101,
          102,
          103,
          104,
          105,
          106,
          107,
          108,
          109,
          110,
          111,
          112,
          113,
          114,
          115,
          116,
          117,
          118,
          119,
          120,
          121,
          122,
          123,
          124,
          125,
          126,
          127,
          128,
          129,
          130,
          131,
          132,
          133,
          134,
          135,
          136,
          137,
          138,
          139,
          140,
          141,
          142,
          143,
          144,
          145,
          146,
          147,
          148,
          149,
          150,
          151,
          152,
          153,
          154,
          155,
          156,
          157,
          158,
          159,
          160,
          161,
          162,
          163,
          164,
          165,
          166,
          167,
          168,
          169,
          170,
          171,
          172,
          173,
          174,
          175,
          176,
          177,
          178,
          179,
          180,
          181,
          182,
          183,
          184,
          185,
          186,
          187,
          188,
          189,
          190,
          191,
          192,
          193,
          194,
          195,
          196,
          197,
          198,
          199,
          200,
          201,
          202,
          203,
          204,
          205,
          206,
          207,
          208,
          209,
          210,
          211,
          212,
          213,
          214,
          215,
          216,
          217,
          218,
          219,
          220,
          221,
          222,
          223
         ],
         "xaxis": "x",
         "y": [
          61.529536,
          61.529536,
          61.529536,
          61.529536,
          61.529536,
          61.733865,
          61.733865,
          61.835415,
          61.835415,
          61.89037,
          61.89037,
          61.89037,
          61.89037,
          61.853787,
          61.853787,
          61.853787,
          61.853787,
          61.873619,
          61.873619,
          61.873619,
          61.873619,
          61.873619,
          61.778277,
          61.778277,
          61.778277,
          61.69268,
          61.649125,
          61.649125,
          61.649125,
          61.593762,
          61.593762,
          61.523596,
          61.470104,
          61.426387,
          61.384598,
          61.384598,
          61.274221,
          61.274221,
          61.274221,
          61.274221,
          60.942837,
          60.942837,
          60.796759,
          60.774223,
          60.774223,
          60.702749,
          60.702749,
          60.4835,
          60.4835,
          60.30755,
          60.30755,
          60.30755,
          59.431471,
          59.431471,
          59.431471,
          59.431471,
          57.530972,
          57.209223,
          57.031498,
          56.395679,
          56.22595,
          55.935482,
          55.771488,
          55.771488,
          55.199189,
          54.951218,
          54.951218,
          54.951218,
          53.271743,
          53.271743,
          52.248447,
          52.248447,
          52.248447,
          52.248447,
          48.765218,
          48.765218,
          47.59882,
          47.59882,
          47.59882,
          46.187958,
          45.520856,
          45.119863,
          45.119863,
          45.119863,
          43.615868,
          42.89163,
          42.89163,
          41.595829,
          41.595829,
          41.595829,
          40.515604,
          40.515604,
          40.515604,
          40.515604,
          40.515604,
          40.515604,
          38.660894,
          38.398865,
          38.235192,
          38.235192,
          38.235192,
          38.235192,
          38.235192,
          38.235192,
          35.928897,
          35.928897,
          35.702278,
          35.702278,
          35.702278,
          35.702278,
          35.702278,
          35.702278,
          34.993081,
          34.993081,
          34.66652,
          34.66652,
          34.66652,
          34.328784,
          33.73042,
          33.560788,
          33.560788,
          33.560788,
          33.560788,
          33.560788,
          33.058134,
          32.948913,
          32.948913,
          32.948913,
          32.948913,
          32.948913,
          32.948913,
          32.120876,
          32.120876,
          32.120876,
          32.120876,
          30.653009,
          30.440742,
          30.12764,
          30.12764,
          28.453883,
          28.453883,
          28.453883,
          28.453883,
          28.453883,
          28.453883,
          28.453883,
          28.453883,
          28.453883,
          28.453883,
          28.453883,
          20.233871,
          20.233871,
          20.233871,
          20.233871,
          20.233871,
          20.233871,
          20.233871,
          20.233871,
          20.233871,
          20.233871,
          20.233871,
          20.233871,
          20.233871,
          20.233871,
          20.233871,
          20.233871,
          20.233871,
          20.233871,
          20.233871,
          20.233871,
          20.233871,
          20.233871,
          20.233871,
          20.233871,
          20.233871,
          20.233871,
          20.233871,
          20.233871,
          20.233871,
          20.233871,
          20.233871,
          20.233871,
          20.233871,
          20.233871,
          20.233871,
          13.489248,
          13.489248,
          13.489248,
          13.489248,
          13.489248,
          13.489248,
          13.489248,
          13.489248,
          13.489248,
          13.489248,
          13.489248,
          13.489248,
          13.489248,
          13.489248,
          13.489248,
          13.489248,
          13.489248,
          13.489248,
          13.489248,
          13.489248,
          13.489248,
          13.489248,
          13.489248,
          13.489248,
          8.992832,
          8.992832,
          8.992832,
          8.992832,
          8.992832,
          8.992832,
          8.992832,
          8.992832,
          8.992832,
          8.992832,
          8.992832,
          8.992832,
          8.992832,
          8.992832,
          8.992832
         ],
         "yaxis": "y"
        }
       ],
       "layout": {
        "legend": {
         "title": {
          "text": "variable"
         },
         "tracegroupgap": 0
        },
        "margin": {
         "t": 60
        },
        "template": {
         "data": {
          "bar": [
           {
            "error_x": {
             "color": "#2a3f5f"
            },
            "error_y": {
             "color": "#2a3f5f"
            },
            "marker": {
             "line": {
              "color": "#E5ECF6",
              "width": 0.5
             },
             "pattern": {
              "fillmode": "overlay",
              "size": 10,
              "solidity": 0.2
             }
            },
            "type": "bar"
           }
          ],
          "barpolar": [
           {
            "marker": {
             "line": {
              "color": "#E5ECF6",
              "width": 0.5
             },
             "pattern": {
              "fillmode": "overlay",
              "size": 10,
              "solidity": 0.2
             }
            },
            "type": "barpolar"
           }
          ],
          "carpet": [
           {
            "aaxis": {
             "endlinecolor": "#2a3f5f",
             "gridcolor": "white",
             "linecolor": "white",
             "minorgridcolor": "white",
             "startlinecolor": "#2a3f5f"
            },
            "baxis": {
             "endlinecolor": "#2a3f5f",
             "gridcolor": "white",
             "linecolor": "white",
             "minorgridcolor": "white",
             "startlinecolor": "#2a3f5f"
            },
            "type": "carpet"
           }
          ],
          "choropleth": [
           {
            "colorbar": {
             "outlinewidth": 0,
             "ticks": ""
            },
            "type": "choropleth"
           }
          ],
          "contour": [
           {
            "colorbar": {
             "outlinewidth": 0,
             "ticks": ""
            },
            "colorscale": [
             [
              0,
              "#0d0887"
             ],
             [
              0.1111111111111111,
              "#46039f"
             ],
             [
              0.2222222222222222,
              "#7201a8"
             ],
             [
              0.3333333333333333,
              "#9c179e"
             ],
             [
              0.4444444444444444,
              "#bd3786"
             ],
             [
              0.5555555555555556,
              "#d8576b"
             ],
             [
              0.6666666666666666,
              "#ed7953"
             ],
             [
              0.7777777777777778,
              "#fb9f3a"
             ],
             [
              0.8888888888888888,
              "#fdca26"
             ],
             [
              1,
              "#f0f921"
             ]
            ],
            "type": "contour"
           }
          ],
          "contourcarpet": [
           {
            "colorbar": {
             "outlinewidth": 0,
             "ticks": ""
            },
            "type": "contourcarpet"
           }
          ],
          "heatmap": [
           {
            "colorbar": {
             "outlinewidth": 0,
             "ticks": ""
            },
            "colorscale": [
             [
              0,
              "#0d0887"
             ],
             [
              0.1111111111111111,
              "#46039f"
             ],
             [
              0.2222222222222222,
              "#7201a8"
             ],
             [
              0.3333333333333333,
              "#9c179e"
             ],
             [
              0.4444444444444444,
              "#bd3786"
             ],
             [
              0.5555555555555556,
              "#d8576b"
             ],
             [
              0.6666666666666666,
              "#ed7953"
             ],
             [
              0.7777777777777778,
              "#fb9f3a"
             ],
             [
              0.8888888888888888,
              "#fdca26"
             ],
             [
              1,
              "#f0f921"
             ]
            ],
            "type": "heatmap"
           }
          ],
          "heatmapgl": [
           {
            "colorbar": {
             "outlinewidth": 0,
             "ticks": ""
            },
            "colorscale": [
             [
              0,
              "#0d0887"
             ],
             [
              0.1111111111111111,
              "#46039f"
             ],
             [
              0.2222222222222222,
              "#7201a8"
             ],
             [
              0.3333333333333333,
              "#9c179e"
             ],
             [
              0.4444444444444444,
              "#bd3786"
             ],
             [
              0.5555555555555556,
              "#d8576b"
             ],
             [
              0.6666666666666666,
              "#ed7953"
             ],
             [
              0.7777777777777778,
              "#fb9f3a"
             ],
             [
              0.8888888888888888,
              "#fdca26"
             ],
             [
              1,
              "#f0f921"
             ]
            ],
            "type": "heatmapgl"
           }
          ],
          "histogram": [
           {
            "marker": {
             "pattern": {
              "fillmode": "overlay",
              "size": 10,
              "solidity": 0.2
             }
            },
            "type": "histogram"
           }
          ],
          "histogram2d": [
           {
            "colorbar": {
             "outlinewidth": 0,
             "ticks": ""
            },
            "colorscale": [
             [
              0,
              "#0d0887"
             ],
             [
              0.1111111111111111,
              "#46039f"
             ],
             [
              0.2222222222222222,
              "#7201a8"
             ],
             [
              0.3333333333333333,
              "#9c179e"
             ],
             [
              0.4444444444444444,
              "#bd3786"
             ],
             [
              0.5555555555555556,
              "#d8576b"
             ],
             [
              0.6666666666666666,
              "#ed7953"
             ],
             [
              0.7777777777777778,
              "#fb9f3a"
             ],
             [
              0.8888888888888888,
              "#fdca26"
             ],
             [
              1,
              "#f0f921"
             ]
            ],
            "type": "histogram2d"
           }
          ],
          "histogram2dcontour": [
           {
            "colorbar": {
             "outlinewidth": 0,
             "ticks": ""
            },
            "colorscale": [
             [
              0,
              "#0d0887"
             ],
             [
              0.1111111111111111,
              "#46039f"
             ],
             [
              0.2222222222222222,
              "#7201a8"
             ],
             [
              0.3333333333333333,
              "#9c179e"
             ],
             [
              0.4444444444444444,
              "#bd3786"
             ],
             [
              0.5555555555555556,
              "#d8576b"
             ],
             [
              0.6666666666666666,
              "#ed7953"
             ],
             [
              0.7777777777777778,
              "#fb9f3a"
             ],
             [
              0.8888888888888888,
              "#fdca26"
             ],
             [
              1,
              "#f0f921"
             ]
            ],
            "type": "histogram2dcontour"
           }
          ],
          "mesh3d": [
           {
            "colorbar": {
             "outlinewidth": 0,
             "ticks": ""
            },
            "type": "mesh3d"
           }
          ],
          "parcoords": [
           {
            "line": {
             "colorbar": {
              "outlinewidth": 0,
              "ticks": ""
             }
            },
            "type": "parcoords"
           }
          ],
          "pie": [
           {
            "automargin": true,
            "type": "pie"
           }
          ],
          "scatter": [
           {
            "fillpattern": {
             "fillmode": "overlay",
             "size": 10,
             "solidity": 0.2
            },
            "type": "scatter"
           }
          ],
          "scatter3d": [
           {
            "line": {
             "colorbar": {
              "outlinewidth": 0,
              "ticks": ""
             }
            },
            "marker": {
             "colorbar": {
              "outlinewidth": 0,
              "ticks": ""
             }
            },
            "type": "scatter3d"
           }
          ],
          "scattercarpet": [
           {
            "marker": {
             "colorbar": {
              "outlinewidth": 0,
              "ticks": ""
             }
            },
            "type": "scattercarpet"
           }
          ],
          "scattergeo": [
           {
            "marker": {
             "colorbar": {
              "outlinewidth": 0,
              "ticks": ""
             }
            },
            "type": "scattergeo"
           }
          ],
          "scattergl": [
           {
            "marker": {
             "colorbar": {
              "outlinewidth": 0,
              "ticks": ""
             }
            },
            "type": "scattergl"
           }
          ],
          "scattermapbox": [
           {
            "marker": {
             "colorbar": {
              "outlinewidth": 0,
              "ticks": ""
             }
            },
            "type": "scattermapbox"
           }
          ],
          "scatterpolar": [
           {
            "marker": {
             "colorbar": {
              "outlinewidth": 0,
              "ticks": ""
             }
            },
            "type": "scatterpolar"
           }
          ],
          "scatterpolargl": [
           {
            "marker": {
             "colorbar": {
              "outlinewidth": 0,
              "ticks": ""
             }
            },
            "type": "scatterpolargl"
           }
          ],
          "scatterternary": [
           {
            "marker": {
             "colorbar": {
              "outlinewidth": 0,
              "ticks": ""
             }
            },
            "type": "scatterternary"
           }
          ],
          "surface": [
           {
            "colorbar": {
             "outlinewidth": 0,
             "ticks": ""
            },
            "colorscale": [
             [
              0,
              "#0d0887"
             ],
             [
              0.1111111111111111,
              "#46039f"
             ],
             [
              0.2222222222222222,
              "#7201a8"
             ],
             [
              0.3333333333333333,
              "#9c179e"
             ],
             [
              0.4444444444444444,
              "#bd3786"
             ],
             [
              0.5555555555555556,
              "#d8576b"
             ],
             [
              0.6666666666666666,
              "#ed7953"
             ],
             [
              0.7777777777777778,
              "#fb9f3a"
             ],
             [
              0.8888888888888888,
              "#fdca26"
             ],
             [
              1,
              "#f0f921"
             ]
            ],
            "type": "surface"
           }
          ],
          "table": [
           {
            "cells": {
             "fill": {
              "color": "#EBF0F8"
             },
             "line": {
              "color": "white"
             }
            },
            "header": {
             "fill": {
              "color": "#C8D4E3"
             },
             "line": {
              "color": "white"
             }
            },
            "type": "table"
           }
          ]
         },
         "layout": {
          "annotationdefaults": {
           "arrowcolor": "#2a3f5f",
           "arrowhead": 0,
           "arrowwidth": 1
          },
          "autotypenumbers": "strict",
          "coloraxis": {
           "colorbar": {
            "outlinewidth": 0,
            "ticks": ""
           }
          },
          "colorscale": {
           "diverging": [
            [
             0,
             "#8e0152"
            ],
            [
             0.1,
             "#c51b7d"
            ],
            [
             0.2,
             "#de77ae"
            ],
            [
             0.3,
             "#f1b6da"
            ],
            [
             0.4,
             "#fde0ef"
            ],
            [
             0.5,
             "#f7f7f7"
            ],
            [
             0.6,
             "#e6f5d0"
            ],
            [
             0.7,
             "#b8e186"
            ],
            [
             0.8,
             "#7fbc41"
            ],
            [
             0.9,
             "#4d9221"
            ],
            [
             1,
             "#276419"
            ]
           ],
           "sequential": [
            [
             0,
             "#0d0887"
            ],
            [
             0.1111111111111111,
             "#46039f"
            ],
            [
             0.2222222222222222,
             "#7201a8"
            ],
            [
             0.3333333333333333,
             "#9c179e"
            ],
            [
             0.4444444444444444,
             "#bd3786"
            ],
            [
             0.5555555555555556,
             "#d8576b"
            ],
            [
             0.6666666666666666,
             "#ed7953"
            ],
            [
             0.7777777777777778,
             "#fb9f3a"
            ],
            [
             0.8888888888888888,
             "#fdca26"
            ],
            [
             1,
             "#f0f921"
            ]
           ],
           "sequentialminus": [
            [
             0,
             "#0d0887"
            ],
            [
             0.1111111111111111,
             "#46039f"
            ],
            [
             0.2222222222222222,
             "#7201a8"
            ],
            [
             0.3333333333333333,
             "#9c179e"
            ],
            [
             0.4444444444444444,
             "#bd3786"
            ],
            [
             0.5555555555555556,
             "#d8576b"
            ],
            [
             0.6666666666666666,
             "#ed7953"
            ],
            [
             0.7777777777777778,
             "#fb9f3a"
            ],
            [
             0.8888888888888888,
             "#fdca26"
            ],
            [
             1,
             "#f0f921"
            ]
           ]
          },
          "colorway": [
           "#636efa",
           "#EF553B",
           "#00cc96",
           "#ab63fa",
           "#FFA15A",
           "#19d3f3",
           "#FF6692",
           "#B6E880",
           "#FF97FF",
           "#FECB52"
          ],
          "font": {
           "color": "#2a3f5f"
          },
          "geo": {
           "bgcolor": "white",
           "lakecolor": "white",
           "landcolor": "#E5ECF6",
           "showlakes": true,
           "showland": true,
           "subunitcolor": "white"
          },
          "hoverlabel": {
           "align": "left"
          },
          "hovermode": "closest",
          "mapbox": {
           "style": "light"
          },
          "paper_bgcolor": "white",
          "plot_bgcolor": "#E5ECF6",
          "polar": {
           "angularaxis": {
            "gridcolor": "white",
            "linecolor": "white",
            "ticks": ""
           },
           "bgcolor": "#E5ECF6",
           "radialaxis": {
            "gridcolor": "white",
            "linecolor": "white",
            "ticks": ""
           }
          },
          "scene": {
           "xaxis": {
            "backgroundcolor": "#E5ECF6",
            "gridcolor": "white",
            "gridwidth": 2,
            "linecolor": "white",
            "showbackground": true,
            "ticks": "",
            "zerolinecolor": "white"
           },
           "yaxis": {
            "backgroundcolor": "#E5ECF6",
            "gridcolor": "white",
            "gridwidth": 2,
            "linecolor": "white",
            "showbackground": true,
            "ticks": "",
            "zerolinecolor": "white"
           },
           "zaxis": {
            "backgroundcolor": "#E5ECF6",
            "gridcolor": "white",
            "gridwidth": 2,
            "linecolor": "white",
            "showbackground": true,
            "ticks": "",
            "zerolinecolor": "white"
           }
          },
          "shapedefaults": {
           "line": {
            "color": "#2a3f5f"
           }
          },
          "ternary": {
           "aaxis": {
            "gridcolor": "white",
            "linecolor": "white",
            "ticks": ""
           },
           "baxis": {
            "gridcolor": "white",
            "linecolor": "white",
            "ticks": ""
           },
           "bgcolor": "#E5ECF6",
           "caxis": {
            "gridcolor": "white",
            "linecolor": "white",
            "ticks": ""
           }
          },
          "title": {
           "x": 0.05
          },
          "xaxis": {
           "automargin": true,
           "gridcolor": "white",
           "linecolor": "white",
           "ticks": "",
           "title": {
            "standoff": 15
           },
           "zerolinecolor": "white",
           "zerolinewidth": 2
          },
          "yaxis": {
           "automargin": true,
           "gridcolor": "white",
           "linecolor": "white",
           "ticks": "",
           "title": {
            "standoff": 15
           },
           "zerolinecolor": "white",
           "zerolinewidth": 2
          }
         }
        },
        "xaxis": {
         "anchor": "y",
         "domain": [
          0,
          1
         ],
         "title": {
          "text": "index"
         }
        },
        "yaxis": {
         "anchor": "x",
         "domain": [
          0,
          1
         ],
         "title": {
          "text": "value"
         }
        }
       }
      }
     },
     "metadata": {},
     "output_type": "display_data"
    }
   ],
   "source": [
    "market[[\n",
    "    'market.amm.historical_oracle_data.last_oracle_price',\n",
    "    # 'market.expiry_price',\n",
    "    'market.amm.historical_oracle_data.last_oracle_price_twap',\n",
    "    # 'market.amm.base_asset_amount_with_amm',\n",
    "]].plot()"
   ]
  },
  {
   "cell_type": "code",
   "execution_count": null,
   "metadata": {},
   "outputs": [],
   "source": []
  }
 ],
 "metadata": {
  "kernelspec": {
   "display_name": "Python 3.10.4 ('10')",
   "language": "python",
   "name": "python3"
  },
  "language_info": {
   "codemirror_mode": {
    "name": "ipython",
    "version": 3
   },
   "file_extension": ".py",
   "mimetype": "text/x-python",
   "name": "python",
   "nbconvert_exporter": "python",
   "pygments_lexer": "ipython3",
   "version": "3.10.4"
  },
  "orig_nbformat": 4,
  "vscode": {
   "interpreter": {
    "hash": "7a4fbd860e800df71bf0bd3c91ce94aea665d6c58d8dccfe7d8d2df798748a1f"
   }
  }
 },
 "nbformat": 4,
 "nbformat_minor": 2
}
