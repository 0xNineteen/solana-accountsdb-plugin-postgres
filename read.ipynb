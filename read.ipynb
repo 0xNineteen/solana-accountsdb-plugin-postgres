{
 "cells": [
  {
   "cell_type": "code",
   "execution_count": 1,
   "metadata": {},
   "outputs": [
    {
     "name": "stdout",
     "output_type": "stream",
     "text": [
      "# of examples found: 281\n"
     ]
    },
    {
     "name": "stderr",
     "output_type": "stream",
     "text": [
      "/Users/brennan/miniconda3/envs/10/lib/python3.10/site-packages/pandas/io/sql.py:761: UserWarning: pandas only support SQLAlchemy connectable(engine/connection) ordatabase string URI or sqlite3 DBAPI2 connectionother DBAPI2 objects are not tested, please consider using SQLAlchemy\n",
      "  warnings.warn(\n"
     ]
    },
    {
     "data": {
      "text/html": [
       "<div>\n",
       "<style scoped>\n",
       "    .dataframe tbody tr th:only-of-type {\n",
       "        vertical-align: middle;\n",
       "    }\n",
       "\n",
       "    .dataframe tbody tr th {\n",
       "        vertical-align: top;\n",
       "    }\n",
       "\n",
       "    .dataframe thead th {\n",
       "        text-align: right;\n",
       "    }\n",
       "</style>\n",
       "<table border=\"1\" class=\"dataframe\">\n",
       "  <thead>\n",
       "    <tr style=\"text-align: right;\">\n",
       "      <th></th>\n",
       "      <th>pubkey</th>\n",
       "      <th>owner</th>\n",
       "      <th>lamports</th>\n",
       "      <th>slot</th>\n",
       "      <th>executable</th>\n",
       "      <th>rent_epoch</th>\n",
       "      <th>data</th>\n",
       "      <th>write_version</th>\n",
       "      <th>updated_on</th>\n",
       "      <th>txn_signature</th>\n",
       "    </tr>\n",
       "  </thead>\n",
       "  <tbody>\n",
       "    <tr>\n",
       "      <th>0</th>\n",
       "      <td>[b'\\xdf', b'\\xac', b'+', b'1', b'\\xe1', b'r', ...</td>\n",
       "      <td>[b'\\xb9', b'\\\\', b'*', b'\\x95', b'\\xfc', b'\\xb...</td>\n",
       "      <td>7906560</td>\n",
       "      <td>10</td>\n",
       "      <td>False</td>\n",
       "      <td>0</td>\n",
       "      <td>[b'\\xd8', b'\\x92', b'k', b'^', b'h', b'K', b'\\...</td>\n",
       "      <td>202</td>\n",
       "      <td>2022-10-17 16:34:16.602273</td>\n",
       "      <td>[b'a', b'\\xce', b'\\xa7', b'\\xc8', b'\\xba', b'\\...</td>\n",
       "    </tr>\n",
       "    <tr>\n",
       "      <th>1</th>\n",
       "      <td>[b'\\xdf', b'\\xac', b'+', b'1', b'\\xe1', b'r', ...</td>\n",
       "      <td>[b'\\xb9', b'\\\\', b'*', b'\\x95', b'\\xfc', b'\\xb...</td>\n",
       "      <td>7906560</td>\n",
       "      <td>11</td>\n",
       "      <td>False</td>\n",
       "      <td>0</td>\n",
       "      <td>[b'\\xd8', b'\\x92', b'k', b'^', b'h', b'K', b'\\...</td>\n",
       "      <td>213</td>\n",
       "      <td>2022-10-17 16:34:17.113816</td>\n",
       "      <td>[b'8', b'\\x0f', b'\\x8d', b'.', b'\\x8f', b'\\xbb...</td>\n",
       "    </tr>\n",
       "    <tr>\n",
       "      <th>2</th>\n",
       "      <td>[b'\\xee', b'\\x1b', b']', b'\\xa4', b'\\xbc', b'a...</td>\n",
       "      <td>[b'\\xb9', b'\\\\', b'*', b'\\x95', b'\\xfc', b'\\xb...</td>\n",
       "      <td>6514560</td>\n",
       "      <td>11</td>\n",
       "      <td>False</td>\n",
       "      <td>0</td>\n",
       "      <td>[b'd', b'\\xb1', b'\\x08', b'k', b'\\xa8', b'A', ...</td>\n",
       "      <td>214</td>\n",
       "      <td>2022-10-17 16:34:17.113830</td>\n",
       "      <td>[b'8', b'\\x0f', b'\\x8d', b'.', b'\\x8f', b'\\xbb...</td>\n",
       "    </tr>\n",
       "    <tr>\n",
       "      <th>3</th>\n",
       "      <td>[b'\\xa2', b'\\x1e', b'\\xc9', b'\\xd6', b'\\x84', ...</td>\n",
       "      <td>[b'\\xb9', b'\\\\', b'*', b'\\x95', b'\\xfc', b'\\xb...</td>\n",
       "      <td>10078080</td>\n",
       "      <td>13</td>\n",
       "      <td>False</td>\n",
       "      <td>0</td>\n",
       "      <td>[b'\\n', b'\\xdf', b'\\x0c', b',', b'k', b'\\xf5',...</td>\n",
       "      <td>232</td>\n",
       "      <td>2022-10-17 16:34:18.141927</td>\n",
       "      <td>[b'\\xe5', b'\\xc2', b'p', b'\\x1a', b'\\xec', b'N...</td>\n",
       "    </tr>\n",
       "    <tr>\n",
       "      <th>4</th>\n",
       "      <td>[b'\\xdf', b'\\xac', b'+', b'1', b'\\xe1', b'r', ...</td>\n",
       "      <td>[b'\\xb9', b'\\\\', b'*', b'\\x95', b'\\xfc', b'\\xb...</td>\n",
       "      <td>7906560</td>\n",
       "      <td>13</td>\n",
       "      <td>False</td>\n",
       "      <td>0</td>\n",
       "      <td>[b'\\xd8', b'\\x92', b'k', b'^', b'h', b'K', b'\\...</td>\n",
       "      <td>233</td>\n",
       "      <td>2022-10-17 16:34:18.141928</td>\n",
       "      <td>[b'\\xe5', b'\\xc2', b'p', b'\\x1a', b'\\xec', b'N...</td>\n",
       "    </tr>\n",
       "  </tbody>\n",
       "</table>\n",
       "</div>"
      ],
      "text/plain": [
       "                                              pubkey  \\\n",
       "0  [b'\\xdf', b'\\xac', b'+', b'1', b'\\xe1', b'r', ...   \n",
       "1  [b'\\xdf', b'\\xac', b'+', b'1', b'\\xe1', b'r', ...   \n",
       "2  [b'\\xee', b'\\x1b', b']', b'\\xa4', b'\\xbc', b'a...   \n",
       "3  [b'\\xa2', b'\\x1e', b'\\xc9', b'\\xd6', b'\\x84', ...   \n",
       "4  [b'\\xdf', b'\\xac', b'+', b'1', b'\\xe1', b'r', ...   \n",
       "\n",
       "                                               owner  lamports  slot  \\\n",
       "0  [b'\\xb9', b'\\\\', b'*', b'\\x95', b'\\xfc', b'\\xb...   7906560    10   \n",
       "1  [b'\\xb9', b'\\\\', b'*', b'\\x95', b'\\xfc', b'\\xb...   7906560    11   \n",
       "2  [b'\\xb9', b'\\\\', b'*', b'\\x95', b'\\xfc', b'\\xb...   6514560    11   \n",
       "3  [b'\\xb9', b'\\\\', b'*', b'\\x95', b'\\xfc', b'\\xb...  10078080    13   \n",
       "4  [b'\\xb9', b'\\\\', b'*', b'\\x95', b'\\xfc', b'\\xb...   7906560    13   \n",
       "\n",
       "   executable  rent_epoch                                               data  \\\n",
       "0       False           0  [b'\\xd8', b'\\x92', b'k', b'^', b'h', b'K', b'\\...   \n",
       "1       False           0  [b'\\xd8', b'\\x92', b'k', b'^', b'h', b'K', b'\\...   \n",
       "2       False           0  [b'd', b'\\xb1', b'\\x08', b'k', b'\\xa8', b'A', ...   \n",
       "3       False           0  [b'\\n', b'\\xdf', b'\\x0c', b',', b'k', b'\\xf5',...   \n",
       "4       False           0  [b'\\xd8', b'\\x92', b'k', b'^', b'h', b'K', b'\\...   \n",
       "\n",
       "   write_version                 updated_on  \\\n",
       "0            202 2022-10-17 16:34:16.602273   \n",
       "1            213 2022-10-17 16:34:17.113816   \n",
       "2            214 2022-10-17 16:34:17.113830   \n",
       "3            232 2022-10-17 16:34:18.141927   \n",
       "4            233 2022-10-17 16:34:18.141928   \n",
       "\n",
       "                                       txn_signature  \n",
       "0  [b'a', b'\\xce', b'\\xa7', b'\\xc8', b'\\xba', b'\\...  \n",
       "1  [b'8', b'\\x0f', b'\\x8d', b'.', b'\\x8f', b'\\xbb...  \n",
       "2  [b'8', b'\\x0f', b'\\x8d', b'.', b'\\x8f', b'\\xbb...  \n",
       "3  [b'\\xe5', b'\\xc2', b'p', b'\\x1a', b'\\xec', b'N...  \n",
       "4  [b'\\xe5', b'\\xc2', b'p', b'\\x1a', b'\\xec', b'N...  "
      ]
     },
     "execution_count": 1,
     "metadata": {},
     "output_type": "execute_result"
    }
   ],
   "source": [
    "import psycopg2\n",
    "\n",
    "conn = psycopg2.connect(\n",
    "    host=\"localhost\", \n",
    "    database=\"solana\",\n",
    "    user=\"solana\"\n",
    ")\n",
    "\n",
    "cur = conn.cursor()\n",
    "\n",
    "# %%\n",
    "cmd = \"\"\"\n",
    "select * from account\n",
    "union \n",
    "select * from account_audit\n",
    "order by slot, write_version asc\n",
    "\"\"\"\n",
    "\n",
    "import pandas as pd \n",
    "df = pd.read_sql_query(cmd, conn)\n",
    "print(\"# of examples found:\", len(df))\n",
    "\n",
    "cur.close()\n",
    "conn.close()\n",
    "\n",
    "df.head()"
   ]
  },
  {
   "cell_type": "code",
   "execution_count": 2,
   "metadata": {},
   "outputs": [],
   "source": [
    "from solana.publickey import PublicKey\n",
    "\n",
    "datas = []\n",
    "pks = []\n",
    "for i, row in df.iterrows():\n",
    "    pk = row.pubkey\n",
    "    pk = PublicKey(b''.join([pk[i] for i in range(pk.nbytes)]))\n",
    "    pks.append(str(pk))\n",
    "\n",
    "    data = row.data\n",
    "    data = b''.join([data[i] for i in range(data.nbytes)])\n",
    "    datas.append(data)\n",
    "\n",
    "df['_data'] = datas\n",
    "df['pk'] = pks"
   ]
  },
  {
   "cell_type": "code",
   "execution_count": 3,
   "metadata": {},
   "outputs": [
    {
     "name": "stdout",
     "output_type": "stream",
     "text": [
      "program pk: DUZwKJKAk2C9S88BYvQzck1M1i5hySQjxB4zW6tJ29Nw\n"
     ]
    }
   ],
   "source": [
    "from anchorpy import Program\n",
    "from solana.publickey import PublicKey\n",
    "from pathlib import Path \n",
    "from anchorpy import Idl \n",
    "import json \n",
    "\n",
    "file = Path('../driftpy/protocol-v2/target/idl/clearing_house.json')\n",
    "with file.open() as f:\n",
    "    idl_dict = json.load(f)\n",
    "idl = Idl.from_json(idl_dict)\n",
    "program = Program(idl, PublicKey(0), None)\n",
    "\n",
    "import re \n",
    "with open(f'../driftpy/protocol-v2/programs/clearing_house/src/lib.rs', 'r') as f:\n",
    "    data = f.read()\n",
    "re_result = re.search('\\[cfg\\(not\\(feature = \\\"mainnet-beta\\\"\\)\\)\\]\\ndeclare_id!\\(\\\"(.*)\\\"\\)', data)\n",
    "program_id = PublicKey(re_result.group(1))\n",
    "print('program pk:', program_id)"
   ]
  },
  {
   "cell_type": "code",
   "execution_count": 6,
   "metadata": {},
   "outputs": [
    {
     "data": {
      "text/plain": [
       "21"
      ]
     },
     "execution_count": 6,
     "metadata": {},
     "output_type": "execute_result"
    }
   ],
   "source": [
    "import sys\n",
    "sys.path.insert(0, '../driftpy/src/')\n",
    "\n",
    "import json\n",
    "from driftpy.addresses import * \n",
    "\n",
    "trial_outpath = 'tmp3'\n",
    "with open(f\"../backtest/{trial_outpath}/trial_no_oracle_guards/users.json\", 'r') as f:\n",
    "    users = json.load(f)\n",
    "\n",
    "user_auths = [PublicKey(u) for u in users.values()]\n",
    "users = [get_user_account_public_key(program_id, auth) for auth in user_auths]\n",
    "user_stats = [\n",
    "    get_user_stats_account_public_key(program_id, pk)\n",
    "    for pk in user_auths\n",
    "]\n",
    "\n",
    "account_pks = {\n",
    "    'State': get_state_public_key(program_id),\n",
    "    'PerpMarket': get_perp_market_public_key(program_id, 0), # only single market rn\n",
    "    'User': users,\n",
    "    'UserStats': user_stats,\n",
    "}\n",
    "len(users)"
   ]
  },
  {
   "cell_type": "code",
   "execution_count": 7,
   "metadata": {},
   "outputs": [
    {
     "name": "stdout",
     "output_type": "stream",
     "text": [
      "/Users/brennan/Documents/drift/py-drift/drift-sim/solana-accountsdb-plugin-postgres/data/tmp3\n"
     ]
    }
   ],
   "source": [
    "save_path = Path('data')/trial_outpath\n",
    "save_path.mkdir(exist_ok=True, parents=True)\n",
    "print(save_path.absolute())\n",
    "\n",
    "def extract(pk, type):\n",
    "    type_rows = df[df['pk'] == str(pk)]\n",
    "    type_history = []\n",
    "    for i, r in type_rows.iterrows():\n",
    "        data = r['_data']\n",
    "        type_obj = program.account[type]._coder.accounts.parse(data).data\n",
    "        type_history.append(type_obj)\n",
    "    return type_history\n",
    "\n",
    "i = 0\n",
    "perp_market_history = extract(account_pks['PerpMarket'], 'PerpMarket')\n",
    "perp_market_df = []\n",
    "for perp_market in perp_market_history:\n",
    "    d = perp_market.__dict__\n",
    "    # todo do things\n",
    "    perp_market_df.append(d)\n",
    "perp_market_df = pd.DataFrame(perp_market_df)\n",
    "perp_market_df.to_csv(save_path/f\"perp_market_{i}.csv\", index=False)\n",
    "\n",
    "i = 0\n",
    "state_history = extract(account_pks['State'], 'State')\n",
    "state_df = []\n",
    "for state in state_history:\n",
    "    d = state.__dict__\n",
    "    # todo do things\n",
    "    state_df.append(d)\n",
    "state_df = pd.DataFrame(state_df)\n",
    "state_df.to_csv(save_path/f\"state_{i}.csv\", index=False)\n",
    "\n",
    "for i, (user, user_stat) in enumerate(zip(users, user_stats)):\n",
    "    user_stats_history = extract(user_stat, \"UserStats\")\n",
    "    user_history = extract(user, \"User\")\n",
    "\n",
    "    user_df = []\n",
    "    for user in user_history:\n",
    "        d = user.__dict__\n",
    "        # todo do things\n",
    "        user_df.append(d)\n",
    "    user_df = pd.DataFrame(user_df)\n",
    "    user_df.to_csv(save_path/f\"user_{i}.csv\", index=False)\n",
    "\n",
    "    user_stats_df = []\n",
    "    for user_s in user_stats_history:\n",
    "        d = user_s.__dict__\n",
    "        # todo do things\n",
    "        user_stats_df.append(d)\n",
    "    user_stats_df = pd.DataFrame(user_stats_df)\n",
    "    user_stats_df.to_csv(save_path/f\"user_stats_{i}.csv\", index=False)"
   ]
  },
  {
   "cell_type": "code",
   "execution_count": 8,
   "metadata": {},
   "outputs": [
    {
     "data": {
      "text/plain": [
       "(21, 21)"
      ]
     },
     "execution_count": 8,
     "metadata": {},
     "output_type": "execute_result"
    }
   ],
   "source": [
    "len(users), len(user_stats)"
   ]
  },
  {
   "cell_type": "code",
   "execution_count": null,
   "metadata": {},
   "outputs": [],
   "source": []
  }
 ],
 "metadata": {
  "kernelspec": {
   "display_name": "Python 3.10.4 ('10')",
   "language": "python",
   "name": "python3"
  },
  "language_info": {
   "codemirror_mode": {
    "name": "ipython",
    "version": 3
   },
   "file_extension": ".py",
   "mimetype": "text/x-python",
   "name": "python",
   "nbconvert_exporter": "python",
   "pygments_lexer": "ipython3",
   "version": "3.10.4"
  },
  "orig_nbformat": 4,
  "vscode": {
   "interpreter": {
    "hash": "7a4fbd860e800df71bf0bd3c91ce94aea665d6c58d8dccfe7d8d2df798748a1f"
   }
  }
 },
 "nbformat": 4,
 "nbformat_minor": 2
}
